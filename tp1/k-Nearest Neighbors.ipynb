{
 "cells": [
  {
   "cell_type": "code",
   "execution_count": 1,
   "metadata": {},
   "outputs": [],
   "source": [
    "%matplotlib inline\n",
    "import numpy as np\n",
    "import matplotlib.pyplot as plt\n",
    "plt.rcParams[\"figure.figsize\"] = (8, 8)\n",
    "plt.rcParams[\"font.size\"] = 14"
   ]
  },
  {
   "cell_type": "markdown",
   "metadata": {},
   "source": [
    "# Classification via k-Nearest Neighbors"
   ]
  },
  {
   "cell_type": "markdown",
   "metadata": {},
   "source": [
    "LGénérons d’abord des données synthétiques, ou artifcielles, avant de travailler avec des vrais problemes.   Notre modèle génératif sera un modèle de mélange gaussien (GMM, Gaussian Mixture Model): pour chaque classe, nous allons d'abord échantillonner 10 centroïdes différents\n",
    "${\\vec m}_k$ from $\\mathcal{N} ({\\vec 0}, I_2)$, puis choisissez des centroïdes au hasard et échantillonnez les données réelles de\n",
    "$\\mathcal{N} ({\\vec m}_k, \\frac{1}{5} I_2)$.\n",
    "\n",
    "Nous commençons par échantillonner les centroïdes et les tracer."
   ]
  },
  {
   "cell_type": "code",
   "execution_count": 2,
   "metadata": {},
   "outputs": [
    {
     "data": {
      "text/plain": [
       "Text(0.5,1,'Centroids')"
      ]
     },
     "execution_count": 2,
     "metadata": {},
     "output_type": "execute_result"
    },
    {
     "data": {
      "image/png": "[encoded data removed]",
      "text/plain": [
       "<Figure size 432x288 with 1 Axes>"
      ]
     },
     "metadata": {
      "needs_background": "light"
     },
     "output_type": "display_data"
    }
   ],
   "source": [
    "# Samples 10 centroids for each class from two different bivariate Normal distributions\n",
    "centroids_per_class = 10\n",
    "\n",
    "class0_centroids = [1, 0] + np.random.randn(centroids_per_class, 2)\n",
    "class1_centroids = [0, 1] + np.random.randn(centroids_per_class, 2)\n",
    "\n",
    "# Plot centroids\n",
    "plt.plot(class0_centroids[:, 0], class0_centroids[:, 1], \"o\", markersize=8)\n",
    "plt.plot(class1_centroids[:, 0], class1_centroids[:, 1], \"x\", markersize=8)\n",
    "plt.title(\"Centroids\")"
   ]
  },
  {
   "cell_type": "markdown",
   "metadata": {},
   "source": [
    "Une fois que nous avons les centroïdes, nous pouvons échantillonner les données réelles"
   ]
  },
  {
   "cell_type": "code",
   "execution_count": 3,
   "metadata": {},
   "outputs": [
    {
     "data": {
      "text/plain": [
       "Text(0.5,1,'Samples')"
      ]
     },
     "execution_count": 3,
     "metadata": {},
     "output_type": "execute_result"
    },
    {
     "data": {
      "image/png": "[encoded data removed]",
      "text/plain": [
       "<Figure size 432x288 with 1 Axes>"
      ]
     },
     "metadata": {
      "needs_background": "light"
     },
     "output_type": "display_data"
    }
   ],
   "source": [
    "samples_per_class = 100\n",
    "\n",
    "# Sample actual data sampling from Normal distributions positioned around the centroids\n",
    "class0_labels = np.random.randint(10, size = samples_per_class)\n",
    "class1_labels = np.random.randint(10, size = samples_per_class)\n",
    "\n",
    "class0_samples = class0_centroids[class0_labels, :] + np.sqrt(1. / 5) * np.random.randn(samples_per_class, 2)\n",
    "class1_samples = class1_centroids[class1_labels, :] + np.sqrt(1. / 5) * np.random.randn(samples_per_class, 2)\n",
    "\n",
    "# Plot data\n",
    "plt.plot(class0_samples[:, 0], class0_samples[:, 1], \"o\", markersize=8)\n",
    "plt.plot(class1_samples[:, 0], class1_samples[:, 1], \"x\", markersize=8)\n",
    "plt.title(\"Samples\")"
   ]
  },
  {
   "cell_type": "markdown",
   "metadata": {},
   "source": [
    "C’est le problème que nous voulons résoudre: on nous donne ces points et nous voulons trouver une frontière de décision assurant la généralisation, c’est-à-dire que nous pourrons classer correctement les nouveaux échantillons une fois qu’ils nous auront été fournis.\n",
    "\n",
    "Groupons les données de manière agréable. Pour les problèmes de classification binaire comme celui-ci, la manière dont les données sont arrangées est généralement toujours la même.\n",
    "- une matrice des données $ X $ de taille $ N \\ fois P $, où $ N $ est le nombre d'échantillons et $ P $ est le nombre de parametres (ou descripteurs/featurs) (dans notre cas, $ N = 200 $ et $ P = 2 $) ;\n",
    "- un vecteur de label $ y \\ in \\ {0, 1 \\} ^ N $ indiquant à quelle classe appartient chaque échantillon"
   ]
  },
  {
   "cell_type": "code",
   "execution_count": 4,
   "metadata": {},
   "outputs": [
    {
     "name": "stdout",
     "output_type": "stream",
     "text": [
      "[[-0.26178468  0.04405138]\n",
      " [ 0.24129457 -0.18518532]\n",
      " [ 1.77159847  0.96084955]\n",
      " [ 2.16628926  0.17976203]\n",
      " [ 0.75401834  0.88573347]\n",
      " [-0.25875469 -0.50497569]\n",
      " [-0.15147847  0.83770659]\n",
      " [-0.92799666  1.95560519]\n",
      " [ 0.09198359  0.50886732]\n",
      " [ 1.55817435 -1.30328639]\n",
      " [ 2.40657249  0.78257136]\n",
      " [ 1.28135875 -1.11490935]\n",
      " [ 1.5127631   0.05137843]\n",
      " [ 0.04020076 -0.36419125]\n",
      " [ 2.43667522 -1.61752602]\n",
      " [ 1.63997987 -2.10614552]\n",
      " [ 0.9001601  -0.89514875]\n",
      " [ 0.49358479 -0.58660363]\n",
      " [ 0.15952156 -0.23137503]\n",
      " [ 1.81375648 -1.61374591]\n",
      " [ 2.28679192 -0.72064473]\n",
      " [ 2.19291419 -2.19765304]\n",
      " [ 0.75052682 -1.45580869]\n",
      " [ 0.89528023 -0.95295372]\n",
      " [ 1.86793132 -0.06063278]\n",
      " [-0.61048317 -0.98293929]\n",
      " [ 1.05227811 -0.75134989]\n",
      " [ 1.83112663  1.31212749]\n",
      " [ 1.18899819 -1.02138623]\n",
      " [ 0.66438016 -1.1541787 ]\n",
      " [ 0.75600944 -0.71612027]\n",
      " [ 1.6218277  -0.41582481]\n",
      " [ 2.14753272 -1.02464945]\n",
      " [-0.03444604 -0.23102386]\n",
      " [-0.38660294 -0.62964889]\n",
      " [-0.32746227 -0.20568781]\n",
      " [ 1.43419795  0.5468438 ]\n",
      " [ 1.82339385  0.79332249]\n",
      " [ 1.95246937  0.75281012]\n",
      " [ 2.73558178  0.18398077]\n",
      " [ 0.9116501  -0.74531749]\n",
      " [ 1.32741693 -1.04975499]\n",
      " [ 0.50000949 -0.73251327]\n",
      " [-0.78609094 -0.36951996]\n",
      " [-1.07591374  1.65618487]\n",
      " [ 0.03463805  0.47306493]\n",
      " [ 2.31553988 -0.70036323]\n",
      " [ 0.10753406 -0.17205191]\n",
      " [ 0.3067646  -0.26844628]\n",
      " [ 1.74702359  0.77496596]\n",
      " [-0.89045444 -0.0437089 ]\n",
      " [ 2.05915194  0.68941096]\n",
      " [-0.47979139 -0.47312913]\n",
      " [-0.94190912  1.05690845]\n",
      " [ 0.43809703  0.70145127]\n",
      " [ 2.27020851 -0.13465431]\n",
      " [ 0.01282498 -0.99106044]\n",
      " [ 2.21417653  0.89918264]\n",
      " [ 0.48462123  1.14476326]\n",
      " [ 0.66624412 -0.8681088 ]\n",
      " [ 0.28718377 -0.99780275]\n",
      " [ 1.18197854  0.71028944]\n",
      " [ 0.87137622  0.29790162]\n",
      " [-0.45550945  0.25272649]\n",
      " [-0.56054285  0.44857117]\n",
      " [ 1.12596565 -0.59293189]\n",
      " [ 0.48583516 -0.53714374]\n",
      " [ 1.65332133  0.53203401]\n",
      " [ 0.0173201  -1.18361881]\n",
      " [ 0.92474544 -1.7165481 ]\n",
      " [ 1.48704261 -1.26162346]\n",
      " [-0.06590976  1.18063877]\n",
      " [ 0.03901999  0.36979234]\n",
      " [ 1.97258001 -1.49462111]\n",
      " [ 0.80695479  0.40126751]\n",
      " [ 0.71753696  0.30450967]\n",
      " [ 0.34691171 -0.33777941]\n",
      " [ 0.4630783   0.90038812]\n",
      " [ 0.62699177  1.03736208]\n",
      " [ 1.55861611  1.16312089]\n",
      " [-0.70968339  1.02777257]\n",
      " [ 0.86582487 -1.60875058]\n",
      " [ 0.03771591 -0.26787692]\n",
      " [ 0.11970355 -0.58120186]\n",
      " [ 2.50840608  0.19072253]\n",
      " [ 1.71756158 -1.52143813]\n",
      " [ 2.3649964   1.47029933]\n",
      " [-0.21540341  1.07938169]\n",
      " [ 1.06646224 -0.01676099]\n",
      " [ 1.9869409  -0.50390769]\n",
      " [ 0.53741247 -0.6852083 ]\n",
      " [ 1.76216453 -0.14288797]\n",
      " [ 0.6349598  -1.63368272]\n",
      " [-0.50091332  1.05924581]\n",
      " [ 2.06937817  0.33444827]\n",
      " [ 0.33802324  1.02726132]\n",
      " [ 0.50657241 -0.69308877]\n",
      " [ 0.24076613  0.21417436]\n",
      " [-1.37337009  0.96463249]\n",
      " [ 0.8197971  -1.45437955]\n",
      " [-2.45971796  2.02817365]\n",
      " [-1.18405567  1.34420898]\n",
      " [-0.22326551 -0.00621144]\n",
      " [-0.23553325  1.2091882 ]\n",
      " [-0.98703774  2.01219396]\n",
      " [-0.92717948  0.45041662]\n",
      " [-0.71172366  1.20495111]\n",
      " [ 0.41975057  1.14584526]\n",
      " [-2.12352361  1.99103896]\n",
      " [-0.60132406  1.24145204]\n",
      " [-1.12417212  1.81468301]\n",
      " [-3.39742017  2.04147142]\n",
      " [-0.37250327  1.75968089]\n",
      " [ 0.81359335  0.03352189]\n",
      " [-1.26341241  2.1569552 ]\n",
      " [-1.62884487  1.50059981]\n",
      " [ 1.67349463  1.11983809]\n",
      " [-0.5998208   1.46135511]\n",
      " [ 0.09279287 -0.33184789]\n",
      " [-0.24942176  0.45768696]\n",
      " [-1.85588202  1.94455733]\n",
      " [ 1.17355701  0.62044923]\n",
      " [ 0.18794686 -0.5380304 ]\n",
      " [-0.11894004  2.47052658]\n",
      " [-0.61162176  1.87956216]\n",
      " [ 0.41315832  1.51334072]\n",
      " [ 0.24871998  2.41742909]\n",
      " [-1.64210415  1.71471273]\n",
      " [-1.00334952  0.59752317]\n",
      " [-2.23668284  2.19773147]\n",
      " [ 0.25142185  1.49725801]\n",
      " [-1.13302627  1.10658651]\n",
      " [-0.02345475  0.49095603]\n",
      " [ 0.36760732  1.27033946]\n",
      " [-0.97795324  1.63448144]\n",
      " [ 0.69703444  0.37945803]\n",
      " [-0.9263437   0.92612835]\n",
      " [-0.09174126 -0.06449247]\n",
      " [ 1.50356134  0.70481694]\n",
      " [ 0.31904197  2.29904732]\n",
      " [ 0.65552599  0.68342693]\n",
      " [ 0.22535658  1.01815005]\n",
      " [-2.18740712  1.52660514]\n",
      " [-0.83541656  0.97354093]\n",
      " [-0.90793906  1.0923366 ]\n",
      " [-1.81247498  1.52267071]\n",
      " [ 0.5000632   1.44770665]\n",
      " [ 0.90140483  1.47614523]\n",
      " [ 0.89511594  0.02429861]\n",
      " [ 0.42278627  0.67426356]\n",
      " [-1.42706737  1.39037487]\n",
      " [ 0.60578411  1.35888875]\n",
      " [ 0.88456712  0.77257925]\n",
      " [-2.74459897  1.94933804]\n",
      " [-2.04704099  0.85200783]\n",
      " [-0.26049708  1.23725166]\n",
      " [ 0.49228713  1.18190371]\n",
      " [ 0.57474139 -0.68363651]\n",
      " [ 1.17316616  1.02561115]\n",
      " [ 0.42142875  0.1478954 ]\n",
      " [-0.18153542  2.3523617 ]\n",
      " [-2.56635231  1.63369525]\n",
      " [-0.9209652   0.68477906]\n",
      " [ 0.55217844  2.2726309 ]\n",
      " [-0.28196347  0.7724065 ]\n",
      " [ 1.16282013  0.206676  ]\n",
      " [ 1.40901694  1.2866595 ]\n",
      " [ 0.73900637  0.15133999]\n",
      " [-0.82521416  1.91878958]\n",
      " [-0.58177159  1.58857104]\n",
      " [ 0.65173888  0.84794469]\n",
      " [-1.36081026  2.8121799 ]\n",
      " [ 0.20244393  0.84319719]\n",
      " [-0.47819563  0.66010575]\n",
      " [ 0.77693948  0.44611135]\n",
      " [-0.72477562  2.91098395]\n",
      " [-1.05302017  1.08210619]\n",
      " [-0.38532865  1.59455971]\n",
      " [ 0.5192255   1.3117862 ]\n",
      " [-0.10901737  0.59508728]\n",
      " [ 0.27209679  0.43128913]\n",
      " [-0.10606977  0.09214361]\n",
      " [-0.64083435  0.13456383]\n",
      " [-3.06949286  1.50026481]\n",
      " [-2.05553644  1.2580307 ]\n",
      " [ 0.91451106  1.18943516]\n",
      " [-1.24007866  0.82210457]\n",
      " [ 0.60530737  1.0703429 ]\n",
      " [-2.06449753  1.32999039]\n",
      " [ 0.78506938  0.84863309]\n",
      " [-0.16812187  1.84931264]\n",
      " [-1.49092513  0.91498217]\n",
      " [-0.55658381  1.00010374]\n",
      " [-0.89614104  0.77813645]\n",
      " [ 0.43902324  0.91492791]\n",
      " [ 0.32698743  0.40688302]\n",
      " [ 0.39448237 -0.06525366]\n",
      " [-1.5540732   2.26213271]\n",
      " [-1.63810795  2.35093104]\n",
      " [-1.78743778  1.01821648]]\n",
      "[0. 0. 0. 0. 0. 0. 0. 0. 0. 0. 0. 0. 0. 0. 0. 0. 0. 0. 0. 0. 0. 0. 0. 0.\n",
      " 0. 0. 0. 0. 0. 0. 0. 0. 0. 0. 0. 0. 0. 0. 0. 0. 0. 0. 0. 0. 0. 0. 0. 0.\n",
      " 0. 0. 0. 0. 0. 0. 0. 0. 0. 0. 0. 0. 0. 0. 0. 0. 0. 0. 0. 0. 0. 0. 0. 0.\n",
      " 0. 0. 0. 0. 0. 0. 0. 0. 0. 0. 0. 0. 0. 0. 0. 0. 0. 0. 0. 0. 0. 0. 0. 0.\n",
      " 0. 0. 0. 0. 1. 1. 1. 1. 1. 1. 1. 1. 1. 1. 1. 1. 1. 1. 1. 1. 1. 1. 1. 1.\n",
      " 1. 1. 1. 1. 1. 1. 1. 1. 1. 1. 1. 1. 1. 1. 1. 1. 1. 1. 1. 1. 1. 1. 1. 1.\n",
      " 1. 1. 1. 1. 1. 1. 1. 1. 1. 1. 1. 1. 1. 1. 1. 1. 1. 1. 1. 1. 1. 1. 1. 1.\n",
      " 1. 1. 1. 1. 1. 1. 1. 1. 1. 1. 1. 1. 1. 1. 1. 1. 1. 1. 1. 1. 1. 1. 1. 1.\n",
      " 1. 1. 1. 1. 1. 1. 1. 1.]\n"
     ]
    }
   ],
   "source": [
    "X = np.vstack((class0_samples, class1_samples))\n",
    "y = np.hstack((np.zeros(samples_per_class), np.ones(samples_per_class)))\n",
    "\n",
    "print(X)\n",
    "print(y)\n",
    "\n",
    "n_samples, n_features = np.shape(X)"
   ]
  },
  {
   "cell_type": "markdown",
   "metadata": {},
   "source": [
    "Ensuite, nous calculons la matrice de distance, une matrice $ N \\times N $ contenant la distance entre chaque échantillon et tous les autres (en avons-nous vraiment besoin?)\n",
    "\n",
    "**Exercice** : calculez la matrice de distance."
   ]
  },
  {
   "cell_type": "code",
   "execution_count": 5,
   "metadata": {},
   "outputs": [],
   "source": [
    "def compute_distances(X):\n",
    "    n_samples = len(X)\n",
    "    distances = np.zeros((n_samples, n_samples))\n",
    "    \n",
    "    # Here goes the algorithm\n",
    "    for i in range(n_samples):\n",
    "        for j in range(n_samples):\n",
    "            distances[i, j] = np.sqrt((X[i, 0] - X[j, 0]) ** 2 + (X[i, 1] - X[j, 1]) ** 2)\n",
    "    \n",
    "    return distances"
   ]
  },
  {
   "cell_type": "markdown",
   "metadata": {},
   "source": [
    "Nous ne voulons pas vraiment utiliser les boucles en Python, alors re-ecrivez cette routines sans boucles!"
   ]
  },
  {
   "cell_type": "code",
   "execution_count": 6,
   "metadata": {},
   "outputs": [
    {
     "name": "stdout",
     "output_type": "stream",
     "text": [
      "117 ms ± 8.91 ms per loop (mean ± std. dev. of 7 runs, 10 loops each)\n",
      "[[0.         0.55284554 2.230508   ... 2.56707897 2.68625381 1.81014227]\n",
      " [0.55284554 0.         1.91186453 ... 3.03524479 3.15658677 2.3587986 ]\n",
      " [2.230508   1.91186453 0.         ... 3.57119446 3.68217659 3.55949856]\n",
      " ...\n",
      " [2.56707897 3.03524479 3.57119446 ... 0.         0.12225785 1.2656171 ]\n",
      " [2.68625381 3.15658677 3.68217659 ... 0.12225785 0.         1.34105463]\n",
      " [1.81014227 2.3587986  3.55949856 ... 1.2656171  1.34105463 0.        ]]\n",
      "1.44 ms ± 83.2 µs per loop (mean ± std. dev. of 7 runs, 1000 loops each)\n",
      "[[0.         0.55284554 2.230508   ... 2.56707897 2.68625381 1.81014227]\n",
      " [0.55284554 0.         1.91186453 ... 3.03524479 3.15658677 2.3587986 ]\n",
      " [2.230508   1.91186453 0.         ... 3.57119446 3.68217659 3.55949856]\n",
      " ...\n",
      " [2.56707897 3.03524479 3.57119446 ... 0.         0.12225785 1.2656171 ]\n",
      " [2.68625381 3.15658677 3.68217659 ... 0.12225785 0.         1.34105463]\n",
      " [1.81014227 2.3587986  3.55949856 ... 1.2656171  1.34105463 0.        ]]\n",
      "172 µs ± 6.24 µs per loop (mean ± std. dev. of 7 runs, 10000 loops each)\n",
      "[[0.         0.55284554 2.230508   ... 2.56707897 2.68625381 1.81014227]\n",
      " [0.55284554 0.         1.91186453 ... 3.03524479 3.15658677 2.3587986 ]\n",
      " [2.230508   1.91186453 0.         ... 3.57119446 3.68217659 3.55949856]\n",
      " ...\n",
      " [2.56707897 3.03524479 3.57119446 ... 0.         0.12225785 1.2656171 ]\n",
      " [2.68625381 3.15658677 3.68217659 ... 0.12225785 0.         1.34105463]\n",
      " [1.81014227 2.3587986  3.55949856 ... 1.2656171  1.34105463 0.        ]]\n"
     ]
    }
   ],
   "source": [
    "# %load knn1.py\n",
    "# We don't really wanna use for loops in Python...\n",
    "def compute_distances(X):\n",
    "    n_samples = len(X)\n",
    "    distances = np.zeros((n_samples, n_samples))\n",
    "    for i in range(n_samples):\n",
    "        for j in range(n_samples):\n",
    "            distances[i, j] = np.sqrt((X[i, 0] - X[j, 0]) ** 2 + (X[i, 1] - X[j, 1]) ** 2)\n",
    "    return distances\n",
    "        \n",
    "distances = compute_distances(X)\n",
    "%timeit compute_distances(X)\n",
    "print(distances)\n",
    "\n",
    "# We can vectorize it!\n",
    "distances = np.sqrt(np.sum((X[:, np.newaxis] - X) ** 2, 2))\n",
    "%timeit np.sqrt(np.sum((X[:, np.newaxis] - X) ** 2, 2))\n",
    "print(distances)\n",
    "\n",
    "# Or use something that someone already wrote in C\n",
    "from scipy.spatial.distance import cdist\n",
    "distances = cdist(X, X)\n",
    "%timeit cdist(X, X)\n",
    "print(distances)"
   ]
  },
  {
   "cell_type": "markdown",
   "metadata": {},
   "source": [
    "En utilisant la matrice de distance, nous pouvons maintenant écrire notre algorithme!\n",
    "\n",
    "**Exercice**: écrivez une fonction qui calcule l'estimation du voisin $ k $ le plus proche pour chaque point de l'ensemble d'apprentissage. Astuce: recherchez la fonction `np.argpartition`. Quelle est l'erreur de formation?"
   ]
  },
  {
   "cell_type": "code",
   "execution_count": 7,
   "metadata": {},
   "outputs": [],
   "source": [
    "?np.argpartition"
   ]
  },
  {
   "cell_type": "code",
   "execution_count": 8,
   "metadata": {},
   "outputs": [
    {
     "name": "stdout",
     "output_type": "stream",
     "text": [
      "[0. 0. 0. 0. 1. 0. 1. 1. 1. 0. 0. 0. 0. 0. 0. 0. 0. 0. 0. 0. 0. 0. 0. 0.\n",
      " 0. 0. 0. 0. 0. 0. 0. 0. 0. 0. 0. 0. 0. 0. 0. 0. 0. 0. 0. 0. 1. 1. 0. 0.\n",
      " 0. 0. 0. 0. 0. 1. 1. 0. 0. 0. 1. 0. 0. 1. 1. 1. 1. 0. 0. 0. 0. 0. 0. 1.\n",
      " 1. 0. 1. 1. 0. 0. 1. 0. 1. 0. 0. 0. 0. 0. 0. 1. 0. 0. 0. 0. 0. 1. 0. 1.\n",
      " 0. 1. 1. 0. 1. 1. 0. 1. 1. 1. 1. 1. 1. 1. 1. 1. 1. 1. 1. 1. 0. 1. 0. 0.\n",
      " 1. 1. 0. 1. 1. 1. 1. 1. 1. 1. 1. 1. 1. 1. 1. 1. 1. 0. 0. 1. 1. 1. 1. 1.\n",
      " 1. 1. 1. 1. 1. 1. 1. 1. 1. 1. 1. 1. 1. 0. 1. 1. 1. 1. 1. 1. 1. 0. 1. 1.\n",
      " 1. 1. 1. 1. 0. 1. 1. 1. 1. 1. 1. 1. 0. 0. 0. 1. 1. 1. 1. 1. 1. 1. 1. 1.\n",
      " 1. 1. 0. 0. 0. 1. 1. 1.]\n",
      "0.2\n"
     ]
    }
   ],
   "source": [
    "def knn(X, y, k):\n",
    "    n_samples = len(y)\n",
    "    distances = cdist(X, X)\n",
    "    estimate = np.zeros(n_samples)\n",
    "    \n",
    "    # For each sample in the training set...\n",
    "    for i in range(n_samples):\n",
    "        # Look up k closest samples\n",
    "        nns = np.argpartition(distances[:, i], k)[:k]\n",
    "        \n",
    "        # Assign estimate as a majority vote\n",
    "        estimate[i] = int(sum(y[nns] == 1) > sum(y[nns] == 0))\n",
    "\n",
    "    return estimate\n",
    "\n",
    "est_labels = knn(X, y, 10)\n",
    "print(est_labels)\n",
    "\n",
    "# Let us compute the training error\n",
    "train_error = np.mean(y != est_labels)\n",
    "print(train_error)"
   ]
  },
  {
   "cell_type": "code",
   "execution_count": null,
   "metadata": {},
   "outputs": [],
   "source": [
    "# %load knn2.py\n",
    "def knn(X, y, k):\n",
    "    n_samples = len(y)\n",
    "    distances = cdist(X, X)\n",
    "    estimate = np.zeros(n_samples)\n",
    "    \n",
    "    # For each sample in the training set...\n",
    "    for i in range(n_samples):\n",
    "        # Look up k closest samples\n",
    "        nns = np.argpartition(distances[:, i], k)[:k]\n",
    "        \n",
    "        # Assign estimate as a majority vote\n",
    "        estimate[i] = int(sum(y[nns] == 1) > sum(y[nns] == 0))\n",
    "\n",
    "    return estimate\n",
    "\n",
    "est_labels = knn(X, y, 10)\n",
    "print(est_labels)\n",
    "\n",
    "# Let us compute the training error\n",
    "print(np.mean(y != est_labels))"
   ]
  },
  {
   "cell_type": "markdown",
   "metadata": {},
   "source": [
    "La première moitié du vecteur devrait être composée uniquement de 0 et la seconde moitié devrait être composée de 1; nous pouvons voir cependant qu'il y a des erreurs. Laissez-nous les comploter pour essayer de comprendre ce qui se passe."
   ]
  },
  {
   "cell_type": "code",
   "execution_count": 10,
   "metadata": {},
   "outputs": [
    {
     "data": {
      "text/plain": [
       "[<matplotlib.lines.Line2D at 0x813396630>]"
      ]
     },
     "execution_count": 10,
     "metadata": {},
     "output_type": "execute_result"
    },
    {
     "data": {
      "image/png": "[encoded data removed]",
      "text/plain": [
       "<Figure size 432x288 with 1 Axes>"
      ]
     },
     "metadata": {
      "needs_background": "light"
     },
     "output_type": "display_data"
    }
   ],
   "source": [
    "# Plot data\n",
    "plt.plot(X[y == 0, 0], X[y == 0, 1], \"o\", markersize=8)\n",
    "plt.plot(X[y == 1, 0], X[y == 1, 1], \"x\", markersize=8)\n",
    "\n",
    "# Draw a red circle around misclassified samples\n",
    "errors = (y != est_labels)\n",
    "plt.plot(X[errors, 0], X[errors, 1], \"o\", color=\"red\", markeredgewidth=3, markerfacecolor=\"white\", markersize=12, alpha=0.5)\n",
    "#plt.plot(X[errors, 0], X[errors, 1], \"o\", color=\"red\", mew=3, mfc=\"white\", ms=12, alpha=0.5)"
   ]
  },
  {
   "cell_type": "markdown",
   "metadata": {},
   "source": [
    "Comme on pouvait s'y attendre, des erreurs se produisent dans des régions où la majorité des points appartiennent à l'autre classe.\n",
    "\n",
    "Mais que se passe-t-il lorsque nous essayons de classer des points qui ne sont pas dans le set d'entrainement (le training set)? Il y a plusieurs façons d'évaluer cela. Par exemple, nous aurions pu utiliser seulement une partie de nos données dans l'ensemble de formation (environ 80%) et utiliser le reste pour calculer l'erreur dite de test.\n",
    "Puisque dans notre cas cependant le modèle génératif est connu, nous pourrions aussi bien en extraire davantage d’échantillons."
   ]
  },
  {
   "cell_type": "code",
   "execution_count": 11,
   "metadata": {},
   "outputs": [
    {
     "name": "stdout",
     "output_type": "stream",
     "text": [
      "[[1.73286698 0.23771069 2.06126238 ... 1.20061892 2.03379171 0.80440486]\n",
      " [1.43289513 0.33003046 1.50905632 ... 1.30173081 2.44881589 1.33237237]\n",
      " [0.49774922 2.13820975 1.85814296 ... 1.5006743  2.88384097 2.60435031]\n",
      " ...\n",
      " [3.23562023 2.79198094 4.44098417 ... 2.16186317 0.68967303 1.79204485]\n",
      " [3.35144712 2.91186683 4.56320575 ... 2.28040054 0.80501274 1.90808875]\n",
      " [3.11194249 2.04606438 3.86662951 ... 2.06871612 1.27537412 1.04966476]]\n",
      "(200, 20000)\n"
     ]
    }
   ],
   "source": [
    "# Sample test data from the model\n",
    "testsamples_per_class = 10000\n",
    "\n",
    "class0_testlabels = np.random.randint(10, size = testsamples_per_class)\n",
    "class1_testlabels = np.random.randint(10, size = testsamples_per_class)\n",
    "class0_testsamples = class0_centroids[class0_testlabels, :] + np.sqrt(1. / 5) * np.random.randn(testsamples_per_class, 2)\n",
    "class1_testsamples = class1_centroids[class1_testlabels, :] + np.sqrt(1. / 5) * np.random.randn(testsamples_per_class, 2)\n",
    "\n",
    "X_test = np.vstack((class0_testsamples, class1_testsamples))\n",
    "y_test = np.hstack((np.zeros(testsamples_per_class), np.ones(testsamples_per_class)))\n",
    "\n",
    "# Compute distance matrix between X and X_test\n",
    "distances_test = cdist(X, X_test)\n",
    "print(distances_test)\n",
    "print(np.shape(distances_test))"
   ]
  },
  {
   "cell_type": "code",
   "execution_count": 12,
   "metadata": {},
   "outputs": [
    {
     "data": {
      "text/plain": [
       "[<matplotlib.lines.Line2D at 0x8133ecbe0>]"
      ]
     },
     "execution_count": 12,
     "metadata": {},
     "output_type": "execute_result"
    },
    {
     "data": {
      "image/png": "[encoded data removed]",
      "text/plain": [
       "<Figure size 432x288 with 1 Axes>"
      ]
     },
     "metadata": {
      "needs_background": "light"
     },
     "output_type": "display_data"
    }
   ],
   "source": [
    "# Plot test data\n",
    "plt.plot(X_test[y_test == 0, 0], X_test[y_test == 0, 1], \"o\", ms=8)\n",
    "plt.plot(X_test[y_test == 1, 0], X_test[y_test == 1, 1], \"x\", ms=8)"
   ]
  },
  {
   "cell_type": "markdown",
   "metadata": {},
   "source": [
    "Nous écrivons maintenant une fonction similaire à `knn` qui calcule les estimations non pas pour les points du jeu d’entraînement, mais pour les points d’un nouveau * test *."
   ]
  },
  {
   "cell_type": "code",
   "execution_count": 13,
   "metadata": {},
   "outputs": [
    {
     "name": "stdout",
     "output_type": "stream",
     "text": [
      "[0. 0. 0. ... 1. 1. 1.]\n",
      "0.20685\n"
     ]
    }
   ],
   "source": [
    "def knn_test(X_train, y_train, X_test, y_test, k):\n",
    "    n_train, n_test = len(y_train), len(y_test)\n",
    "    distances = cdist(X_train, X_test)\n",
    "    estimate = np.zeros(n_test)\n",
    "    \n",
    "    # For each sample in the test set...\n",
    "    for i in range(n_test):\n",
    "        # Look up k closest samples in the training set\n",
    "        nns = np.argpartition(distances[:, i], k)[:k]\n",
    "        \n",
    "        # Assign estimate as a majority vote\n",
    "        estimate[i] = int((sum(y_train[nns] == 1) + 1e-6 * np.random.randn()) > sum(y_train[nns] == 0))\n",
    "\n",
    "    return estimate\n",
    "\n",
    "est_testlabels = knn_test(X, y, X_test, y_test, 10)\n",
    "print(est_testlabels)\n",
    "\n",
    "# Let us compute the test error, now\n",
    "print(np.mean(y_test != est_testlabels))"
   ]
  },
  {
   "cell_type": "markdown",
   "metadata": {},
   "source": [
    "L’un des problèmes que nous rencontrons lorsque nous utilisons les voisins les plus proches de k $ est qu’il faut choisir une valeur pour $ k $ - en principe, on ne sait pas comment le faire!\n",
    "Pour mieux comprendre cela, voyons comment se comportent les erreurs d’entraînement et de test en fonction de $ k $."
   ]
  },
  {
   "cell_type": "code",
   "execution_count": 14,
   "metadata": {},
   "outputs": [
    {
     "name": "stdout",
     "output_type": "stream",
     "text": [
      "k = 1; train error = 0, test error = 0.24555\n",
      "k = 2; train error = 0.16, test error = 0.2575\n",
      "k = 3; train error = 0.14, test error = 0.223\n",
      "k = 4; train error = 0.165, test error = 0.22775\n",
      "k = 5; train error = 0.16, test error = 0.2182\n",
      "k = 6; train error = 0.185, test error = 0.2194\n",
      "k = 7; train error = 0.18, test error = 0.2143\n",
      "k = 8; train error = 0.19, test error = 0.2134\n",
      "k = 9; train error = 0.195, test error = 0.20575\n",
      "k = 10; train error = 0.2, test error = 0.20745\n",
      "k = 11; train error = 0.185, test error = 0.20425\n",
      "k = 12; train error = 0.195, test error = 0.2054\n",
      "k = 13; train error = 0.185, test error = 0.20445\n",
      "k = 14; train error = 0.195, test error = 0.2032\n",
      "k = 15; train error = 0.18, test error = 0.2028\n",
      "k = 16; train error = 0.195, test error = 0.20185\n",
      "k = 17; train error = 0.175, test error = 0.2009\n",
      "k = 18; train error = 0.195, test error = 0.2026\n",
      "k = 19; train error = 0.19, test error = 0.2022\n"
     ]
    },
    {
     "data": {
      "text/plain": [
       "Text(0,0.5,'misclassification error')"
      ]
     },
     "execution_count": 14,
     "metadata": {},
     "output_type": "execute_result"
    },
    {
     "data": {
      "image/png": "[encoded data removed]",
      "text/plain": [
       "<Figure size 432x288 with 1 Axes>"
      ]
     },
     "metadata": {
      "needs_background": "light"
     },
     "output_type": "display_data"
    }
   ],
   "source": [
    "# Convenience functions that compute the training and test errors, given training and test samples\n",
    "def compute_train_error(X, y, k=1):\n",
    "    y_hat = knn(X, y, k)\n",
    "    return np.mean(y != y_hat)\n",
    "    \n",
    "def compute_test_error(X_train, y_train, X_test, y_test, k=1):\n",
    "    y_hat = knn_test(X_train, y_train, X_test, y_test, k)\n",
    "    return np.mean(y_test != y_hat)\n",
    "\n",
    "# Run functions for k belonging to a range of values\n",
    "ks = np.arange(1, 20)\n",
    "train_error = []\n",
    "test_error = []\n",
    "for (i, k) in enumerate(ks):\n",
    "    train_error.append(compute_train_error(X, y, k))\n",
    "    test_error.append(compute_test_error(X, y, X_test, y_test, k))\n",
    "    print(\"k = %d; train error = %g, test error = %g\" % (k, train_error[-1], test_error[-1]))\n",
    "\n",
    "# Plot results\n",
    "plt.plot(ks, train_error, label = \"train\")\n",
    "plt.plot(ks, test_error, label = \"test\")\n",
    "plt.legend()\n",
    "plt.xlabel(r\"$k$\")\n",
    "plt.ylabel(\"misclassification error\")"
   ]
  },
  {
   "cell_type": "markdown",
   "metadata": {},
   "source": [
    "Il est instructif d’utiliser une autre quantité sur l’axe des x au lieu de $k$: le nombre de degrés de liberté $N / k$. En effet, plus le nombre $k$ est grand,   plus le nombre de paramètres effectifs est petit - pensons par exemple à la limite $k = N$ ,  où tout le monde se voit attribuer le meme label!"
   ]
  },
  {
   "cell_type": "code",
   "execution_count": 16,
   "metadata": {},
   "outputs": [
    {
     "name": "stdout",
     "output_type": "stream",
     "text": [
      "k = 1; train error = 0, test error = 0.24555\n",
      "k = 2; train error = 0.16, test error = 0.25495\n",
      "k = 3; train error = 0.14, test error = 0.223\n",
      "k = 4; train error = 0.165, test error = 0.2333\n",
      "k = 5; train error = 0.16, test error = 0.2182\n",
      "k = 6; train error = 0.185, test error = 0.21775\n",
      "k = 7; train error = 0.18, test error = 0.2143\n",
      "k = 8; train error = 0.19, test error = 0.2093\n",
      "k = 9; train error = 0.195, test error = 0.20575\n",
      "k = 10; train error = 0.2, test error = 0.20755\n",
      "k = 40; train error = 0.185, test error = 0.2023\n",
      "k = 70; train error = 0.195, test error = 0.2088\n",
      "k = 100; train error = 0.195, test error = 0.2184\n",
      "k = 130; train error = 0.215, test error = 0.22655\n"
     ]
    },
    {
     "data": {
      "text/plain": [
       "(0.0, 0.5)"
      ]
     },
     "execution_count": 16,
     "metadata": {},
     "output_type": "execute_result"
    },
    {
     "data": {
      "image/png": "[encoded data removed]",
      "text/plain": [
       "<Figure size 432x288 with 1 Axes>"
      ]
     },
     "metadata": {
      "needs_background": "light"
     },
     "output_type": "display_data"
    }
   ],
   "source": [
    "# Re-run the experiment above for a different range of values\n",
    "ks = np.r_[np.arange(1, 10), np.arange(10, 150, 30)]\n",
    "train_error = []\n",
    "test_error = []\n",
    "for k in ks:\n",
    "    train_error.append(compute_train_error(X, y, k))\n",
    "    test_error.append(compute_test_error(X, y, X_test, y_test, k))\n",
    "    print(\"k = %d; train error = %g, test error = %g\" % (k, train_error[-1], test_error[-1]))\n",
    "\n",
    "# Plot error as a function of the degrees of freedom\n",
    "plt.plot(len(y) / np.array(ks), train_error, \"-o\", label = \"train\")\n",
    "plt.plot(len(y) / np.array(ks), test_error, \"-o\", label = \"test\")\n",
    "plt.legend()\n",
    "plt.xlabel(r\"degrees of freedom $N / k$\")\n",
    "plt.ylabel(\"misclassification error\")\n",
    "plt.ylim((0.0, 0.5))"
   ]
  },
  {
   "cell_type": "markdown",
   "metadata": {},
   "source": [
    "Ce graphique rend explicite le fameux * compromis biais-variance * qui apparaît dans toutes les études statistiques. Si nous avons plus de paramètres, nous pouvons obtenir une erreur d’entraînement réduite, mais l’erreur de test (par analogie, de généralisation) augmente en fait, ce qui signifie que nous sur-ajustons (over-fitting en anglais)"
   ]
  },
  {
   "cell_type": "markdown",
   "metadata": {},
   "source": [
    "## A Python library for Machine Learning: scikit-learn"
   ]
  },
  {
   "cell_type": "markdown",
   "metadata": {},
   "source": [
    "Vous avez peut-être remarqué que l'exécution de notre implémentation $ k $ -NN pour 20000 échantillons commençait déjà à sembler un peu lente… C'est parce qu'elle n'est pas vraiment optimisée. Si nous voulions que les choses soient rapides, nous devrions recourir à du code C, en utilisant des extensions Python telles que Cython ou ctypes (c'est en fait ce que font pour nous des paquets tels que Numpy et Scipy).\n",
    "De plus, nous avons fait les choses très naïvement - par exemple, il n’est pas nécessaire de calculer la matrice de distance complète si on utilise des structures de données appropriées telles que kd-trees, etc.\n",
    "\n",
    "Heureusement pour nous, il y a des gens qui ont déjà écrit des versions optimisées de la plupart des algorithmes d'apprentissage automatique standard! L'un des package les. plus populaire est le projet scikit-learn, wui a débuté sous le nom de scikits.learn, un projet Google Summer of Code de David Cournapeau.  Elle est développée par de nombreux contributeurs, et notamment dans le monde académique par des instituts français d'enseignement supérieur et de recherche."
   ]
  },
  {
   "cell_type": "markdown",
   "metadata": {},
   "source": [
    "![scikit-learn website](sklearn.png)"
   ]
  },
  {
   "cell_type": "markdown",
   "metadata": {},
   "source": [
    "Voyons maintenant comment fonctionne l'implémentation k-NN de scikit-learn. Une chose intéressante à propos de scikit-learn est qu’ils ont de nombreux exemples disponibles en ligne. Nous pouvons donc simplement rechercher quelque chose de similaire à ce que nous essayons de faire. Pour la classification k-NN en particulier, il y a cette: http://scikit-learn.org/stable/auto_examples/neighbors/plot_classification.html#sphx-glr-auto-examples-neighbors-plot-classification-py"
   ]
  },
  {
   "cell_type": "code",
   "execution_count": 17,
   "metadata": {},
   "outputs": [
    {
     "data": {
      "text/plain": [
       "KNeighborsClassifier(algorithm='auto', leaf_size=30, metric='minkowski',\n",
       "           metric_params=None, n_jobs=None, n_neighbors=10, p=2,\n",
       "           weights='uniform')"
      ]
     },
     "execution_count": 17,
     "metadata": {},
     "output_type": "execute_result"
    }
   ],
   "source": [
    "from sklearn import neighbors\n",
    "clf = neighbors.KNeighborsClassifier(10)\n",
    "clf.fit(X, y)"
   ]
  },
  {
   "cell_type": "markdown",
   "metadata": {},
   "source": [
    "Et fait! Avec seulement trois lignes de code, nous avons pu répéter tout ce que nous avions fait jusqu'à présent. Voyons si nous obtenons la même erreur d’entraînement que précédemment."
   ]
  },
  {
   "cell_type": "code",
   "execution_count": 18,
   "metadata": {},
   "outputs": [
    {
     "name": "stdout",
     "output_type": "stream",
     "text": [
      "train/test error (for k = 10): 0.2/0.2076\n"
     ]
    }
   ],
   "source": [
    "train_error = np.mean(y != clf.predict(X))\n",
    "test_error = np.mean(y_test != clf.predict(X_test))\n",
    "#train_error = 1. - clf.score(X, y)\n",
    "#test_error = 1. - clf.score(X_test, y_test)\n",
    "\n",
    "print(\"train/test error (for k = 10): %g/%g\" % (train_error, test_error))"
   ]
  },
  {
   "cell_type": "markdown",
   "metadata": {},
   "source": [
    "Puisque les choses sont optimisées ici, nous pouvons même faire des choses plus cool, comme tracer les limites de décision réelles. Pour ce faire, générons une grille et calculons l'estimation pour chaque point de cette grille."
   ]
  },
  {
   "cell_type": "code",
   "execution_count": 19,
   "metadata": {},
   "outputs": [
    {
     "data": {
      "text/plain": [
       "[<matplotlib.lines.Line2D at 0x10276b400>]"
      ]
     },
     "execution_count": 19,
     "metadata": {},
     "output_type": "execute_result"
    },
    {
     "data": {
      "image/png": "[encoded data removed]",
      "text/plain": [
       "<Figure size 432x288 with 1 Axes>"
      ]
     },
     "metadata": {
      "needs_background": "light"
     },
     "output_type": "display_data"
    }
   ],
   "source": [
    "# Create a grid\n",
    "xx, yy = np.meshgrid(np.linspace(-5, 5, 101), np.linspace(-5, 5, 101))\n",
    "zz = clf.predict(np.c_[xx.ravel(), yy.ravel()])\n",
    "\n",
    "# Do some plotting\n",
    "zz = zz.reshape(xx.shape)\n",
    "plt.pcolormesh(xx, yy, zz, cmap = \"coolwarm\", alpha = 0.2)\n",
    "plt.plot(X[y == 0, 0], X[y == 0, 1], \"o\", markersize=8)\n",
    "plt.plot(X[y == 1, 0], X[y == 1, 1], \"x\", markersize=8)"
   ]
  },
  {
   "cell_type": "markdown",
   "metadata": {},
   "source": [
    "### Determining the best value of $k$ by cross-validation"
   ]
  },
  {
   "cell_type": "markdown",
   "metadata": {},
   "source": [
    "Une façon de déterminer la \"meilleure\" valeur de $ k $ consiste à partitionner notre ensemble de données en deux (ensembles de formation et de validation), puis à ajuster sa valeur de manière à minimiser l’erreur de validation (nous avons ensuite besoin d’un troisième ensemble permettant de calculer les valeurs). erreur de test - ne jamais ajuster vos paramètres et calculer l'erreur de test en utilisant le même ensemble!)\n",
    "\n",
    "Cependant, cela ne nous fournit pas de bonnes statistiques car le partitionnement n’est effectué qu’une seule fois; une meilleure façon de le faire consiste à partitionner le jeu de données à plusieurs reprises et à recalculer le score. C'est l'idée derrière la validation croisée.\n",
    "\n",
    "scikit-learn a de belles fonctions pratiques pour effectuer une validation croisée (cross-validation) a nous proposer. Nous l'utiliserons souvent par la suite:"
   ]
  },
  {
   "cell_type": "code",
   "execution_count": 20,
   "metadata": {},
   "outputs": [
    {
     "name": "stderr",
     "output_type": "stream",
     "text": [
      "/anaconda3/lib/python3.7/site-packages/sklearn/model_selection/_split.py:2053: FutureWarning: You should specify a value for 'cv' instead of relying on the default value. The default value will change from 3 to 5 in version 0.22.\n",
      "  warnings.warn(CV_WARNING, FutureWarning)\n"
     ]
    },
    {
     "name": "stdout",
     "output_type": "stream",
     "text": [
      "{'n_neighbors': 17}\n",
      "[0.725 0.7   0.785 0.74  0.75  0.765 0.795 0.78  0.79  0.79  0.795 0.8\n",
      " 0.81  0.805 0.815 0.815 0.82  0.815 0.815]\n"
     ]
    },
    {
     "name": "stderr",
     "output_type": "stream",
     "text": [
      "/anaconda3/lib/python3.7/site-packages/sklearn/model_selection/_search.py:841: DeprecationWarning: The default of the `iid` parameter will change from True to False in version 0.22 and will be removed in 0.24. This will change numeric results when test-set sizes are unequal.\n",
      "  DeprecationWarning)\n"
     ]
    }
   ],
   "source": [
    "from sklearn.model_selection import GridSearchCV\n",
    "\n",
    "# Set up the grid search\n",
    "parameters = [{'n_neighbors': np.arange(1, 20)}]\n",
    "clf = GridSearchCV(neighbors.KNeighborsClassifier(n_neighbors = 1), parameters)\n",
    "clf.fit(X, y)\n",
    "\n",
    "# Print results\n",
    "print(clf.best_params_)\n",
    "print(clf.cv_results_[\"mean_test_score\"])"
   ]
  },
  {
   "cell_type": "markdown",
   "metadata": {},
   "source": [
    "Voyons comment cela fonctionne sur le test-set:"
   ]
  },
  {
   "cell_type": "code",
   "execution_count": 21,
   "metadata": {},
   "outputs": [
    {
     "name": "stdout",
     "output_type": "stream",
     "text": [
      "train/test error (for optimal k): 0.175/0.2009\n"
     ]
    }
   ],
   "source": [
    "train_error = np.mean(y != clf.predict(X))\n",
    "test_error = np.mean(y_test != clf.predict(X_test))\n",
    "print(\"train/test error (for optimal k): %g/%g\" % (train_error, test_error))"
   ]
  },
  {
   "cell_type": "markdown",
   "metadata": {},
   "source": [
    "## Classification on real datasets: MNIST"
   ]
  },
  {
   "cell_type": "markdown",
   "metadata": {},
   "source": [
    "Enfin, laissez-nous travailler avec un vrai jeu de données! Si vous avez déjà étudié un peu de machine learning et de statistiques, vous connaissez probablement le jeu de données MNIST composé de chiffres manuscrits. C'est l'un des ensembles de données les plus célèbres utilisés pour l'analyse comparative des algorithmes de classification et de classification.\n",
    "\n",
    "Il est également inclus dans scikit-learn:"
   ]
  },
  {
   "cell_type": "code",
   "execution_count": 50,
   "metadata": {},
   "outputs": [],
   "source": [
    "from sklearn.datasets import fetch_openml\n",
    "mnist = fetch_openml('mnist_784')"
   ]
  },
  {
   "cell_type": "markdown",
   "metadata": {},
   "source": [
    "Jetons un coup d'oeil aux données pour voir à quoi elles ressemblent."
   ]
  },
  {
   "cell_type": "code",
   "execution_count": 51,
   "metadata": {},
   "outputs": [
    {
     "name": "stdout",
     "output_type": "stream",
     "text": [
      "(70000, 784)\n",
      "(70000,)\n"
     ]
    },
    {
     "data": {
      "image/png": "[encoded data removed]",
      "text/plain": [
       "<Figure size 432x288 with 1 Axes>"
      ]
     },
     "metadata": {
      "needs_background": "light"
     },
     "output_type": "display_data"
    }
   ],
   "source": [
    "X = mnist.data\n",
    "y = mnist.target\n",
    "print(X.shape)\n",
    "print(y.shape)\n",
    "\n",
    "n_samples, n_features = np.shape(X)\n",
    "\n",
    "# Plot a sample\n",
    "plt.imshow(X[20000, :].reshape((int(np.sqrt(n_features)), -1)), cmap=\"gray\")\n",
    "\n",
    "# Partition set into train/test\n",
    "samples = np.random.randint(60000, size = 1000)\n",
    "X_train, y_train = X[samples, :], y[samples]\n",
    "X_test, y_test = X[60000:, :], y[60000:]"
   ]
  },
  {
   "cell_type": "code",
   "execution_count": 83,
   "metadata": {},
   "outputs": [
    {
     "name": "stdout",
     "output_type": "stream",
     "text": [
      "train/test error: 0.088/0.1243\n"
     ]
    }
   ],
   "source": [
    "clf = neighbors.KNeighborsClassifier(n_neighbors=5)\n",
    "clf.fit(X_train, y_train)\n",
    "\n",
    "train_error = 1. - clf.score(X_train, y_train)\n",
    "test_error = 1. - clf.score(X_test, y_test)\n",
    "print(\"train/test error: %g/%g\" % (train_error, test_error))"
   ]
  },
  {
   "cell_type": "markdown",
   "metadata": {},
   "source": [
    "Ce n'est pas mauvais...   mais pas tellement bon non plus! Ce n'est pas tres rapide pour commencer... Vous pouvez essayer d'augmenter le nombre d'elements dans le trainign set (ici seulement 1000). Regardons les échantillons mal classés."
   ]
  },
  {
   "cell_type": "code",
   "execution_count": 84,
   "metadata": {
    "scrolled": true
   },
   "outputs": [
    {
     "name": "stdout",
     "output_type": "stream",
     "text": [
      "(array([ 17,  21,  26,  34,  57,  59,  65,  86,  99, 103, 105, 110, 111,\n",
      "       120, 153, 168, 187, 213, 220, 238, 250, 262, 267, 326, 346, 352,\n",
      "       354, 367, 377, 379, 390, 419, 420, 446, 453, 474, 492, 497, 501,\n",
      "       539, 551, 569, 571, 575, 576, 577, 578, 599, 608, 621, 629, 667,\n",
      "       676, 680, 690, 734, 746, 748, 756, 768, 777, 785, 799, 800, 804,\n",
      "       806, 824, 847, 850, 851, 852, 856, 860, 893, 898, 904, 919, 924,\n",
      "       933, 938, 940, 975, 976, 977, 981, 988, 990, 999]),)\n"
     ]
    },
    {
     "data": {
      "text/plain": [
       "Text(0.5,1,'predicted label: 2')"
      ]
     },
     "execution_count": 84,
     "metadata": {},
     "output_type": "execute_result"
    },
    {
     "data": {
      "image/png": "[encoded data removed]",
      "text/plain": [
       "<Figure size 432x288 with 4 Axes>"
      ]
     },
     "metadata": {
      "needs_background": "light"
     },
     "output_type": "display_data"
    }
   ],
   "source": [
    "errors = np.where(y_train != clf.predict(X_train))\n",
    "print(errors)\n",
    "\n",
    "from random import sample\n",
    "nums=sample(list(errors[0]),4)\n",
    "\n",
    "fig, axs = plt.subplots(2, 2)\n",
    "axs[0, 0].imshow(X[nums[0], :].reshape((int(np.sqrt(n_features)), -1)), cmap=\"gray\")\n",
    "axs[0, 0].set_title(\"predicted label: %d\" % (clf.predict(X_train[nums[0], :].reshape(1, -1))))\n",
    "axs[0, 1].imshow(X[nums[1], :].reshape((int(np.sqrt(n_features)), -1)), cmap=\"gray\")\n",
    "axs[0, 1].set_title(\"predicted label: %d\" % (clf.predict(X_train[nums[1], :].reshape(1, -1))))\n",
    "axs[1, 0].imshow(X[nums[2], :].reshape((int(np.sqrt(n_features)), -1)), cmap=\"gray\")\n",
    "axs[1, 0].set_title(\"predicted label: %d\" % (clf.predict(X_train[nums[2], :].reshape(1, -1))))\n",
    "axs[1, 1].imshow(X[nums[3], :].reshape((int(np.sqrt(n_features)), -1)), cmap=\"gray\")\n",
    "axs[1, 1].set_title(\"predicted label: %d\" % (clf.predict(X_train[nums[3], :].reshape(1, -1))))"
   ]
  },
  {
   "cell_type": "markdown",
   "metadata": {},
   "source": [
    "Auparavant, nous n'exécutions $ k $ -NN que sur deux dimensions; maintenant nos vecteurs sont beaucoup plus gros, ils ont en réalité 768 dimensions. On s'attend à ce que les méthodes locales telles que $ k $ -NN ne fonctionnent pas aussi bien une fois que nous sommes passés à de grandes dimensions. Pourquoi donc?"
   ]
  },
  {
   "cell_type": "markdown",
   "metadata": {},
   "source": [
    "**exercice** : Nous allons utiliser le dataset \"diabete\", que vous pouvez telecharger ici: https://raw.githubusercontent.com/plotly/datasets/master/diabetes.csv"
   ]
  },
  {
   "cell_type": "code",
   "execution_count": 92,
   "metadata": {},
   "outputs": [],
   "source": [
    "import pandas as pd\n",
    "#Load the dataset\n",
    "df = pd.read_csv('diabetes.csv')\n",
    "#Print the first 5 rows of the dataframe.\n",
    "df.head()"
   ]
  },
  {
   "cell_type": "code",
   "execution_count": 93,
   "metadata": {},
   "outputs": [
    {
     "name": "stdout",
     "output_type": "stream",
     "text": [
      "(768, 8) (768,)\n"
     ]
    }
   ],
   "source": [
    "#Let's create numpy arrays for features and target\n",
    "X = df.drop('Outcome',axis=1).values\n",
    "y = df['Outcome'].values\n",
    "print(X.shape,y.shape)"
   ]
  },
  {
   "cell_type": "markdown",
   "metadata": {},
   "source": [
    "Séparons les données au hasard en un ensemble d’entraînement et de test.\n",
    "\n",
    "Nous allons adapter / former un classifieur sur l'ensemble d'entraînement et faire des prédictions sur l'ensemble d'essai. Ensuite, nous comparerons les prévisions avec les étiquettes connues.\n",
    "\n",
    "Scikit-learn permet de scinder les données en train et en ensembles de test à l’aide de la méthode train_test_split."
   ]
  },
  {
   "cell_type": "code",
   "execution_count": 96,
   "metadata": {},
   "outputs": [],
   "source": [
    "#importing train_test_split\n",
    "from sklearn.model_selection import train_test_split\n",
    "X_train,X_test,y_train,y_test = train_test_split(X,y,test_size=0.4,random_state=42, stratify=y)"
   ]
  },
  {
   "cell_type": "markdown",
   "metadata": {},
   "source": [
    "Utilisez maintenant le knn classifier pour prediure le diagnostique d'un diabete a partir des données cliniques."
   ]
  },
  {
   "cell_type": "code",
   "execution_count": null,
   "metadata": {},
   "outputs": [],
   "source": []
  }
 ],
 "metadata": {
  "kernelspec": {
   "display_name": "Python 3",
   "language": "python",
   "name": "python3"
  },
  "language_info": {
   "codemirror_mode": {
    "name": "ipython",
    "version": 3
   },
   "file_extension": ".py",
   "mimetype": "text/x-python",
   "name": "python",
   "nbconvert_exporter": "python",
   "pygments_lexer": "ipython3",
   "version": "3.7.1"
  }
 },
 "nbformat": 4,
 "nbformat_minor": 2
}
