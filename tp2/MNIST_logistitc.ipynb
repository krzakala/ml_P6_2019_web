{
 "cells": [
  {
   "cell_type": "markdown",
   "metadata": {},
   "source": [
    "## Regression logistique pour MNIST"
   ]
  },
  {
   "cell_type": "markdown",
   "metadata": {},
   "source": [
    "Le but de ce cahier est de familiariser le lecteur avec la régression SoftMax (une généralisation de la régression logistique à plus de deux catégories), les prédictions catégorielles et le jeu de données manuscrit MNIST. Le lecteur comprendra comment utiliser le logiciel de régression Scikit Logistic et visualiser les poids appris.\n",
    "\n",
    "## Overview\n",
    "\n",
    "### The MNIST dataset:\n",
    "\n",
    "Le problème de classification MNIST, que nous avons vu dans notre premier TP, est l’un des problèmes classiques du ML pour l’apprentissage de la classification sur des données de grande dimension avec un nombre assez important d’exemples ($60000$). Yann LeCun et ses collaborateurs ont collecté et traité $700 000$ de chiffres manuscrits ($60000$ sont utilisés pour la formation et 10 000 pour les tests) afin de produire ce qui est devenu l'un des ensembles de données les plus largement utilisés dans ML: l\"ensemble de données [MNIST](http://yann.lecun.com/exdb/mnist/). Chaque chiffre manuscrit est représenté dans une image carrée en niveaux de gris en forme de grille de pixels $28  x 28 $. Chaque pixel prend une valeur dans la plage $[0,255]$, ce qui représente 256 $ nuances de la couleur grise. Le problème de la classification des images trouve des applications dans un large éventail de domaines et est important pour de nombreuses applications pratiques.\n",
    "\n",
    "### Regression SoftMax (multi-nomiale):\n",
    "Nous allons utiliser la régression SoftMax, qui peut être considérée comme un modèle statistique qui attribue une probabilité qu'une image d'entrée donnée corresponde à l'un des 10 chiffres manuscrits. Le modèle est une généralisation de la régression logistique et se lit comme suit:\n",
    "\\begin{align}\n",
    "p(y=i|\\boldsymbol{x};W) = \\frac{e^{\\boldsymbol{w}_i^T \\boldsymbol{x}}}{\\sum_{j=0}^9 e^{\\boldsymbol{w}_j^T}},\n",
    "\\end{align}\n",
    "Ou $p(y=i|\\boldsymbol{x};W)$ est la probabilité que $\\boldsymbol{x}$ soit le $i$-th chiffre, $i\\in[0,9]$.\n",
    "Le modèle a également 10 vecteurs de poids $ \\boldsymbol{w}_i $ que nous allons former ci-dessous. Enfin, on peut utiliser cette information pour la prédiction en prenant la valeur de $y$ pour laquelle cette probabilité est maximisée:\n",
    "\\begin{align}\n",
    "y_{pred}=\\arg\\max_i p(y=i|\\boldsymbol{x})\n",
    "\\end{align}\n",
    "\n",
    "## Numerical experiments\n",
    "\n",
    "Le lecteur est invité à consulter le code ci-dessous pour renforcer son intuition à propos de la régression SoftMax. Le cahier suivant est une légère modification de [ce tutoriel Scikit] (http://scikit-learn.org/dev/auto_examples/linear_model/plot_sparse_logistic_regression_mnist.html) d’Arthur Mensch sur l’étude du problème MNIST à l’aide de la régression logistique."
   ]
  },
  {
   "cell_type": "code",
   "execution_count": 1,
   "metadata": {
    "scrolled": true
   },
   "outputs": [
    {
     "name": "stdout",
     "output_type": "stream",
     "text": [
      "Automatically created module for IPython interactive environment\n",
      "Example run in 34.793 s\n",
      "Sparsity with L2 penalty: 8.80%\n",
      "Test score with L2 penalty: 0.9003\n"
     ]
    }
   ],
   "source": [
    "import time\n",
    "import numpy as np\n",
    "\n",
    "from sklearn.datasets import fetch_openml # MNIST data\n",
    "from sklearn.linear_model import LogisticRegression\n",
    "from sklearn.model_selection import train_test_split\n",
    "from sklearn.preprocessing import StandardScaler\n",
    "from sklearn.utils import check_random_state\n",
    "\n",
    "print(__doc__)\n",
    "\n",
    "# Turn down for faster convergence\n",
    "t0 = time.time()\n",
    "train_size = 50000\n",
    "test_size = 10000\n",
    "\n",
    "### load MNIST data from https://www.openml.org/d/554\n",
    "X, y = fetch_openml('mnist_784', version=1, return_X_y=True)\n",
    "\n",
    "# shuffle data\n",
    "random_state = check_random_state(0)\n",
    "permutation = random_state.permutation(X.shape[0])\n",
    "X = X[permutation]\n",
    "y = y[permutation]\n",
    "X = X.reshape((X.shape[0], -1))\n",
    "\n",
    "# pick training and test data sets \n",
    "X_train, X_test, y_train, y_test = train_test_split(X,y,train_size=train_size,test_size=test_size)\n",
    "\n",
    "# scale data to have zero mean and unit variance [required by regressor]\n",
    "scaler = StandardScaler()\n",
    "X_train = scaler.fit_transform(X_train)\n",
    "X_test = scaler.transform(X_test)\n",
    "\n",
    "# apply logistic regressor with 'sag' solver, C is the inverse regularization strength\n",
    "clf = LogisticRegression(C=1e5,\n",
    "                         multi_class='multinomial',\n",
    "                         penalty='l2', solver='sag', tol=0.1)\n",
    "# fit data\n",
    "clf.fit(X_train, y_train)\n",
    "# percentage of nonzero weights\n",
    "sparsity = np.mean(clf.coef_ == 0) * 100\n",
    "# compute accuracy\n",
    "score = clf.score(X_test, y_test)\n",
    "\n",
    "#display run time\n",
    "run_time = time.time() - t0\n",
    "print('Example run in %.3f s' % run_time)\n",
    "\n",
    "print(\"Sparsity with L2 penalty: %.2f%%\" % sparsity)\n",
    "print(\"Test score with L2 penalty: %.4f\" % score)"
   ]
  },
  {
   "cell_type": "code",
   "execution_count": 11,
   "metadata": {},
   "outputs": [
    {
     "data": {
      "image/png": "[encoded data removed]",
      "text/plain": [
       "<Figure size 720x360 with 10 Axes>"
      ]
     },
     "metadata": {},
     "output_type": "display_data"
    }
   ],
   "source": [
    "%matplotlib inline\n",
    "import matplotlib.pyplot as plt\n",
    "\n",
    "# plot weights vs the pixel position\n",
    "coef = clf.coef_.copy()\n",
    "plt.figure(figsize=(10, 5))\n",
    "scale = np.abs(coef).max()\n",
    "for i in range(10):\n",
    "    l2_plot = plt.subplot(2, 5, i + 1)\n",
    "    l2_plot.imshow(coef[i].reshape(28, 28),\n",
    "                   cmap=plt.cm.Greys, vmin=-scale, vmax=scale)\n",
    "    l2_plot.set_xticks(())\n",
    "    l2_plot.set_yticks(())\n",
    "    l2_plot.set_xlabel('Class %i' % i)\n",
    "plt.suptitle('vecteur de poids de classification$w_j$ pour la classe $j$')\n",
    "\n",
    "plt.show()"
   ]
  },
  {
   "cell_type": "markdown",
   "metadata": {
    "collapsed": true
   },
   "source": [
    "### Exercises: ###  \n",
    "<ul>\n",
    "<li> Dans l'extrait ci-dessus, nous avons utilisé le solutionneur \"sag\" qui ne traite que de la régularisation $ \\ell_2 $. Essayez un autre solveur, par exemple 'liblinear', dans scikit qui prend en charge la régularisation $ \\ell_1 $. Vous pouvez trouver plus de détails sur <a href=\"http://scikit-learn.org/stable/modules/generated/sklearn.linear_model.LogisticRegression.html\"> http://scikit-learn.org/stable/modules/generated/sklearn.linear_model.LogisticRegression.html.</a>\n",
    "<li> Visualisez les échantillons mal classés. Analysez les résultats de la régression logistique sur MNIST et notez-le, car nous étudierons le problème de MNIST ultérieurement à l'aide de réseaux neuronaux profonds.\n",
    "\n",
    "<li> Essayez de varier la taille de l’entraînement et voyez comment cela affecte les resultats.\n",
    "<li>  [Théorie] Nous avons considéré une régression logistique à plusieurs classes (MLR) $ K = 10 $, également appelée régression SoftMax. Rappelons que le notre modèle se lit comme suit:\n",
    "$$\n",
    "p (y = i | \\boldsymbol {x}; W) = \\frac {e ^ {\\boldsymbol {w} _i ^ T \\boldsymbol {x}}} {\\sum_ {j = 0} ^ 9 e ^ {\\boldsymbol {w} _j ^ T \\boldsymbol {x}}}\n",
    "$$\n",
    "Utilisez ceci pour construire la fonction de vraisemblance $ P (y | \\boldsymbol {x}) $.\n",
    "\n",
    "<li> [Théorie] Considérons maintenant qu'on nous donne un ensemble de i.i.d. data $ \\mathcal {D} = \\{(\\boldsymbol {x} _1, y_1), \\cdots, (\\boldsymbol {x}_n, y_n) \\} $. Montrze que la maximisation de la vraisemblance (ou, de manière équivalente, par la minimisation de la log-vraisemblance négative), donne la fonction d'erreur correspondante $ \\mathbb{E}_{\\rm empirique} (\\boldsymbol {w} _0, \\cdots, \\boldsymbol {w} _9) $ que nous avons utilisé pour la regression logiistique. \n",
    "\n",
    "<li> [Theory] En utilisant la fonction d'erreur dérivée ci-dessus, calculez son gradient $ \\frac {\\partial E} {\\partial \\boldsymbol {w}_k} $. Pouvez-vous trouver une manière élégante d’écrire le gradient?\n",
    "</ul>\n"
   ]
  },
  {
   "cell_type": "code",
   "execution_count": null,
   "metadata": {},
   "outputs": [],
   "source": []
  }
 ],
 "metadata": {
  "kernelspec": {
   "display_name": "Python 3",
   "language": "python",
   "name": "python3"
  },
  "language_info": {
   "codemirror_mode": {
    "name": "ipython",
    "version": 3
   },
   "file_extension": ".py",
   "mimetype": "text/x-python",
   "name": "python",
   "nbconvert_exporter": "python",
   "pygments_lexer": "ipython3",
   "version": "3.7.1"
  }
 },
 "nbformat": 4,
 "nbformat_minor": 1
}
