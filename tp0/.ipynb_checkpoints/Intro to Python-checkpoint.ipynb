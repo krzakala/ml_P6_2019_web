{
 "cells": [
  {
   "cell_type": "markdown",
   "metadata": {},
   "source": [
    "# Petite introduction (ou recapitulatif) de Python\n",
    "\n",
    "Avant de pouvoir accomplir quoi que ce soit en AI ou machine learning, nous avons besoin d’un langage de programation pour le faire. Dans ce notebook, nous passerons en revue la programmation en Python. Nous ne couvrirons pas certaines des conventions de programmation les plus basiques, et supposons que l’étudiant connaisse au moins les notions de variables, de fonctions, etc..."
   ]
  },
  {
   "cell_type": "markdown",
   "metadata": {},
   "source": [
    "## Qu'est-ce que Python?\n",
    "---\n",
    "Python est un langage informatique à usage général * interprété * de haut niveau. Un langage interprété est un langage dont le code n'a pas besoin d'être compilé avant son exécution. C'est assez différent des langages tels que C, C ++ et Fortran, où l'on doit compiler du code lisible par l'homme en instructions machine.\n",
    "\n",
    "En Python, tout le code est exécuté par \"l'interpréteur\" de Python, un programme principal qui lit notre code lisible par l'homme et le traduit en code machine lors de son exécution. Cela permet un certain nombre de fonctionnalités dynamiques qui ne sont pas prises en charge dans les langues compilées. Par exemple, le bloc-notes Jupyter que nous utilisons maintenant ne serait pas possible sans un langage interprété tel que Python."
   ]
  },
  {
   "cell_type": "code",
   "execution_count": null,
   "metadata": {},
   "outputs": [],
   "source": [
    "# Un exemple d'exécution de code interprété ...!\n",
    "# (Les commentaires sont faits en utilisant le symbole #)\n",
    "2 + 2"
   ]
  },
  {
   "cell_type": "markdown",
   "metadata": {},
   "source": [
    "Python permet également le \"typage dynamique\": les types de variable ne sont pas attribués par le codeur, mais sont déduits directement par l'interpréteur Python. Cela  donne au programmeur la possibilité de prototyper rapidement, mais peut parfois nécessiter du code supplémentaire pour vous assurer que vous avez le bon type! Regardons un exemple de frappe dynamique."
   ]
  },
  {
   "cell_type": "code",
   "execution_count": null,
   "metadata": {},
   "outputs": [],
   "source": [
    "## Une variable peut être de tout type.\n",
    "x = 2     # x est un integer...\n",
    "x = 2.0   # x est un float...\n",
    "x = 'hi'  # x est un string...\n",
    "\n",
    "## Cela peut causer des problemes!\n",
    "x = 2 + x"
   ]
  },
  {
   "cell_type": "markdown",
   "metadata": {},
   "source": [
    "Comme nous pouvons le constater, si nous ne faisons pas attention, la réaffectation des variables peut poser des problèmes. Nous devons donc veiller à ne pas trop abuser de cette fonctionnalité. Nous pouvons aussi voir que nous avons eu notre première erreur! L'interpréteur Python signalera les erreurs dès qu'elles se produisent. Dans un langage compilé tel que C, le compilateur aurait renvoyé une erreur lors de la compilation car il aurait détecté ce type de collision en tant qu'erreur de compilation. Cependant, pour Python, comme nous ne connaissons que le type de variable au moment de l'exécution, nous avons plutôt une erreur d'exécution au moment de ce type d'incompatibilité de type.\n",
    "\n",
    "Cependant, en résumant le typage et l'adressage des variables, Python évite bon nombre des erreurs d'exécution qui apparaissent souvent dans les langages compilés. Par exemple, nous ne rencontrerons pas d'erreurs de pointeur, de fuites de mémoire ou d'autres erreurs d'exécution (erreurs de segmentation) souvent rencontrées en C et C ++. Ne pas avoir à résoudre les problèmes de mémoire est un avantage considérable par rapport à la vérification des types. Pour des comparaisons spécifiques entre Python et d'autres language, [consultez cette page] (https://www.python.org/doc/essays/comparisons/). Notamment\n",
    "\n",
    "> *\"Python code is typically 3-5 times shorter than equivalent Java code, it is often 5-10 times shorter than equivalent C++ code! Anecdotal evidence suggests that one Python programmer can finish in two months what two C++ programmers can't complete in a year.\"* -- Python Software Foundation"
   ]
  },
  {
   "cell_type": "markdown",
   "metadata": {},
   "source": [
    "## Python 101\n",
    "---\n",
    "Commençons notre recapitulatif sur le codage Python en passant en revue de nombreuses structures et variables  que nous utilisons dans les programmes. Que diriez-vous d'un \"Hello World\"?"
   ]
  },
  {
   "cell_type": "code",
   "execution_count": null,
   "metadata": {},
   "outputs": [],
   "source": [
    "print('Hello World!')"
   ]
  },
  {
   "cell_type": "markdown",
   "metadata": {},
   "source": [
    "Tres simple, non? On peut acceder a la documentation pour \"print\""
   ]
  },
  {
   "cell_type": "code",
   "execution_count": null,
   "metadata": {},
   "outputs": [],
   "source": [
    "help(print)"
   ]
  },
  {
   "cell_type": "markdown",
   "metadata": {},
   "source": [
    "Les commandes d’impression peuvent prendre différents types d’objets en entrée et pas seulement des chaînes. L'objet doit simplement avoir une option d'affichage définie."
   ]
  },
  {
   "cell_type": "code",
   "execution_count": null,
   "metadata": {},
   "outputs": [],
   "source": [
    "print(2.0)     # ... float\n",
    "print(2)       # ... integer\n",
    "print('c')     # ... string\n",
    "print(print)   # ...\"a function handle\""
   ]
  },
  {
   "cell_type": "markdown",
   "metadata": {},
   "source": [
    "Essayons maintenant un peu d’arithmétique. Toutes les opérations mathématiques normales se comportent comme prévu."
   ]
  },
  {
   "cell_type": "code",
   "execution_count": null,
   "metadata": {},
   "outputs": [],
   "source": [
    "## Set some variables !\n",
    "a = 2\n",
    "b = 3\n",
    "print('1)', a, '+', b, '=', a+b)\n",
    "print('2)', a, '-', b, '=', a-b)\n",
    "print('3)', a, '*', b, '=', a*b)\n",
    "print('4)', a, '/', b, '=', a/b)\n",
    "print('5)', a, '^', b, '=', a**b)\n",
    "print('6)', a, '%', b, '=', a%b)"
   ]
  },
  {
   "cell_type": "markdown",
   "metadata": {},
   "source": [
    "Regardons maintenant certaines structures de flux de contrôle. Voyons d’abord le format du code de branchement, par exemple: * si-alors-sinon *. Ces instructions fonctionnent en Python comme vous le voudriez dans n'importe quelle autre langue que vous connaissez. Cependant, nous devons faire attention à la syntaxe. Contrairement aux langages tels que C / C ++, où les espaces sont très fluides et laissés au programmeur via un backeting, l’interpréteur Python requiert une indentation stricte du code au lieu d’un bracketing."
   ]
  },
  {
   "cell_type": "code",
   "execution_count": null,
   "metadata": {},
   "outputs": [],
   "source": [
    "some_value = -1\n",
    "\n",
    "# Branch based on the sign of the value\n",
    "if some_value == 0:\n",
    "    print('Value is equal to 0.')\n",
    "elif some_value > 0:\n",
    "    print('Value is positive.')\n",
    "else:\n",
    "    print('Value is negative.')"
   ]
  },
  {
   "cell_type": "markdown",
   "metadata": {},
   "source": [
    "Notez que Python n'inclut pas de structure de contrôle `switch` explicite comme en C / C ++. Au lieu de cela, on utilise une échelle d'instructions `if-elif-elif -...` pour atteindre le même objectif, comme nous le voyons ci-dessus. Depuis Python 2.5, Python a également un opérateur ternaire ..."
   ]
  },
  {
   "cell_type": "code",
   "execution_count": null,
   "metadata": {},
   "outputs": [],
   "source": [
    "some_value = -2\n",
    "\n",
    "# Ternary operator is given as\n",
    "#    a if condition else b\n",
    "print('Value >= 0') if some_value >= 0 else print('Value is negative.')"
   ]
  },
  {
   "cell_type": "markdown",
   "metadata": {},
   "source": [
    "Nous allons maintenant examiner les boucles de base en Python. En pratique, la boucle la plus commune avec laquelle vous vous connecterez est la boucle `for`. Jetons un coup d'oeil à un exemple."
   ]
  },
  {
   "cell_type": "code",
   "execution_count": null,
   "metadata": {},
   "outputs": [],
   "source": [
    "n_loops = 3\n",
    "\n",
    "# We need an object to loop over. `range(0,x)` returns an iterator over the range [0,...,x-1]. \n",
    "for loop in range(0,n_loops):\n",
    "    print('Loop #',loop)"
   ]
  },
  {
   "cell_type": "markdown",
   "metadata": {},
   "source": [
    "En Python, vous pouvez effectuer une boucle sur un objet itérable, pas seulement des valeurs numériques. Jetons un coup d'oeil à un exemple simple en créant une liste de valeurs."
   ]
  },
  {
   "cell_type": "code",
   "execution_count": null,
   "metadata": {},
   "outputs": [],
   "source": [
    "# Iterate over a list of string values\n",
    "list_of_strings = ['just', 'a', 'list', 'of', 'strings']\n",
    "\n",
    "for string in list_of_strings:\n",
    "    print(string)"
   ]
  },
  {
   "cell_type": "markdown",
   "metadata": {},
   "source": [
    "Fait intéressant, en raison de la nature du typage dynamique en Python, nos listes ne sont pas limitées à un seul type. Une liste peut contenir un nombre quelconque d'objets, chacun d'un type différent."
   ]
  },
  {
   "cell_type": "code",
   "execution_count": null,
   "metadata": {},
   "outputs": [],
   "source": [
    "# Iterate over whatever\n",
    "list_of_whatever = ['just', 42, 'things', 3.14, print, ('i', 'guess')]\n",
    "\n",
    "for thing in list_of_whatever:\n",
    "    print(thing)"
   ]
  },
  {
   "cell_type": "markdown",
   "metadata": {},
   "source": [
    "---\n",
    "\n",
    "---\n",
    "## Ex 1: Calculer n!\n",
    "Par exemple, écrivons une fonction pour calculer la factorielle d’un entier positif donné, $n! = n\\times(n-1)\\times(n-2)\\times\\cdots$, et $0! = 1$. Définissons cela comme une fonction afin de pouvoir l'utiliser à nouveau plus tard."
   ]
  },
  {
   "cell_type": "code",
   "execution_count": null,
   "metadata": {},
   "outputs": [],
   "source": [
    "## Your solution below...\n",
    "def factorial(n):\n",
    "    pass # Replace with your code"
   ]
  },
  {
   "cell_type": "markdown",
   "metadata": {},
   "source": [
    "### Validation\n"
   ]
  },
  {
   "cell_type": "code",
   "execution_count": null,
   "metadata": {},
   "outputs": [],
   "source": [
    "assert factorial(0) == 1\n",
    "assert factorial(6) == 720\n",
    "assert factorial(5) == 120\n",
    "assert factorial(10) == 3628800\n",
    "factorial(-1)\n",
    "factorial(2.5)\n",
    "print(\"Tests Passed !\")"
   ]
  },
  {
   "cell_type": "markdown",
   "metadata": {},
   "source": [
    "---\n",
    "\n",
    "---"
   ]
  },
  {
   "cell_type": "markdown",
   "metadata": {},
   "source": [
    "## Python connait les maths!\n",
    "Voyons maintenant comment effectuer un certain nombre d'opérations mathématiques de base dans Julia, y compris des exemples d'algèbre linéaire. Voyons d’abord quelques opérations mathématiques scalaires simples.\n",
    "\n",
    "Dans ce cas, nous devrons importer des fonctionnalités supplémentaires du paquet `math`, un module Python standard fourni avec la distribution Python principale. La fonctionnalité d’importation est gérée de la même manière que C \\ C ++, toutefois, il faut tenir compte de certaines considérations relatives aux espaces de noms.\n",
    "\n",
    "Par exemple, si nous voulons utiliser la fonction exponentielle du paquet `math`, nous avons plusieurs façons de procéder, en fonction de nos souhaits en tant que programmeurs.\n",
    "\n",
    "1. La methode simple:\n",
    "```python\n",
    ">>> import math\n",
    ">>> math.exp(1)\n",
    "2.718281828459045\n",
    "```\n",
    "\n",
    "2. Renomer le package namespace en plus court:\n",
    "```python\n",
    ">>> import math as m\n",
    ">>> m.exp(1)\n",
    "2.718281828459045\n",
    "```\n",
    "\n",
    "3. Importer seulement certaines parties du package:\n",
    "```python\n",
    ">>> from math import exp\n",
    ">>> exp(1)\n",
    "2.718281828459045\n",
    "```\n",
    "\n",
    "Il n'y a pas une seule bonne façon d'aborder cela, il vous suffit de trouver une approche qui répond à vos besoins et rend votre code concis et lisible."
   ]
  },
  {
   "cell_type": "code",
   "execution_count": null,
   "metadata": {},
   "outputs": [],
   "source": [
    "import math as m   # Just making an easy short name\n",
    "\n",
    "# Lets look at a basic right triangle...\n",
    "#      |\\\n",
    "#      | \\  h = ?\n",
    "# a=3  |  \\\n",
    "#      |___\\\n",
    "#       b=1\n",
    "#\n",
    "\n",
    "a = 3\n",
    "b = 1\n",
    "ang_ab = 90\n",
    "\n",
    "# Calculate the hypotenuse\n",
    "h = m.sqrt(a**2 + b**2)\n",
    "\n",
    "# Find remaining angles\n",
    "ang_bh = m.degrees(m.asin(a / h))\n",
    "ang_ah = 180 - ang_ab - ang_bh\n",
    "\n",
    "# Show results\n",
    "print('      %0.1f' % ang_ah)\n",
    "print('       | \\\\')\n",
    "print('       |  \\\\')\n",
    "print('       |   \\\\')      \n",
    "print('a = ',a,'|    \\\\  h = %0.1f' % h)\n",
    "print('       |     \\\\')\n",
    "print('       |      \\\\')\n",
    "print('       |       \\\\')\n",
    "print('       |90__%0.1f\\\\' % ang_bh)  \n",
    "print('         b =',b)"
   ]
  },
  {
   "cell_type": "markdown",
   "metadata": {},
   "source": [
    "So, we can do simple trigonometry. But we can also do logarithms, exponentials, etc. We also have some specific constants which are defined for us in `math`."
   ]
  },
  {
   "cell_type": "code",
   "execution_count": null,
   "metadata": {},
   "outputs": [],
   "source": [
    "m.log(m.exp(m.pi))   # m.log() defaults to natural log"
   ]
  },
  {
   "cell_type": "markdown",
   "metadata": {},
   "source": [
    "## List, dictionaires, sets & tuples\n",
    "\n",
    "Python inclut plusieurs types de conteneurs intégrés: listes, dictionnaires, ensembles et t-uples.\n",
    "\n",
    "**list**: Une liste est l'équivalent Python d'un tableau, mais est redimensionnable et peut contenir des éléments de différents types:"
   ]
  },
  {
   "cell_type": "code",
   "execution_count": null,
   "metadata": {
    "scrolled": true
   },
   "outputs": [],
   "source": [
    "xs = [3, 1, 2]    # Create a list\n",
    "print(xs, xs[2])  # Prints \"[3, 1, 2] 2\"\n",
    "print(xs[-1])     # Negative indices count from the end of the list; prints \"2\"\n",
    "xs[2] = 'foo'     # Lists can contain elements of different types\n",
    "print(xs)         # Prints \"[3, 1, 'foo']\"\n",
    "xs.append('bar')  # Add a new element to the end of the list\n",
    "print(xs)         # Prints \"[3, 1, 'foo', 'bar']\"\n",
    "x = xs.pop()      # Remove and return the last element of the list\n",
    "print(x, xs)      # Prints \"bar [3, 1, 'foo']\""
   ]
  },
  {
   "cell_type": "markdown",
   "metadata": {},
   "source": [
    "**Slicing**: En plus d'accéder aux éléments d'une liste à la fois, Python fournit une syntaxe concise pour accéder aux sous-listes. c'est ce qu'on appelle le découpage en tranches (Slicing):"
   ]
  },
  {
   "cell_type": "code",
   "execution_count": null,
   "metadata": {
    "scrolled": true
   },
   "outputs": [],
   "source": [
    "nums = list(range(5))     # range is a built-in function that creates a list of integers\n",
    "print(nums)               # Prints \"[0, 1, 2, 3, 4]\"\n",
    "print(nums[2:4])          # Get a slice from index 2 to 4 (exclusive); prints \"[2, 3]\"\n",
    "print(nums[2:])           # Get a slice from index 2 to the end; prints \"[2, 3, 4]\"\n",
    "print(nums[:2])           # Get a slice from the start to index 2 (exclusive); prints \"[0, 1]\"\n",
    "print(nums[:])            # Get a slice of the whole list; prints \"[0, 1, 2, 3, 4]\"\n",
    "print(nums[:-1])          # Slice indices can be negative; prints \"[0, 1, 2, 3]\"\n",
    "nums[2:4] = [8, 9]        # Assign a new sublist to a slice\n",
    "print(nums)               # Prints \"[0, 1, 8, 9, 4]\""
   ]
  },
  {
   "cell_type": "markdown",
   "metadata": {},
   "source": [
    "**dictionaries:** Un dictionnaire stocke des paires (clé, valeur): Vous pouvez l'utiliser comme ceci:"
   ]
  },
  {
   "cell_type": "code",
   "execution_count": null,
   "metadata": {
    "scrolled": true
   },
   "outputs": [],
   "source": [
    "d = {'cat': 'cute', 'dog': 'furry'}  # Create a new dictionary with some data\n",
    "print(d['cat'])       # Get an entry from a dictionary; prints \"cute\"\n",
    "print('cat' in d)     # Check if a dictionary has a given key; prints \"True\"\n",
    "d['fish'] = 'wet'     # Set an entry in a dictionary\n",
    "print(d['fish'])      # Prints \"wet\"\n",
    "# print(d['monkey'])  # KeyError: 'monkey' not a key of d\n",
    "print(d.get('monkey', 'N/A'))  # Get an element with a default; prints \"N/A\"\n",
    "print(d.get('fish', 'N/A'))    # Get an element with a default; prints \"wet\"\n",
    "del d['fish']         # Remove an element from a dictionary\n",
    "print(d.get('fish', 'N/A')) # \"fish\" is no longer a key; prints \"N/A\"\n",
    "\n",
    "d = {'person': 2, 'cat': 4, 'spider': 8}\n",
    "for animal in d:\n",
    "    legs = d[animal]\n",
    "    print('A %s has %d legs' % (animal, legs))\n",
    "# Prints \"A person has 2 legs\", \"A cat has 4 legs\", \"A spider has 8 legs\""
   ]
  },
  {
   "cell_type": "markdown",
   "metadata": {},
   "source": [
    "**set**: Un ensemble est une collection non ordonnée d'éléments distincts. Comme exemple simple, considérons ce qui suit:"
   ]
  },
  {
   "cell_type": "code",
   "execution_count": null,
   "metadata": {
    "scrolled": true
   },
   "outputs": [],
   "source": [
    "animals = {'cat', 'dog'}\n",
    "print('cat' in animals)   # Check if an element is in a set; prints \"True\"\n",
    "print('fish' in animals)  # prints \"False\"\n",
    "animals.add('fish')       # Add an element to a set\n",
    "print('fish' in animals)  # Prints \"True\"\n",
    "print(len(animals))       # Number of elements in a set; prints \"3\"\n",
    "animals.add('cat')        # Adding an element that is already in the set does nothing\n",
    "print(len(animals))       # Prints \"3\"\n",
    "animals.remove('cat')     # Remove an element from a set\n",
    "print(len(animals))       # Prints \"2\"\n",
    "\n",
    "animals = {'cat', 'dog', 'fish'}\n",
    "for idx, animal in enumerate(animals):\n",
    "    print('#%d: %s' % (idx + 1, animal))\n",
    "# Prints \"#1: fish\", \"#2: dog\", \"#3: cat\""
   ]
  },
  {
   "cell_type": "markdown",
   "metadata": {},
   "source": [
    "**tuple**: Un t-uple est une liste de valeurs ordonnée (immuable). Un tuple est à bien des égards similaire à une liste; L'une des différences les plus importantes est que les n-uplets peuvent être utilisés comme clés dans les dictionnaires et comme éléments d'ensembles, alors que les listes ne le peuvent pas. Voici un exemple trivial:"
   ]
  },
  {
   "cell_type": "code",
   "execution_count": null,
   "metadata": {},
   "outputs": [],
   "source": [
    "d = {(x, x + 1): x for x in range(10)}  # Create a dictionary with tuple keys\n",
    "t = (5, 6)        # Create a tuple\n",
    "print(type(t))    # Prints \"<class 'tuple'>\"\n",
    "print(d[t])       # Prints \"5\"\n",
    "print(d[(1, 2)])  # Prints \"1\""
   ]
  },
  {
   "cell_type": "markdown",
   "metadata": {},
   "source": [
    "## Statistique en Python"
   ]
  },
  {
   "cell_type": "markdown",
   "metadata": {},
   "source": [
    "Maintenant, disons que vous voulez faire des statistiques. Peut-être que vous voulez commencer à tirer des échantillons d'une distribution particulière ... ou peut-être que vous voulez vérifier son entropie? Comme pour tout ce qui se passe en Python, vous devez supposer que cela a déjà été implémenté, et chercher un package... en particulier, pour tout ce qui est statistique, voila scipy.stats: [(Documentation complète ici)](https://docs.scipy.org/doc/scipy-0.18.1/reference/stats.html)."
   ]
  },
  {
   "cell_type": "code",
   "execution_count": null,
   "metadata": {},
   "outputs": [],
   "source": [
    "import scipy.stats as stat\n",
    "\n",
    "# Calclulate the entropy of a Laplace distribution\n",
    "mu  = 1\n",
    "sig = 3\n",
    "e = stat.laplace.entropy(loc=mu,scale=sig)    # Differential Entropy...\n",
    "\n",
    "# What about the higher-order moments?\n",
    "m, v, s, k = stat.laplace.stats(loc=mu,scale=sig,moments='mvsk')\n",
    "\n",
    "print('---- true dist. stats----')\n",
    "print('Mean           = %0.3f' % m)\n",
    "print('Variance       = %0.3f' % v)\n",
    "print('Skew           = %0.3f' % s)\n",
    "print('Kurtosis       = %0.3f' % k)\n",
    "print('Diff. Entropy  = %0.3f' % e)\n",
    "\n",
    "# We can generate data from this distribution\n",
    "data = stat.laplace.rvs(loc=mu, scale=sig, size=1000)\n",
    "\n",
    "# Fit parameters\n",
    "mu_fit, sig_fit = stat.laplace.fit(data)\n",
    "\n",
    "# See values\n",
    "m, v, s, k = stat.laplace.stats(loc=mu_fit,scale=sig_fit,moments='mvsk')\n",
    "e = stat.laplace.entropy(loc=mu_fit,scale=sig_fit)\n",
    "\n",
    "print('---- est dist. stats----')\n",
    "print('Mean           = %0.3f' % m)\n",
    "print('Variance       = %0.3f' % v)\n",
    "print('Skew           = %0.3f' % s)\n",
    "print('Kurtosis       = %0.3f' % k)\n",
    "print('Diff. Entropy  = %0.3f' % e)"
   ]
  },
  {
   "cell_type": "markdown",
   "metadata": {},
   "source": [
    "## Algebre lineaire en Python: numpy\n",
    "\n",
    "L'algebre lineaire et la manipulation de tableau sera fondamentale dans ce cours. Pour cela, les listes, dictionaires, etc... ne sont pas vraiment adaptés, car il ne nous permettent pas de traiter les tableaux comme des matrices; et il nous faudra utiliser l'un des outils les plus important de la galaxie python: les numpy arrays!"
   ]
  },
  {
   "cell_type": "code",
   "execution_count": null,
   "metadata": {},
   "outputs": [],
   "source": [
    "# Make use of numpy\n",
    "import numpy as np\n",
    "\n",
    "a = np.array([1, 2, 3])   # Create a rank 1 array\n",
    "print(type(a))            # Prints \"<class 'numpy.ndarray'>\"\n",
    "print(a.shape)            # Prints \"(3,)\"\n",
    "print(a[0], a[1], a[2])   # Prints \"1 2 3\"\n",
    "a[0] = 5                  # Change an element of the array\n",
    "print(a)                  # Prints \"[5, 2, 3]\"\n",
    "\n",
    "b = np.array([[1,2,3],[4,5,6]])    # Create a rank 2 array\n",
    "print(b.shape)                     # Prints \"(2, 3)\"\n",
    "print(b[0, 0], b[0, 1], b[1, 0])   # Prints \"1 2 4\""
   ]
  },
  {
   "cell_type": "markdown",
   "metadata": {},
   "source": [
    "Numpy nous permet de creer des tableaux de toutes sorte:"
   ]
  },
  {
   "cell_type": "code",
   "execution_count": null,
   "metadata": {},
   "outputs": [],
   "source": [
    "a = np.zeros((2,2))   # Create an array of all zeros\n",
    "print(a)              # Prints \"[[ 0.  0.]\n",
    "                      #          [ 0.  0.]]\"\n",
    "\n",
    "b = np.ones((1,2))    # Create an array of all ones\n",
    "print(b)              # Prints \"[[ 1.  1.]]\"\n",
    "\n",
    "c = np.full((2,2), 7)  # Create a constant array\n",
    "print(c)               # Prints \"[[ 7.  7.]\n",
    "                       #          [ 7.  7.]]\"\n",
    "\n",
    "d = np.eye(2)         # Create a 2x2 identity matrix\n",
    "print(d)              # Prints \"[[ 1.  0.]\n",
    "                      #          [ 0.  1.]]\"\n",
    "\n",
    "e = np.random.random((2,2))  # Create an array filled with random values\n",
    "print(e)                     # Might print \"[[ 0.91940167  0.08143941]\n",
    "                             #               [ 0.68744134  0.87236687]]\""
   ]
  },
  {
   "cell_type": "markdown",
   "metadata": {},
   "source": [
    "Numpy offre plusieurs méthodes pour indexer dans des tableaux.\n",
    "\n",
    "Tranchage (slicing): similaires aux listes Python, les tableaux numpy peuvent être tranchés. Comme les tableaux peuvent être multidimensionnels, vous devez spécifier une tranche pour chaque dimension du tableau."
   ]
  },
  {
   "cell_type": "code",
   "execution_count": null,
   "metadata": {},
   "outputs": [],
   "source": [
    "# Create the following rank 2 array with shape (3, 4)\n",
    "# [[ 1  2  3  4]\n",
    "#  [ 5  6  7  8]\n",
    "#  [ 9 10 11 12]]\n",
    "a = np.array([[1,2,3,4], [5,6,7,8], [9,10,11,12]])\n",
    "\n",
    "# Use slicing to pull out the subarray consisting of the first 2 rows\n",
    "# and columns 1 and 2; b is the following array of shape (2, 2):\n",
    "# [[2 3]\n",
    "#  [6 7]]\n",
    "b = a[:2, 1:3]\n",
    "\n",
    "# A slice of an array is a view into the same data, so modifying it\n",
    "# will modify the original array.\n",
    "print(a[0, 1])   # Prints \"2\"\n",
    "b[0, 0] = 77     # b[0, 0] is the same piece of data as a[0, 1]\n",
    "print(a[0, 1])   # Prints \"77\""
   ]
  },
  {
   "cell_type": "markdown",
   "metadata": {},
   "source": [
    "Vous pouvez également combiner l'indexation d'entiers avec l'indexation de tranches. Cependant, cela produira un tableau de rang inférieur à celui d'origine. Notez que cela est assez différent de la façon dont MATLAB gère le découpage en matrice:"
   ]
  },
  {
   "cell_type": "code",
   "execution_count": null,
   "metadata": {
    "scrolled": false
   },
   "outputs": [],
   "source": [
    "# Create the following rank 2 array with shape (3, 4)\n",
    "# [[ 1  2  3  4]\n",
    "#  [ 5  6  7  8]\n",
    "#  [ 9 10 11 12]]\n",
    "a = np.array([[1,2,3,4], [5,6,7,8], [9,10,11,12]])\n",
    "\n",
    "# Two ways of accessing the data in the middle row of the array.\n",
    "# Mixing integer indexing with slices yields an array of lower rank,\n",
    "# while using only slices yields an array of the same rank as the\n",
    "# original array:\n",
    "row_r1 = a[1, :]    # Rank 1 view of the second row of a\n",
    "row_r2 = a[1:2, :]  # Rank 2 view of the second row of a\n",
    "print(row_r1, row_r1.shape)  # Prints \"[5 6 7 8] (4,)\"\n",
    "print(row_r2, row_r2.shape)  # Prints \"[[5 6 7 8]] (1, 4)\"\n",
    "\n",
    "# We can make the same distinction when accessing columns of an array:\n",
    "col_r1 = a[:, 1]\n",
    "col_r2 = a[:, 1:2]\n",
    "print(col_r1, col_r1.shape)  # Prints \"[ 2  6 10] (3,)\"\n",
    "print(col_r2, col_r2.shape)  # Prints \"[[ 2]\n",
    "                             #          [ 6]\n",
    "                             #          [10]] (3, 1)\""
   ]
  },
  {
   "cell_type": "markdown",
   "metadata": {},
   "source": [
    "### Maths et arrays\n",
    "Les fonctions mathématiques de base fonctionnent élément par tableau sur les tableaux et sont disponibles à la fois en tant que surcharge d’opérateur et en tant que fonctions dans le module numpy:"
   ]
  },
  {
   "cell_type": "code",
   "execution_count": null,
   "metadata": {},
   "outputs": [],
   "source": [
    "x = np.array([[1,2],[3,4]], dtype=np.float64)\n",
    "y = np.array([[5,6],[7,8]], dtype=np.float64)\n",
    "\n",
    "# Elementwise sum; both produce the array\n",
    "# [[ 6.0  8.0]\n",
    "#  [10.0 12.0]]\n",
    "print(x + y)\n",
    "print(np.add(x, y))\n",
    "\n",
    "# Elementwise difference; both produce the array\n",
    "# [[-4.0 -4.0]\n",
    "#  [-4.0 -4.0]]\n",
    "print(x - y)\n",
    "print(np.subtract(x, y))\n",
    "\n",
    "# Elementwise product; both produce the array\n",
    "# [[ 5.0 12.0]\n",
    "#  [21.0 32.0]]\n",
    "print(x * y)\n",
    "print(np.multiply(x, y))\n",
    "\n",
    "# Elementwise division; both produce the array\n",
    "# [[ 0.2         0.33333333]\n",
    "#  [ 0.42857143  0.5       ]]\n",
    "print(x / y)\n",
    "print(np.divide(x, y))\n",
    "\n",
    "# Elementwise square root; produces the array\n",
    "# [[ 1.          1.41421356]\n",
    "#  [ 1.73205081  2.        ]]\n",
    "print(np.sqrt(x))"
   ]
  },
  {
   "cell_type": "markdown",
   "metadata": {},
   "source": [
    "Notez que contrairement à MATLAB, * est une multiplication par élément, pas une multiplication par matrice. Nous utilisons plutôt la fonction point pour calculer les produits internes des vecteurs, pour multiplier un vecteur par une matrice et pour multiplier des matrices. dot est disponible à la fois en tant que fonction dans le module numpy et en tant que méthode d'instance d'objets tableau."
   ]
  },
  {
   "cell_type": "code",
   "execution_count": null,
   "metadata": {
    "scrolled": true
   },
   "outputs": [],
   "source": [
    "x = np.array([[1,2],[3,4]])\n",
    "y = np.array([[5,6],[7,8]])\n",
    "\n",
    "v = np.array([9,10])\n",
    "w = np.array([11, 12])\n",
    "\n",
    "# Inner product of vectors; both produce 219\n",
    "print(v.dot(w))\n",
    "print(np.dot(v, w))\n",
    "\n",
    "# Matrix / vector product; both produce the rank 1 array [29 67]\n",
    "print(x.dot(v))\n",
    "print(np.dot(x, v))\n",
    "\n",
    "# Matrix / matrix product; both produce the rank 2 array\n",
    "# [[19 22]\n",
    "#  [43 50]]\n",
    "print(x.dot(y))\n",
    "print(np.dot(x, y))"
   ]
  },
  {
   "cell_type": "markdown",
   "metadata": {},
   "source": [
    "On peut aussi utiliser @ comme symbole de multiplication matricielle, ce qui permet de garder une notation agreable."
   ]
  },
  {
   "cell_type": "code",
   "execution_count": null,
   "metadata": {},
   "outputs": [],
   "source": [
    "# Inner product of vectors; both produce 219\n",
    "print(v@w)\n",
    "\n",
    "# Matrix / vector product; both produce the rank 1 array [29 67]\n",
    "print(x@v)\n",
    "\n",
    "# Matrix / matrix product; both produce the rank 2 array\n",
    "# [[19 22]\n",
    "#  [43 50]]\n",
    "print(x@y)"
   ]
  },
  {
   "cell_type": "markdown",
   "metadata": {},
   "source": [
    "### Numpy Broadcasting"
   ]
  },
  {
   "cell_type": "markdown",
   "metadata": {},
   "source": [
    " La diffusion (numpy Broadcasting) est un mécanisme puissant qui permet à numpy de travailler avec des tableaux de formes différentes lorsqu’il effectue des opérations arithmétiques. Nous avons fréquemment un tableau plus petit et un tableau plus grand, et nous souhaitons utiliser le tableau plus petit plusieurs fois pour effectuer certaines opérations sur le tableau le plus grand.\n",
    "Par exemple, supposons que nous voulions ajouter un vecteur constant à chaque ligne d'une matrice. Nous pourrions le faire comme ceci:"
   ]
  },
  {
   "cell_type": "code",
   "execution_count": null,
   "metadata": {
    "scrolled": true
   },
   "outputs": [],
   "source": [
    "# We will add the vector v to each row of the matrix x,\n",
    "# storing the result in the matrix y\n",
    "x = np.array([[1,2,3], [4,5,6], [7,8,9], [10, 11, 12]])\n",
    "v = np.array([1, 0, 1])\n",
    "y = np.empty_like(x)   # Create an empty matrix with the same shape as x\n",
    "\n",
    "# Add the vector v to each row of the matrix x with an explicit loop\n",
    "for i in range(4):\n",
    "    y[i, :] = x[i, :] + v\n",
    "\n",
    "# Now y is the following\n",
    "# [[ 2  2  4]\n",
    "#  [ 5  5  7]\n",
    "#  [ 8  8 10]\n",
    "#  [11 11 13]]\n",
    "print(y)"
   ]
  },
  {
   "cell_type": "markdown",
   "metadata": {},
   "source": [
    "Cela marche; Toutefois, lorsque la matrice x est très grande, le calcul d’une boucle explicite en Python peut être lent. Notez que l'ajout du vecteur v à chaque ligne de la matrice x revient à former une matrice vv en empilant plusieurs copies de v verticalement, puis en effectuant la somme élémentaire de x et vv. Nous pourrions implémenter cette approche comme ceci:"
   ]
  },
  {
   "cell_type": "code",
   "execution_count": null,
   "metadata": {},
   "outputs": [],
   "source": [
    "# We will add the vector v to each row of the matrix x,\n",
    "# storing the result in the matrix y\n",
    "x = np.array([[1,2,3], [4,5,6], [7,8,9], [10, 11, 12]])\n",
    "v = np.array([1, 0, 1])\n",
    "vv = np.tile(v, (4, 1))   # Stack 4 copies of v on top of each other\n",
    "print(vv)                 # Prints \"[[1 0 1]\n",
    "                          #          [1 0 1]\n",
    "                          #          [1 0 1]\n",
    "                          #          [1 0 1]]\"\n",
    "y = x + vv  # Add x and vv elementwise\n",
    "print(y)  # Prints \"[[ 2  2  4\n",
    "          #          [ 5  5  7]\n",
    "          #          [ 8  8 10]\n",
    "          #          [11 11 13]]\""
   ]
  },
  {
   "cell_type": "markdown",
   "metadata": {},
   "source": [
    "La diffusion Numpy nous permet d'effectuer ce calcul sans créer réellement plusieurs copies de v. Considérez cette version, en utilisant la diffusion:"
   ]
  },
  {
   "cell_type": "code",
   "execution_count": null,
   "metadata": {},
   "outputs": [],
   "source": [
    "# We will add the vector v to each row of the matrix x,\n",
    "# storing the result in the matrix y\n",
    "x = np.array([[1,2,3], [4,5,6], [7,8,9], [10, 11, 12]])\n",
    "v = np.array([1, 0, 1])\n",
    "y = x + v  # Add v to each row of x using broadcasting\n",
    "print(y)  # Prints \"[[ 2  2  4]\n",
    "          #          [ 5  5  7]\n",
    "          #          [ 8  8 10]\n",
    "          #          [11 11 13]]\""
   ]
  },
  {
   "cell_type": "code",
   "execution_count": null,
   "metadata": {},
   "outputs": [],
   "source": [
    "import numpy as np\n",
    "\n",
    "# Compute outer product of vectors\n",
    "v = np.array([1,2,3])  # v has shape (3,)\n",
    "w = np.array([4,5])    # w has shape (2,)\n",
    "# To compute an outer product, we first reshape v to be a column\n",
    "# vector of shape (3, 1); we can then broadcast it against w to yield\n",
    "# an output of shape (3, 2), which is the outer product of v and w:\n",
    "# [[ 4  5]\n",
    "#  [ 8 10]\n",
    "#  [12 15]]\n",
    "print(np.reshape(v, (3, 1)) * w)\n",
    "\n",
    "# Add a vector to each row of a matrix\n",
    "x = np.array([[1,2,3], [4,5,6]])\n",
    "# x has shape (2, 3) and v has shape (3,) so they broadcast to (2, 3),\n",
    "# giving the following matrix:\n",
    "# [[2 4 6]\n",
    "#  [5 7 9]]\n",
    "print(x + v)\n",
    "\n",
    "# Add a vector to each column of a matrix\n",
    "# x has shape (2, 3) and w has shape (2,).\n",
    "# If we transpose x then it has shape (3, 2) and can be broadcast\n",
    "# against w to yield a result of shape (3, 2); transposing this result\n",
    "# yields the final result of shape (2, 3) which is the matrix x with\n",
    "# the vector w added to each column. Gives the following matrix:\n",
    "# [[ 5  6  7]\n",
    "#  [ 9 10 11]]\n",
    "print((x.T + w).T)\n",
    "# Another solution is to reshape w to be a column vector of shape (2, 1);\n",
    "# we can then broadcast it directly against x to produce the same\n",
    "# output.\n",
    "print(x + np.reshape(w, (2, 1)))\n",
    "\n",
    "# Multiply a matrix by a constant:\n",
    "# x has shape (2, 3). Numpy treats scalars as arrays of shape ();\n",
    "# these can be broadcast together to shape (2, 3), producing the\n",
    "# following array:\n",
    "# [[ 2  4  6]\n",
    "#  [ 8 10 12]]\n",
    "print(x * 2)"
   ]
  },
  {
   "cell_type": "markdown",
   "metadata": {},
   "source": [
    "## Classes\n",
    "---\n",
    "Comme C / C ++ et Java, Python prend en charge les structures de classe. Cependant, ce n'est pas un \"langage orienté objet\" dans le vrai sens du terme. Il ne prend pas en charge l’encapsulation stricte, c’est-à-dire la privatisation des données d’objet. Cependant, il prend en charge la commodité des classes de toute autre manière. Jetons un coup d'oeil à un exemple. Ici, nous définissons une classe pour un * Agent *, qui se déplace sur une grille 2D, en évaluant l'utilitaire qui l'entoure."
   ]
  },
  {
   "cell_type": "code",
   "execution_count": null,
   "metadata": {},
   "outputs": [],
   "source": [
    "class Agent:\n",
    "    \"\"\"\n",
    "        A simple class which defines an `agent`, some decision making\n",
    "        entity which wants to maximize its own reward.\n",
    "    \"\"\"    \n",
    "    def __init__(self, utility=0, position=(0.0,0.0), utility_func = None, step_size = 1.0):\n",
    "        \"\"\"\n",
    "            The initialization function gets called by the interpreter\n",
    "            every time a new object of the Agent class gets created.\n",
    "            \n",
    "            :param utility: Agent's current utility value.\n",
    "            :param utility_func: Function with which to evaluate the utility of the agent. \n",
    "                                 The funciton `utility_func` takes an (x,y) coordinate and\n",
    "                                 reports a utility.\n",
    "            :param position: Agent's current position (x,y)\n",
    "            \n",
    "        \"\"\"\n",
    "        self.utility = utility\n",
    "        self.position = position\n",
    "        self.utility_func = utility_func\n",
    "        self.history = dict(position = [], utility = [])\n",
    "        self.step_size = step_size\n",
    "    \n",
    "    def __repr__(self):\n",
    "        \"\"\"\n",
    "            This function gets called whenever the interpreter needs a \"formal\" \n",
    "            string representation (error logs, etc.)\n",
    "        \"\"\"\n",
    "        return \"Agent<p:%s, u:%s>\" %(self.position, self.utility)\n",
    "    \n",
    "    def __str__(self):\n",
    "        \"\"\"\n",
    "            This function gets called by the interpreter whenever\n",
    "            there needs to be a \"user friendly\" \n",
    "            string description of the Agent object (e.g. `print(Agent())`).\n",
    "        \"\"\"\n",
    "        return \"Agent @ %s [u=%s]\" % (self.position, self.utility)\n",
    "    \n",
    "    def record_state(self):\n",
    "        \"\"\"\n",
    "            Store the current state of the agent in a queue.\n",
    "        \"\"\"\n",
    "        self.history['position'].append(self.position)\n",
    "        self.history['utility'].append(self.utility)\n",
    "    \n",
    "    def move_up(self):\n",
    "        \"\"\"\n",
    "            Increment the Y coordinate of the agent.\n",
    "        \"\"\"\n",
    "        self.record_state()\n",
    "        self.position = (self.position[0], self.position[1]+self.step_size)\n",
    "        self.utility = self.evaluate_utility()\n",
    "        \n",
    "    def move_down(self):\n",
    "        \"\"\"\n",
    "            Decrement the Y coordinate of the agent.\n",
    "        \"\"\"\n",
    "        self.record_state()\n",
    "        self.position = (self.position[0], self.position[1]-self.step_size)\n",
    "        self.utility = self.evaluate_utility()\n",
    "        \n",
    "    def move_left(self):\n",
    "        \"\"\"\n",
    "            Decrement the X coordinate of the agent\n",
    "        \"\"\"\n",
    "        self.record_state()\n",
    "        self.position = (self.position[0]-self.step_size, self.position[1])\n",
    "        self.utility = self.evaluate_utility()\n",
    "        \n",
    "    def move_right(self):\n",
    "        \"\"\"\n",
    "            Increment the X coordinate of the agent\n",
    "        \"\"\"\n",
    "        self.record_state()\n",
    "        self.position = (self.position[0]+self.step_size, self.position[1])\n",
    "        self.utility = self.evaluate_utility()\n",
    "        \n",
    "    def evaluate_utility(self, offset=(0.0, 0.0)):\n",
    "        \"\"\"\n",
    "            Get the utility function relative to the current agent\n",
    "            location. Optinally, evaluate at some offset from the agent.\n",
    "            \n",
    "            :param offset: Tuple of (x,y) coordinates with which to offset the agent\n",
    "                           position to evaluate the utility.\n",
    "            :return: A numeric value for the utility at the evaluated point\n",
    "        \"\"\"\n",
    "        if self.utility_func == None:\n",
    "            return 0   # Simple Agent with simple utility\n",
    "        else:\n",
    "            return self.utility_func((self.position[0]+offset[0],\n",
    "                                      self.position[1]+offset[1]))\n",
    "        \n"
   ]
  },
  {
   "cell_type": "markdown",
   "metadata": {},
   "source": [
    "Pour utiliser la classe, il suffit d'initialiser un objet avec le constructeur de l'agent. Dans ce cas, toutes les valeurs par défaut sont utilisées. De plus, nous ne spécifions pas encore de fonction utilitaire pour l'espace dans lequel l'agent réside. Nous pouvons appeler des fonctions de la classe d'agent pour cet agent en particulier et voir ce qu'il en est."
   ]
  },
  {
   "cell_type": "code",
   "execution_count": null,
   "metadata": {},
   "outputs": [],
   "source": [
    "# Instantiate the Agent object, `heri`...\n",
    "henri = Agent()\n",
    "print('[t = 0]', henri, 'History:', henri.history)\n",
    "\n",
    "# Try moving around a bit and look at the history\n",
    "henri.move_up()\n",
    "print('[t = 1]', henri, 'History:', henri.history)\n",
    "\n",
    "henri.move_left()\n",
    "print('[t = 2]', henri, 'History:', henri.history)\n",
    "\n",
    "henri.move_up()\n",
    "print('[t = 3]', henri, 'History:', henri.history)"
   ]
  },
  {
   "cell_type": "markdown",
   "metadata": {},
   "source": [
    "Avec la façon dont nous avons écrit la classe `Agent`, nous pouvons également lui transmettre n'importe quelle fonction utilitaire basée sur la position. Pensons à mettre Henri dans une sorte de paysage. Dans ce cas, qu’en est-il d’un simple utilitaire gaussien 2D isométrique qui possède un seul point de maximisation, donc quelque chose qui suit une fonction simple comme ...\n",
    "$$U(\\mathbf{x}) = \\frac{1}{2\\pi\\sigma} e ^{-\\frac{(\\mathbf{x} - \\boldsymbol{\\mu})^T(\\mathbf{x} - \\boldsymbol{\\mu})}{2\\sigma^2} }$$"
   ]
  },
  {
   "cell_type": "code",
   "execution_count": null,
   "metadata": {},
   "outputs": [],
   "source": [
    "from math import exp, sqrt, pi\n",
    "\n",
    "def gaussian_utility(position, mean=(0.0,0.0), sig=1.0):\n",
    "    \"\"\"\n",
    "        A simple utility function, essentially just an iid \n",
    "        multivariate normal.\n",
    "    \"\"\"\n",
    "    # Get the variance\n",
    "    v = sig**2\n",
    "    # Calculate distance from mean\n",
    "    d = (position[0] - mean[0], position[1] - mean[1])\n",
    "    dTd = d[0]**2/v + d[1]**2/v\n",
    "    # Scaling\n",
    "    scale = 1/(2*pi*v)\n",
    "    # Final computation\n",
    "    utility = scale * exp(-0.5 * dTd)\n",
    "    utility += 1e-12\n",
    "        \n",
    "    return utility"
   ]
  },
  {
   "cell_type": "markdown",
   "metadata": {},
   "source": [
    "Maintenant que nous avons défini une fonction d’utilité, mettons Henri \"sur le terrain\", pour ainsi dire. Nous pouvons assigner cette fonction d’utilitaire à notre classe `Agent` au moyen d’une fonction ** lambda **. Une fonction lambda nous permet de définir un nouvel appel vers une fonction spécifique dans laquelle certains paramètres sont fixes et certains sont variables. Dans notre cas, nous voulons que les paramètres de la fonction d'utilité (la moyenne et l'écart type) restent fixes, tout en modifiant la position. Une définition de fonction lambda simple ressemble à l'exemple suivant.\n",
    "\n",
    "```python\n",
    "    >>> def foo(param1, param2):\n",
    "    ...     return param1 + param2\n",
    "    ...\n",
    "    >>> foo_single_param = lambda value: foo(value, 4)\n",
    "    >>> foo_single_param(2)\n",
    "    6\n",
    "```\n",
    "\n",
    "Nous pouvons l'utiliser pour passer une fonction lambda en tant qu'utilitaire de l'agent. Voyons comment faire cela, ci-dessous"
   ]
  },
  {
   "cell_type": "code",
   "execution_count": null,
   "metadata": {},
   "outputs": [],
   "source": [
    "# Define some parameters for the utility function\n",
    "utility_peak = (2.0,2.0)\n",
    "utility_sigma = 1.0\n",
    "\n",
    "utility_lambda = lambda position: gaussian_utility(position, mean=utility_peak, sig=utility_sigma)\n",
    "\n",
    "henri = Agent(utility_func = utility_lambda)\n",
    "print('[t = 0]', henri)\n",
    "\n",
    "# Try moving around a bit and look at the history\n",
    "henri.move_up()\n",
    "print('[t = 1]', henri)\n",
    "\n",
    "henri.move_right()\n",
    "print('[t = 2]', henri)\n",
    "\n",
    "henri.move_up()\n",
    "print('[t = 3]', henri)\n",
    "\n",
    "henri.move_right()\n",
    "print('[t = 4]', henri)\n",
    "\n",
    "henri.move_up()\n",
    "print('[t = 5]', henri)"
   ]
  },
  {
   "cell_type": "markdown",
   "metadata": {},
   "source": [
    "---\n",
    "\n",
    "---\n",
    "\n",
    "## Ex. 2 Stochastic Climber\n",
    "Disons que nous avons un alpiniste et qu'il veut gravir le plus haut sommet. Cependant, un fort brouillard s'est abattu sur la vallée dans laquelle il réside. Il ne peut voir que le sol juste devant lui. Il sait que s'il monte toujours le chemin à chaque étape, il arrivera à un sommet ... mais probablement pas au sommet le plus haut. Au lieu de cela, il envisage de prendre une stratégie stochastique alternative.\n",
    "\n",
    "À chaque intervalle de temps, il regarde les chemins en face de lui: N, S, E et W. Il décolle ensuite dans une direction aléatoire, dont la probabilité est proportionnelle aux pentes qui l’entourent. Il pense que cela lui donnera au moins une chance d'arriver au plus haut sommet.\n",
    "\n",
    "Écrivez une classe qui hérite de la classe `Agent` et l’étend dans une classe` StochasticClimber`. Ecrivez une fonction `climb` qui prend le nombre de pas de temps en entrée et lance le grimpeur stochastique."
   ]
  },
  {
   "cell_type": "code",
   "execution_count": null,
   "metadata": {},
   "outputs": [],
   "source": [
    "class StochasticClimber(Agent):    # Inherit from class Agent\n",
    "    def climb(self, steps=1):\n",
    "        \"\"\" Implement me !\n",
    "            Run the stochastic climber for the specified number of steps\n",
    "        \"\"\"\n",
    "        pass"
   ]
  },
  {
   "cell_type": "markdown",
   "metadata": {},
   "source": [
    "*Solution*"
   ]
  },
  {
   "cell_type": "code",
   "execution_count": null,
   "metadata": {},
   "outputs": [],
   "source": [
    "# %load example2.py"
   ]
  },
  {
   "cell_type": "markdown",
   "metadata": {},
   "source": [
    "### Validation"
   ]
  },
  {
   "cell_type": "code",
   "execution_count": null,
   "metadata": {},
   "outputs": [],
   "source": [
    "# Create some landscape for our climber. In this case we have a mountain range like the following\n",
    "#          L\n",
    "#          |\n",
    "#          G\n",
    "#        /  \\\n",
    "#       L    L\n",
    "#\n",
    "#    S   <-- start position\n",
    "#\n",
    "mountain_range = lambda p : gaussian_utility(p, mean=(2.0,2.0), sig = 0.1) + \\\n",
    "                            gaussian_utility(p, mean=(2.0,3.0), sig = 0.5) + \\\n",
    "                            gaussian_utility(p, mean=(1.0,1.0), sig = 0.5) + \\\n",
    "                            gaussian_utility(p, mean=(3.0,1.0), sig = 0.5)\n",
    "            \n",
    "\n",
    "# Run our climber\n",
    "yves = StochasticClimber(utility_func=mountain_range, step_size=0.05)\n",
    "yves.climb(steps=40000)"
   ]
  },
  {
   "cell_type": "markdown",
   "metadata": {},
   "source": [
    "---\n",
    "\n",
    "---"
   ]
  },
  {
   "cell_type": "markdown",
   "metadata": {},
   "source": [
    "## File I/O\n",
    "\n",
    "Maintenant que nous avons effectué notre expérience avec `StochasticClimber`, disons que nous voulons enregistrer ces données sur disque pour une utilisation ultérieure. Peut-être pour une figure (par exemple, le prochain cahier). Ce serait bien de ne pas avoir à relancer l'expérience à chaque fois que nous voulons générer un nouveau chiffre! Jetons un coup d'œil aux E / S de fichier de base et voyons comment écrire un fichier Python ou CSV contenant nos résultats.\n",
    "\n",
    "Dans le premier cas, examinons l'approche la plus simple, qui consiste à stocker l'intégralité de l'objet `yves` sur le disque. En utilisant le module `pickle`, nous pouvons stocker les données Python sur le disque et les recharger plus tard. Cela fonctionne à peu près de la même façon que les fichiers `mat` dans Matlab."
   ]
  },
  {
   "cell_type": "code",
   "execution_count": null,
   "metadata": {},
   "outputs": [],
   "source": [
    "import pickle\n",
    "\n",
    "# A simple example...\n",
    "pickle.dump(yves, open('yves.p','wb'))"
   ]
  },
  {
   "cell_type": "markdown",
   "metadata": {},
   "source": [
    "Cependant, notre fonction lambda ne peut pas être stockée sur le disque. Nous devrons plutôt stocker nos structures statiques (dans ce cas, l'historique)."
   ]
  },
  {
   "cell_type": "code",
   "execution_count": null,
   "metadata": {},
   "outputs": [],
   "source": [
    "with open('yves.p', 'wb') as pickle_file:\n",
    "    pickle.dump(yves.history,pickle_file)"
   ]
  },
  {
   "cell_type": "markdown",
   "metadata": {},
   "source": [
    "Ce bloc de contrôle \"*` avec a comme f: `*\" tente d'ouvrir le fichier spécifié et ferme en outre le descripteur de fichier à la fin du bloc. Ceci est pratique dans la mesure où il existe une erreur lors de l’entrée / sortie du fichier qui pourrait laisser un fichier suspendu ouvert.\n",
    "\n",
    "Voyons maintenant ce que nous avons. Comme nous pouvons le voir ci-dessous, le fichier `yves.p` est maintenant enregistré sur le disque. Celui-ci contient l'historique `StochasticClimber`."
   ]
  },
  {
   "cell_type": "code",
   "execution_count": null,
   "metadata": {},
   "outputs": [],
   "source": [
    "%ls"
   ]
  },
  {
   "cell_type": "markdown",
   "metadata": {},
   "source": [
    "Jetons maintenant un coup d'œil au chargement pour nous assurer qu'il est là."
   ]
  },
  {
   "cell_type": "code",
   "execution_count": null,
   "metadata": {},
   "outputs": [],
   "source": [
    "with open('yves.p','rb') as pickle_file:\n",
    "    yves_history_copy = pickle.load(pickle_file)\n",
    "print(yves_history_copy)  # <-- Write a huge dataset below !"
   ]
  },
  {
   "cell_type": "markdown",
   "metadata": {},
   "source": [
    "Nous prenons note de quelques aspects de cet exemple de cornichon. Plus précisément, les commandes `pick.dump ()` et `pickle.load ()` prennent des descripteurs de fichier, pas les noms de fichier eux-mêmes. Cela signifie que nous devons spécifier les options de lecture et d’écriture. Dans les deux cas, nous vidons toutes les données sous forme binaire (pas de chaînes), nous spécifions donc l'option 'b' lorsque nous utilisons `open ()`.\n",
    "\n",
    "Maintenant, que faisons-nous si nous voulons écrire des données sur un disque accessibles par n’importe quel autre programme (par exemple, Excel, gnuplot, etc.)? Nous pouvons également écrire toutes ces données en tant que CSV. Jetons un coup d'oeil à cet exemple. Ici, nous allons utiliser des pandas pour le faire facilement."
   ]
  },
  {
   "cell_type": "code",
   "execution_count": null,
   "metadata": {},
   "outputs": [],
   "source": [
    "import pandas as pd\n",
    "\n",
    "# Create a new dictionary whose keys represent the headers (columns)\n",
    "# of information that we would like to store in the CSV file.\n",
    "yves_csv = dict(x=[], y=[], z=[])\n",
    "yves_csv['x'] = [yves.history['position'][i][0] for i in range(0,len(yves.history['position']))]\n",
    "yves_csv['y'] = [yves.history['position'][i][1] for i in range(0,len(yves.history['position']))]\n",
    "yves_csv['z'] = yves.history['utility']\n",
    "\n",
    "# Create a DataFrame object from a dictionary\n",
    "df = pd.DataFrame.from_dict(yves_csv)\n",
    "# Write to CSV format\n",
    "df.to_csv(\"yves.csv\", sep=',', header=True, index=False)  \n",
    "%ls"
   ]
  },
  {
   "cell_type": "markdown",
   "metadata": {},
   "source": [
    "Et maintenant nous voyons le fichier CSV écrit sur le disque. Voilà!"
   ]
  }
 ],
 "metadata": {
  "kernelspec": {
   "display_name": "Python 3",
   "language": "python",
   "name": "python3"
  },
  "language_info": {
   "codemirror_mode": {
    "name": "ipython",
    "version": 3
   },
   "file_extension": ".py",
   "mimetype": "text/x-python",
   "name": "python",
   "nbconvert_exporter": "python",
   "pygments_lexer": "ipython3",
   "version": "3.7.1"
  }
 },
 "nbformat": 4,
 "nbformat_minor": 1
}
