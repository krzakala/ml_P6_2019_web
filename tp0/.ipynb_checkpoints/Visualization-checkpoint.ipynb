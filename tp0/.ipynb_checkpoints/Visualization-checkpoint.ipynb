{
 "cells": [
  {
   "cell_type": "code",
   "execution_count": null,
   "metadata": {},
   "outputs": [],
   "source": [
    "# Some Jupyter Magic for inline charts\n",
    "%matplotlib inline "
   ]
  },
  {
   "cell_type": "markdown",
   "metadata": {},
   "source": [
    "# Basic Visualization with Matplotlib\n",
    "Nous allons maintenant voir comment utiliser Matplotlib pour nous aider à visualiser nos expériences. Matplotlib peut être utilisé à la fois pour l'édification personnelle et pour créer des graphiques adaptés à la publication. Dans ce cahier, nous aborderons quelques notions de base. Matplotlib et, plus particulièrement, PyPlot, sont des ressources incroyablement profondes qui vous permettront de créer les graphiques les plus compliqués que votre coeur désire.\n",
    "\n",
    "En raison de la profondeur du sujet, nous n'avons pas le temps de couvrir toutes les fonctionnalités possibles de Matplotlib, mais nous allons couvrir les bases, ici. Si vous avez déjà travaillé avec Matlab, cette section devrait vous sembler familière. Sinon, nous espérons que ce bloc-notes constituera un point de départ pour vos propres visualisations.\n",
    "\n",
    "Le module le plus courant de Matplotlib avec lequel vous allez vous connecter est PyPlot. PyPlot contient la majorité des fonctionnalités que nous allons utiliser dans ce bloc-notes. Pour la documentation complète de PyPlot, [veuillez consulter la documentation] (http://matplotlib.org/2.0.0/contents.html).  Le notebook understanding-matplotlib.ipynb est aussi une source d'approfondissement."
   ]
  },
  {
   "cell_type": "code",
   "execution_count": null,
   "metadata": {},
   "outputs": [],
   "source": [
    "import numpy as np\n",
    "import matplotlib.pyplot as plt"
   ]
  },
  {
   "cell_type": "markdown",
   "metadata": {},
   "source": [
    "## The Basic Plot\n",
    "\n",
    "La fonctionnalité la plus élémentaire et la plus courante consiste à créer un graphique x-y simple. Ce type de graphique représente la très grande majorité des chiffres que vous voyez dans la publication. Jetons un coup d'œil à ces graphiques de base et apprenons un peu plus sur Matplotlib & PyPlot en cours de route."
   ]
  },
  {
   "cell_type": "code",
   "execution_count": null,
   "metadata": {},
   "outputs": [],
   "source": [
    "# Define an axis of time\n",
    "t  = np.linspace(0,10,1000)  # 1,000 evenly spaced points between [0,10]\n",
    "# Define some value x(t)\n",
    "xt = np.sin(t) + 0.1*np.sin(t*40)"
   ]
  },
  {
   "cell_type": "code",
   "execution_count": null,
   "metadata": {},
   "outputs": [],
   "source": [
    "plt.figure(figsize=(10,5))   # Specify dimensions of the figure in (width,height)\n",
    "plt.plot(t,xt)               # The most basic chart  !"
   ]
  },
  {
   "cell_type": "markdown",
   "metadata": {},
   "source": [
    "C'est aussi simple que ça! Vous avez fait votre premier graphique! Bien sûr, il existe de nombreuses autres options que nous pouvons proposer pour que ce tableau atteigne la qualité de publication. Jetons un coup d'oeil à certaines de ces options, maintenant."
   ]
  },
  {
   "cell_type": "code",
   "execution_count": null,
   "metadata": {
    "scrolled": true
   },
   "outputs": [],
   "source": [
    "plt.figure(figsize=(10,5))   # Specify dimensions of the figure in (width,height)\n",
    "ha = plt.plot(t,xt, label = 'Obs. A')  #  Save a copy of the plot handle\n",
    "\n",
    "# Create some labels for the axes. You can use TeX !\n",
    "plt.xlabel('Time $t$ (sec)', fontsize=16)\n",
    "plt.ylabel('$x(t)$', fontsize=16)\n",
    "plt.title('Displacement over Time', fontsize=20)\n",
    "\n",
    "# Tighten the boundaries to get rid of white-space\n",
    "plt.xlim([0,10])\n",
    "\n",
    "# Do you want a grid?\n",
    "plt.grid('on')\n",
    "\n",
    "# We can re-draw features of the line after-the-fact using the plot handle\n",
    "plt.setp(ha,color='r')    # Notice that this doesn't update the legend.\n",
    "\n",
    "# We can even include another line if we feel like it\n",
    "xtB = np.sin(t+2) + 0.05*np.sin(t*20)\n",
    "hb = plt.plot(t,xtB,':', label='Obs. B')\n",
    "\n",
    "# Insert a legend ! \n",
    "plt.legend(fontsize=16, loc=4)\n",
    "\n",
    "# You can save this to disk, as well.\n",
    "plt.savefig('my_first_plot.pdf', dpi=300, orientation='landscape', bbox_inches='tight')"
   ]
  },
  {
   "cell_type": "markdown",
   "metadata": {},
   "source": [
    "Vous l'avez fait! Vous avez fait votre premier plot magnifique et l'avez sauvegardé sur disque!"
   ]
  },
  {
   "cell_type": "markdown",
   "metadata": {},
   "source": [
    "## Visualizing Data\n",
    "Revenons à notre ami Yves et examinons ce jeu de données `StochasticClimber`. Nous avons réussi à diriger le grimpeur, mais malheureusement, il n'y avait rien d'intéressant à regarder. Voyons comment Yves a fait son voyage d'escalade.\n",
    "\n",
    "Premièrement, nous devons recharger le jeu de données. Nous pouvons accomplir cela facilement via le cornichon que nous avons économisé ou le CSV. Ici, nous allons utiliser le CSV et le charger à travers des pandas."
   ]
  },
  {
   "cell_type": "code",
   "execution_count": null,
   "metadata": {},
   "outputs": [],
   "source": [
    "import pandas as pd\n",
    "\n",
    "# Load the CSV dataset... simple !\n",
    "yvesDF = pd.read_csv('yves.csv')\n",
    "yvesDF"
   ]
  },
  {
   "cell_type": "markdown",
   "metadata": {},
   "source": [
    "Comme nous le voyons ci-dessus, Jupyter dispose déjà de fonctionnalités d’affichage intéressantes pour les Pandas DataFrames (ici, il les affiche sous forme de tableau). Alors, où est allé Yves dans son voyage? "
   ]
  },
  {
   "cell_type": "code",
   "execution_count": null,
   "metadata": {},
   "outputs": [],
   "source": [
    "plt.figure(figsize=(10,10))\n",
    "\n",
    "# Show Yves' Path\n",
    "plt.plot(yvesDF['x'],yvesDF['y'],label='Yves')\n",
    "\n",
    "# Show his starting and ending points\n",
    "plt.plot(0,0,'*k',markerfacecolor='k',markersize=10, label='Yves Start')\n",
    "plt.plot(yvesDF['x'][-1:],yvesDF['y'][-1:],'*r',markerfacecolor='r',markersize=10, label='Yves End')\n",
    "\n",
    "# Show the true peaks\n",
    "plt.plot(2,2,'^g',markerfacecolor='g',markersize=10, label='Tallest Peak')\n",
    "plt.plot(1,1,'^k',markerfacecolor='k',markersize=10, label='Local Peak')\n",
    "plt.plot(3,1,'^k',markerfacecolor='k',markersize=10, label='Local Peak')\n",
    "plt.plot(2,3,'^k',markerfacecolor='k',markersize=10, label='Local Peak')\n",
    "\n",
    "plt.legend(loc=2,fontsize=16)"
   ]
  },
  {
   "cell_type": "markdown",
   "metadata": {},
   "source": [
    "Nous avons donc à présent un tableau assez intéressant détaillant les endroits où Yves est allé sur la carte.\n",
    "\n",
    "Mais pouvons-nous avoir une idée du temps qu’il a passé à certains endroits? Une façon rapide et sale est de changer la largeur de la ligne. Lorsque la largeur de la ligne est inférieure à «1», elle inclut un effet de transparence. Cette transparence se compose lorsque la ligne de tracé se croise."
   ]
  },
  {
   "cell_type": "code",
   "execution_count": null,
   "metadata": {},
   "outputs": [],
   "source": [
    "plt.figure(figsize=(10,10))\n",
    "\n",
    "# Show Yves' Path\n",
    "plt.plot(yvesDF['x'],yvesDF['y'],label='Yves', linewidth=0.05)\n",
    "\n",
    "# Show his starting and ending points\n",
    "plt.plot(0,0,'*k',markerfacecolor='k',markersize=10, label='Yves Start')\n",
    "plt.plot(yvesDF['x'][-1:],yvesDF['y'][-1:],'*r',markerfacecolor='r',markersize=10, label='Yves End')\n",
    "\n",
    "# Show the true peaks\n",
    "plt.plot(2,2,'^g',markerfacecolor='g',markersize=10, label='Tallest Peak')\n",
    "plt.plot(1,1,'^k',markerfacecolor='k',markersize=10, label='Local Peak')\n",
    "plt.plot(3,1,'^k',markerfacecolor='k',markersize=10, label='Local Peak')\n",
    "plt.plot(2,3,'^k',markerfacecolor='k',markersize=10, label='Local Peak')\n",
    "\n",
    "plt.legend(loc=2,fontsize=16)"
   ]
  },
  {
   "cell_type": "markdown",
   "metadata": {},
   "source": [
    "Nous voyons donc que l’effet final est une \"densité\", ce qui nous montre que Yves passe le plus clair de son temps autour des sommets."
   ]
  },
  {
   "cell_type": "markdown",
   "metadata": {},
   "source": [
    "Nous pouvons même faire des tracés 3D. Par exemple, si nous voulions tracer le chemin d’Yves avec sa hauteur, nous pourrons ainsi avoir une idée de la pente des montagnes qu’il a gravies. Nous pouvons également le faire en spécifiant un axe 3D."
   ]
  },
  {
   "cell_type": "code",
   "execution_count": null,
   "metadata": {},
   "outputs": [],
   "source": [
    "# Import some extra tools\n",
    "from mpl_toolkits.mplot3d import Axes3D\n",
    "fig = plt.figure(figsize=(10,10))\n",
    "# Set a 3D axis\n",
    "ax = fig.add_subplot(111, projection='3d')\n",
    "\n",
    "# Use the 3D axis for plotting\n",
    "ax.plot(yvesDF['x'], yvesDF['y'], yvesDF['z'], 'r', linewidth=0.1, alpha=0.75)\n",
    "ax.set_xlabel('West-East', fontsize=16)\n",
    "ax.set_ylabel('North-South', fontsize=16)\n",
    "ax.set_zlabel('Height', fontsize=16)\n",
    "plt.xlim((-1,4))\n",
    "plt.ylim((-1,4))\n",
    "ax.view_init(30, -45)"
   ]
  },
  {
   "cell_type": "markdown",
   "metadata": {},
   "source": [
    "Nous pouvons même regarder où Yves s'est le plus attardé en termes de sa position (x, y)."
   ]
  },
  {
   "cell_type": "code",
   "execution_count": null,
   "metadata": {},
   "outputs": [],
   "source": [
    "plt.figure(figsize=(20,10))\n",
    "# Histogram of X locations\n",
    "plt.subplot(121)\n",
    "plt.hist(yvesDF['x'], bins = 30);\n",
    "plt.xlabel('West-East Position', fontsize=16)\n",
    "plt.title('Dwell Time, Horizontal', fontsize=20)\n",
    "plt.ylabel('Steps at Position', fontsize=16)\n",
    "\n",
    "plt.subplot(122);\n",
    "plt.hist(yvesDF['y'], bins = 30);\n",
    "plt.xlabel('South-North Position', fontsize=16)\n",
    "plt.ylabel('Steps at Position', fontsize=16)\n",
    "plt.title('Dwell Time, Vertical', fontsize=20)\n"
   ]
  },
  {
   "cell_type": "markdown",
   "metadata": {},
   "source": [
    "On voit donc qu'Yves a passé la majeure partie de son temps autour du plus haut sommet. Mais une fois arrivé là-bas, est-il resté là?"
   ]
  },
  {
   "cell_type": "code",
   "execution_count": null,
   "metadata": {},
   "outputs": [],
   "source": [
    "# Get the number of steps Yves took\n",
    "maxstep = len(yvesDF['x'])\n",
    "\n",
    "plt.figure(figsize=(20,10))\n",
    "\n",
    "# Plot the position of the true tallest peak\n",
    "plt.plot([0, maxstep],[2, 2],':k', label='Tallest Peak')\n",
    "\n",
    "# Plot Yves Path\n",
    "plt.plot(yvesDF['x'], linewidth=0.5, label='West-East Position', alpha=0.7)\n",
    "plt.plot(yvesDF['y'], linewidth=0.5, label='South-North Position', alpha=0.7)\n",
    "\n",
    "# Formatting\n",
    "plt.xlim([1,maxstep])\n",
    "plt.xlabel('Step Count', fontsize=18)\n",
    "plt.ylabel('Position', fontsize=18)\n",
    "plt.legend(loc=4, fontsize=18)"
   ]
  },
  {
   "cell_type": "markdown",
   "metadata": {},
   "source": [
    "Ou, d'une autre manière, nous pouvons également examiner la distance qui sépare Yves du plus haut sommet."
   ]
  },
  {
   "cell_type": "code",
   "execution_count": null,
   "metadata": {},
   "outputs": [],
   "source": [
    "# Calculate Euclidean distance from peak\n",
    "d = np.sqrt((yvesDF['x'] - 2)**2 + (yvesDF['y'] - 2)**2)\n",
    "\n",
    "plt.figure(figsize=(20,10))\n",
    "\n",
    "# Plot Yves Path\n",
    "plt.plot(d, linewidth=0.5,  alpha=0.7)\n",
    "\n",
    "# Formatting\n",
    "plt.xlim([1,maxstep])\n",
    "plt.xlabel('Step Count', fontsize=18)\n",
    "plt.ylabel('Distance from Tallest Peak', fontsize=18)\n",
    "plt.ylim([0,3])"
   ]
  },
  {
   "cell_type": "markdown",
   "metadata": {},
   "source": [
    "Nous pouvons voir qu’à la fin, Yves reste assez près du plus haut sommet. Il semble qu'une fois arrivé, il reste dans les parages. Mais pourquoi voyons-nous cette variation autour de la valeur centrale? Eh bien, rappelez-vous que nous avons sélectionné une taille de grille de 0,05. Nous devrions nous attendre à voir cette variation de «largeur de grille» autour du pic... verifions:"
   ]
  },
  {
   "cell_type": "code",
   "execution_count": null,
   "metadata": {},
   "outputs": [],
   "source": [
    "np.sqrt(np.var(d[25000:]))"
   ]
  },
  {
   "cell_type": "markdown",
   "metadata": {},
   "source": [
    "En effet, nous retrouvons ici une variance autour de ~ 0,05 + - 0,01. On voit donc qu'Yves se déplace principalement en boucles serrées au sommet du plus haut sommet de la montagne! Il semble que sa stratégie stochastique ait porté ses fruits :)"
   ]
  },
  {
   "cell_type": "code",
   "execution_count": null,
   "metadata": {},
   "outputs": [],
   "source": []
  }
 ],
 "metadata": {
  "kernelspec": {
   "display_name": "Python 3",
   "language": "python",
   "name": "python3"
  },
  "language_info": {
   "codemirror_mode": {
    "name": "ipython",
    "version": 3
   },
   "file_extension": ".py",
   "mimetype": "text/x-python",
   "name": "python",
   "nbconvert_exporter": "python",
   "pygments_lexer": "ipython3",
   "version": "3.7.1"
  }
 },
 "nbformat": 4,
 "nbformat_minor": 2
}
