{
 "cells": [
  {
   "cell_type": "markdown",
   "metadata": {},
   "source": [
    "## Introduction a matplotlib"
   ]
  },
  {
   "cell_type": "markdown",
   "metadata": {},
   "source": [
    "Matplotlib est une bibliothèque Python pour la visualisation de données (graphiques 2D / 3D, animations, etc.). Il permet de faire des figures ans de nombreux formats. Nous allons explorer matplotlib en mode interactif en couvrant les cas les plus courants dans ce tutoriel."
   ]
  },
  {
   "cell_type": "code",
   "execution_count": null,
   "metadata": {},
   "outputs": [],
   "source": [
    "# mandatory imports\n",
    "import numpy as np\n",
    "import matplotlib\n",
    "import matplotlib.pyplot as plt\n",
    "from mpl_toolkits.mplot3d import Axes3D  # for 3D plotting\n",
    "%matplotlib inline \n",
    "#don't ask!"
   ]
  },
  {
   "cell_type": "markdown",
   "metadata": {},
   "source": [
    "`pyplot` fournit une interface pratique à la bibliothèque de plot matplotlib. Il est calqué sur MATLAB. Par conséquent, la majorité des commandes de tracé dans pyplot ont des analogues MATLAB avec des arguments similaires. Les commandes importantes sont expliquées à l'aide d'exemples interactifs."
   ]
  },
  {
   "cell_type": "code",
   "execution_count": null,
   "metadata": {},
   "outputs": [],
   "source": [
    "# check version\n",
    "matplotlib.__version__"
   ]
  },
  {
   "cell_type": "markdown",
   "metadata": {},
   "source": [
    "Voyons maintenant un scénario simple:"
   ]
  },
  {
   "cell_type": "markdown",
   "metadata": {},
   "source": [
    "## **Simple curve plot**"
   ]
  },
  {
   "cell_type": "code",
   "execution_count": null,
   "metadata": {},
   "outputs": [],
   "source": [
    "# get 10 linearly spaced points in the interval [0, 5)\n",
    "x = np.linspace(0, 5, 10)\n",
    "y = x ** 2\n",
    "\n",
    "# create a figure/canvas of desired size\n",
    "plt.figure(figsize=(8, 6))\n",
    "\n",
    "# plot values; with a color `red`\n",
    "plt.plot(x, y, 'r')\n",
    "\n",
    "# give labels to the axes\n",
    "plt.xlabel('x')\n",
    "plt.ylabel('y')\n",
    "\n",
    "# give a title to the plot\n",
    "plt.title(r\"Plot of $y=x^2$\")\n",
    "plt.show()"
   ]
  },
  {
   "cell_type": "markdown",
   "metadata": {},
   "source": [
    "### **Cosine & Sine Plot**\n",
    "\n",
    "À partir des paramètres par défaut, nous aimerions dessiner les fonctions `cosinus` et` sinus` sur le même tracé. Ensuite, nous allons le rendre plus joli en personnalisant les paramètres par défaut."
   ]
  },
  {
   "cell_type": "code",
   "execution_count": null,
   "metadata": {},
   "outputs": [],
   "source": [
    "# 256 linearly spaced values between -pi and +pi\n",
    "# both endpoints would be included; check (X[0], X[-1])\n",
    "X = np.linspace(-np.pi, np.pi, 256, endpoint=True)\n",
    "\n",
    "# compute cosine and sin values\n",
    "C, S = np.cos(X), np.sin(X)\n",
    "\n",
    "# plot both curves\n",
    "plt.plot(X, C)\n",
    "plt.plot(X, S)\n",
    "\n",
    "# show the plot\n",
    "plt.show()"
   ]
  },
  {
   "cell_type": "markdown",
   "metadata": {},
   "source": [
    "#### L'image ci-dessus ne semble pas trop attrayante. Alors, personnalisons un peu les paramètres par défaut.\n",
    "\n",
    "*Matplotlib* permet de spécifier le rapport de format, le DPI et la taille de la figure lors de la création de l'objet Figure, à l'aide des arguments de mot-clé figsize et dpi. figsize est un tuple de la largeur et de la hauteur de la figure en pouces, et dpi est le nombre de points par pouce (pixel par pouce). Pour créer un chiffre de 800 x 600 pixels, 100 points par pouce, nous pouvons faire:\n"
   ]
  },
  {
   "cell_type": "code",
   "execution_count": null,
   "metadata": {},
   "outputs": [],
   "source": [
    "# Create a new figure of size 800x600, using 100 dots per inch\n",
    "plt.figure(figsize=(8, 6), dpi=100)\n",
    "\n",
    "# Create a new subplot from a grid of 1x1\n",
    "plt.subplot(111)\n",
    "\n",
    "# Now, plot `cosine` using `blue` color with a continuous line of width 1 (pixel)\n",
    "plt.plot(X, C, color=\"blue\", linewidth=1.0, linestyle=\"-\")\n",
    "\n",
    "# And plot `sine` using `green` color with a continuous line of width 1 (pixel)\n",
    "plt.plot(X, S, color=\"green\", linewidth=1.0, linestyle=\"-\")\n",
    "\n",
    "# Set x limits to [-4, +4]\n",
    "plt.xlim(-4.0, 4.0)\n",
    "\n",
    "# Set y limits to [-1, +1]\n",
    "plt.ylim(-1.0, 1.0)\n",
    "\n",
    "# optionally, save the figure as a pdf using 72 dots per inch\n",
    "plt.savefig(\"./sine_cosine.pdf\", format='pdf', dpi=72)\n",
    "\n",
    "# show grid\n",
    "plt.grid(True)\n",
    "\n",
    "# Show the plot on the screen\n",
    "plt.show()"
   ]
  },
  {
   "cell_type": "markdown",
   "metadata": {},
   "source": [
    "--------\n",
    "\n",
    "## ** définition des axes limites **\n",
    "\n",
    "Au lieu de coder en dur les valeurs `xlim` et` ylim`, nous pouvons prendre ces valeurs dans le tableau lui-même, puis définir les limites en conséquence.\n",
    "Nous pouvons également modifier les kwargs `linewidth` et` color` selon notre souhait."
   ]
  },
  {
   "cell_type": "code",
   "execution_count": null,
   "metadata": {},
   "outputs": [],
   "source": [
    "# set figure size and dpi (dots per inch)\n",
    "plt.figure(figsize=(10, 6), dpi=80)\n",
    "\n",
    "# Create a new subplot from a grid of 1x1\n",
    "plt.subplot(111)\n",
    "\n",
    "# customize color and line width\n",
    "plt.plot(X, C, color=\"blue\", linewidth=2.5, linestyle=\"-\")\n",
    "plt.plot(X, S, color=\"red\",  linewidth=2.5, linestyle=\"-\")\n",
    "\n",
    "# set lower & upper bound by taking min & max value respectively\n",
    "plt.xlim(X.min()*1.1, X.max()*1.1)\n",
    "plt.ylim(C.min()*1.1, C.max()*1.1)\n",
    "\n",
    "# optionally, save the figure as a pdf using 72 dots per inch\n",
    "plt.savefig(\"./sine_cosine.pdf\", format='pdf', dpi=80)\n",
    "\n",
    "# show it on screen\n",
    "plt.show()"
   ]
  },
  {
   "cell_type": "markdown",
   "metadata": {},
   "source": [
    "## **setting axes ticks**"
   ]
  },
  {
   "cell_type": "code",
   "execution_count": null,
   "metadata": {},
   "outputs": [],
   "source": [
    "# set figure size and dpi (dots per inch)\n",
    "plt.figure(figsize=(10, 6), dpi=80)\n",
    "\n",
    "# Create a new subplot from a grid of 1x1\n",
    "plt.subplot(111)\n",
    "\n",
    "# customize color and line width\n",
    "plt.plot(X, C, color=\"blue\", linewidth=2.5, linestyle=\"-\")\n",
    "plt.plot(X, S, color=\"red\",  linewidth=2.5, linestyle=\"-\")\n",
    "\n",
    "# set lower & upper bound by taking min & max value respectively\n",
    "plt.xlim(X.min()*1.1, X.max()*1.1)\n",
    "plt.ylim(C.min()*1.1, C.max()*1.1)\n",
    "\n",
    "# provide five tick values for x and 3 for y\n",
    "plt.xticks([-np.pi, -np.pi/2, 0, np.pi/2, np.pi])\n",
    "plt.yticks([-1, 0, +1])\n",
    "\n",
    "# optionally, save the figure as a pdf using 72 dots per inch\n",
    "plt.savefig(\"./sine_cosine.pdf\", format='pdf', dpi=80)\n",
    "\n",
    "# show it on screen\n",
    "plt.show()"
   ]
  },
  {
   "cell_type": "markdown",
   "metadata": {},
   "source": [
    "## **setting axes tick labels**\n",
    "\n",
    "Nous avons corrigé les ticks mais leur libellé n’est pas très explicite. On pourrait deviner que 3.142 est π mais il serait préférable de le rendre explicite. Lorsque nous définissons des valeurs de tick, nous pouvons également fournir une étiquette correspondante dans la deuxième liste d'arguments. Notez que nous utiliserons du latex pour permettre un rendu agréable de l'étiquette."
   ]
  },
  {
   "cell_type": "code",
   "execution_count": null,
   "metadata": {},
   "outputs": [],
   "source": [
    "# set figure size and dpi (dots per inch)\n",
    "plt.figure(figsize=(10, 6), dpi=80)\n",
    "\n",
    "# Create a new subplot from a grid of 1x1\n",
    "plt.subplot(111)\n",
    "\n",
    "# customize color and line width\n",
    "plt.plot(X, C, color=\"blue\", linewidth=2.5, linestyle=\"-\")\n",
    "plt.plot(X, S, color=\"red\",  linewidth=2.5, linestyle=\"-\")\n",
    "\n",
    "# set lower & upper bound by taking min & max value respectively\n",
    "plt.xlim(X.min()*1.1, X.max()*1.1)\n",
    "plt.ylim(C.min()*1.1, C.max()*1.1)\n",
    "\n",
    "# provide five tick values for x and 3 for y\n",
    "# and pass the corresponding label as a second argument.\n",
    "plt.xticks([-np.pi, -np.pi/2, 0, np.pi/2, np.pi],\n",
    "           [r'$-\\pi$', r'$-\\pi/2$', r'$0$', r'$+\\pi/2$', r'$+\\pi$'])\n",
    "\n",
    "plt.yticks([-1, 0, +1],\n",
    "           [r'$-1$', r'$0$', r'$+1$'])\n",
    "\n",
    "# optionally, save the figure as a pdf using 72 dots per inch\n",
    "plt.savefig(\"./sine_cosine.pdf\", format='pdf', dpi=80)\n",
    "\n",
    "# show it on screen\n",
    "plt.show()\n"
   ]
  },
  {
   "cell_type": "markdown",
   "metadata": {},
   "source": [
    "## **Adding legends**"
   ]
  },
  {
   "cell_type": "code",
   "execution_count": null,
   "metadata": {},
   "outputs": [],
   "source": [
    "# set figure size and dpi (dots per inch)\n",
    "plt.figure(figsize=(10, 6), dpi=80)\n",
    "\n",
    "# Create a new subplot from a grid of 1x1\n",
    "plt.subplot(111)\n",
    "\n",
    "# customize color and line width\n",
    "# `label` is essential for `plt.legend` to work\n",
    "plt.plot(X, C, color=\"blue\", linewidth=2.5, linestyle=\"-\", label=\"cosine\")\n",
    "plt.plot(X, S, color=\"red\",  linewidth=2.5, linestyle=\"-\", label=\"sine\")\n",
    "\n",
    "# set lower & upper bound by taking min & max value respectively\n",
    "plt.xlim(X.min()*1.1, X.max()*1.1)\n",
    "plt.ylim(C.min()*1.1, C.max()*1.1)\n",
    "\n",
    "# provide five tick values for x and 3 for y\n",
    "# and pass the corresponding label as a second argument.\n",
    "plt.xticks([-np.pi, -np.pi/2, 0, np.pi/2, np.pi],\n",
    "           [r'$-\\pi$', r'$-\\pi/2$', r'$0$', r'$+\\pi/2$', r'$+\\pi$'])\n",
    "\n",
    "plt.yticks([-1, 0, +1],\n",
    "           [r'$-1$', r'$0$', r'$+1$'])\n",
    "\n",
    "# show legend on the upper left side of the axes\n",
    "plt.legend(loc='upper left', frameon=False)\n",
    "\n",
    "# optionally, save the figure as a pdf using 72 dots per inch\n",
    "plt.savefig(\"./sine_cosine.pdf\", format='pdf', dpi=80)\n",
    "\n",
    "# show it on screen\n",
    "plt.show()\n"
   ]
  },
  {
   "cell_type": "markdown",
   "metadata": {},
   "source": [
    "----------\n",
    "\n",
    "### **Figure & Subplots**\n",
    "\n",
    "**Figure**\n",
    "\n",
    "Une figure correspond aux fenêtres de l'interface graphique dont le titre est \"Figure #\". Les chiffres sont numérotés à partir de 1 par opposition à la méthode Python normale à partir de 0. Plusieurs paramètres déterminent l'aspect du chiffre."
   ]
  },
  {
   "cell_type": "markdown",
   "metadata": {},
   "source": [
    "\n",
    "| Argument | Default       |Description |\n",
    "|----------|:-------------:|------:|\n",
    "| num      | 1             | number of figure |\n",
    "| figsize  |figure.figsize | figure size in in inches (width, height)|\n",
    "| dpi      |figure.dpi |   resolution in dots per inch|\n",
    "|facecolor |figure.facecolor|color of the drawing background|\n",
    "|edgecolor |figure.edgecolor|color of edge around the drawing background|\n",
    "|frameon   |True            | draw figure frame or not |"
   ]
  },
  {
   "cell_type": "markdown",
   "metadata": {},
   "source": [
    "**Subplot**\n",
    "\n",
    "Avec sous-parcelle, vous pouvez organiser les images dans une grille régulière. Vous devez spécifier le nombre de lignes et de colonnes et le nombre de tracés. Le graphique suivant montre comment utiliser le * titre de la figure *, les * étiquettes d'axe * et les * légendes * dans une sous-parcelle:"
   ]
  },
  {
   "cell_type": "code",
   "execution_count": null,
   "metadata": {},
   "outputs": [],
   "source": [
    "x = np.linspace(0, 5, 10)\n",
    "y = x ** 2\n",
    "\n",
    "fig, axes = plt.subplots(1, 2, figsize=(8,4), dpi=100)\n",
    "\n",
    "# plot subplot 1\n",
    "axes[0].plot(x, x**2, color=\"green\", label=\"y = x**2\")\n",
    "axes[0].plot(x, x**3, color=\"red\", label=\"y = x**3\")\n",
    "axes[0].legend(loc=2); # upper left corner\n",
    "axes[0].set_xlabel('x')\n",
    "axes[0].set_ylabel('y')\n",
    "axes[0].set_title('Plot of y=x^2 and y=x^3')\n",
    "\n",
    "# plot subplot 2\n",
    "axes[1].plot(x, x**2, color=\"violet\", label=\"y = x**2\")\n",
    "axes[1].plot(x, x**3, color=\"blue\", label=\"y = x**3\")\n",
    "axes[1].legend(loc=2); # upper left corner\n",
    "axes[1].set_xlabel('x')\n",
    "axes[1].set_ylabel('y')\n",
    "axes[1].set_title('Plot of y=x^2 and y=x^3')\n",
    "\n",
    "# `fig.tight_layout()` automatically adjusts the positions of the axes on the figure canvas so that there is no overlapping content\n",
    "# comment this out to see the difference\n",
    "fig.tight_layout()\n",
    "\n",
    "plt.show()"
   ]
  },
  {
   "cell_type": "markdown",
   "metadata": {},
   "source": [
    "## **Formatting text: LaTeX, fontsize, font family**\n",
    "\n",
    "Matplotlib supporte parfaitement $ LaTeX $. Tout ce que nous avons à faire est d’utiliser des signes dollar pour encapsuler LaTeX dans n’importe quel texte (légende, titre, étiquette, etc.). Par exemple, \"\" $ y = x ^ 3 $ \"`.\n",
    "\n",
    "Mais ici, nous pourrions rencontrer un problème légèrement subtil avec le code $ LaTeX $ et les chaînes de texte Python. Dans $ LaTeX $, nous utilisons fréquemment la barre oblique inverse dans les commandes, par exemple `\\ alpha` pour produire le symbole α. Mais la barre oblique inverse a déjà une signification dans les chaînes Python (le caractère du code d'échappement). Pour éviter que Python ne dérange notre code latex, nous devons utiliser des chaînes de texte \"brutes\". Les chaînes de texte brutes sont précédées d'un `'r' ', comme` r \"\\ alpha\" `ou\" r \"\\ alpha'` au lieu de\" \"\\ alpha\" `ou\"' alpha \":"
   ]
  },
  {
   "cell_type": "code",
   "execution_count": null,
   "metadata": {},
   "outputs": [],
   "source": [
    "fig, ax = plt.subplots(figsize=(8,4), dpi=100)\n",
    "\n",
    "ax.plot(x, x**2, label=r\"$y = \\alpha^2$\")\n",
    "ax.plot(x, x**3, label=r\"$y = \\alpha^3$\")\n",
    "ax.legend(loc=2) # upper left corner\n",
    "ax.set_xlabel(r'$\\alpha$', fontsize=18)\n",
    "ax.set_ylabel(r'$y$', fontsize=18)\n",
    "ax.set_title(r'Plot of y=$\\alpha^{2}$ and y=$\\alpha^{3}$')\n",
    "plt.show()"
   ]
  },
  {
   "cell_type": "markdown",
   "metadata": {},
   "source": [
    "## **Line and marker styles**\n",
    "\n",
    "Pour changer la largeur de la ligne, nous pouvons utiliser l’argument du mot clé `linewidth` ou` lw`. Le style de ligne peut être sélectionné en utilisant les arguments du mot clé `linestyle` ou` ls`:"
   ]
  },
  {
   "cell_type": "code",
   "execution_count": null,
   "metadata": {},
   "outputs": [],
   "source": [
    "fig, ax = plt.subplots(figsize=(12,6))\n",
    "\n",
    "# possible marker symbols: marker = '+', 'o', '*', 's', ',', '.', '1', '2', '3', '4', ...\n",
    "ax.plot(x, x+ 9, color=\"green\", lw=2, ls='--', marker='+')\n",
    "ax.plot(x, x+10, color=\"green\", lw=2, ls='--', marker='o')\n",
    "ax.plot(x, x+11, color=\"green\", lw=2, ls='--', marker='s')\n",
    "ax.plot(x, x+12, color=\"green\", lw=2, ls='--', marker='1')\n",
    "\n",
    "plt.show()"
   ]
  },
  {
   "cell_type": "markdown",
   "metadata": {},
   "source": [
    "## **Logarithmic scale**\n",
    "Il est également possible de définir une échelle logarithmique pour un ou les deux axes. Cette fonctionnalité n'est en fait qu'une application d'un système de transformation plus général dans Matplotlib. Les échelles de chacun des axes sont définies séparément en utilisant les méthodes `set_xscale` et` set_yscale` qui acceptent un paramètre (avec la valeur `\" log \"`):"
   ]
  },
  {
   "cell_type": "code",
   "execution_count": null,
   "metadata": {},
   "outputs": [],
   "source": [
    "fig, axes = plt.subplots(1, 2, figsize=(12, 6))\n",
    "\n",
    "# plot normal scale\n",
    "axes[0].plot(x, np.exp(x), color=\"red\")\n",
    "axes[0].plot(x, x**2, color=\"green\")\n",
    "axes[0].set_title(\"Normal scale\")\n",
    "axes[0].grid()  # show grid\n",
    "\n",
    "# plot `log` scale\n",
    "axes[1].plot(x, np.exp(x), color=\"blue\")\n",
    "axes[1].plot(x, x**2, color=\"violet\")\n",
    "axes[1].set_yscale(\"log\")\n",
    "axes[1].set_title(\"Logarithmic scale (y)\")\n",
    "axes[1].grid()  # show grid\n",
    "\n",
    "fig.tight_layout()\n",
    "plt.show()"
   ]
  },
  {
   "cell_type": "markdown",
   "metadata": {},
   "source": [
    "## **Histogram plot**"
   ]
  },
  {
   "cell_type": "code",
   "execution_count": null,
   "metadata": {},
   "outputs": [],
   "source": [
    "n = np.random.randn(100000)\n",
    "fig, axes = plt.subplots(1, 2, figsize=(12, 6))\n",
    "\n",
    "# plot default histogram\n",
    "axes[0].hist(n, color=\"blue\")\n",
    "axes[0].set_title(\"Default histogram\")\n",
    "axes[0].set_xlim((np.min(n), np.max(n)))\n",
    "\n",
    "# plot cumulative histogram\n",
    "axes[1].hist(n, cumulative=True, bins=50, color=\"green\")\n",
    "axes[1].set_title(\"Cumulative detailed histogram\")\n",
    "axes[1].set_xlim((np.min(n), np.max(n)))\n",
    "\n",
    "fig.tight_layout()\n",
    "plt.show()"
   ]
  },
  {
   "cell_type": "markdown",
   "metadata": {},
   "source": [
    "\n",
    "## **Common types of plots**\n",
    "\n",
    "- **Scatter plot**\n",
    " A simple scatter plot of random values drawn from the standard Gaussian distribution."
   ]
  },
  {
   "cell_type": "code",
   "execution_count": null,
   "metadata": {},
   "outputs": [],
   "source": [
    "# set figure size and dpi (dots per inch)\n",
    "plt.figure(figsize=(10, 6), dpi=80)\n",
    "\n",
    "# Create a new subplot from a grid of 1x1\n",
    "plt.subplot(111)\n",
    "\n",
    "n = 1024\n",
    "X = np.random.normal(0,1,n)\n",
    "Y = np.random.normal(0,1,n)\n",
    "\n",
    "# color is given by the angle between X & Y\n",
    "T = np.arctan2(Y,X)\n",
    "\n",
    "plt.axes([0.025, 0.025, 0.95, 0.95])\n",
    "\n",
    "# The alpha blending value, between 0 (transparent) and 1 (opaque).\n",
    "# s - marker size\n",
    "# c - color\n",
    "plt.scatter(X,Y, s=75, c=T, alpha=.5)\n",
    "\n",
    "plt.xlim(-2.0, 2.0), plt.xticks([])\n",
    "plt.ylim(-2.0, 2.0), plt.yticks([])\n",
    "plt.show()"
   ]
  },
  {
   "cell_type": "markdown",
   "metadata": {},
   "source": [
    "--------\n",
    "\n",
    "- **Contour plot**  \n",
    "n tracé de contour représente une surface tridimensionnelle en traçant des tranches z constantes, appelées contours, sur une grille bidimensionnelle."
   ]
  },
  {
   "cell_type": "code",
   "execution_count": null,
   "metadata": {},
   "outputs": [],
   "source": [
    "# set figure size and dpi (dots per inch)\n",
    "plt.figure(figsize=(10, 6), dpi=80)\n",
    "\n",
    "# Create a new subplot from a grid of 1x1\n",
    "plt.subplot(111)\n",
    "\n",
    "\n",
    "def f(x,y):\n",
    "    return (1-x/2+x**5+y**3)*np.exp(-x**2-y**2)\n",
    "\n",
    "n = 256\n",
    "x = np.linspace(-3, 3, n)\n",
    "y = np.linspace(-3, 3, n)\n",
    "X,Y = np.meshgrid(x, y)\n",
    "\n",
    "plt.axes([0.025, 0.025, 0.95, 0.95])\n",
    "\n",
    "plt.contourf(X, Y, f(X,Y), 8, alpha=.75, cmap=plt.cm.hot)\n",
    "C = plt.contour(X, Y, f(X,Y), 8, colors='black')\n",
    "plt.clabel(C, inline=1, fontsize=10)\n",
    "\n",
    "plt.xticks([]), plt.yticks([])\n",
    "plt.show()"
   ]
  },
  {
   "cell_type": "markdown",
   "metadata": {},
   "source": [
    "--------\n",
    "\n",
    "- **3D plot**  \n",
    "Représenter une surface en 3 dimensions. Pour utiliser les graphiques 3D dans matplotlib, nous devons d’abord créer une instance d’axes de la classe `Axes3D`. Les axes 3D peuvent être ajoutés au canevas matplotlib de la même manière que les axes 2D, mais une façon habituelle de créer une instance d’axe 3D consiste à utiliser l’argument mot clé projection = '3d' pour les fonctions add_axes ou add_subplot.\n",
    "  \n",
    "   Remarque: vous ne pouvez pas faire pivoter le tracé dans le cahier jupyter. Tracez-le en tant que module autonome pour zoomer et le visualiser en le faisant pivoter."
   ]
  },
  {
   "cell_type": "code",
   "execution_count": null,
   "metadata": {},
   "outputs": [],
   "source": [
    "\n",
    "# create figure and set figure size and dpi (dots per inch)\n",
    "fig = plt.figure(figsize=(10, 6), dpi=80)\n",
    "ax = Axes3D(fig)\n",
    "\n",
    "# inputs\n",
    "X = np.arange(-4, 4, 0.25)\n",
    "Y = np.arange(-4, 4, 0.25)\n",
    "\n",
    "X, Y = np.meshgrid(X, Y)\n",
    "\n",
    "# 3D surface\n",
    "R = np.sqrt(X**2 + Y**2)\n",
    "Z = np.sin(R)\n",
    "\n",
    "ax.plot_surface(X, Y, Z, rstride=1, cstride=1, cmap=plt.cm.hot)\n",
    "ax.contourf(X, Y, Z, zdir='z', offset=-2, cmap=plt.cm.hot)\n",
    "\n",
    "# set z axis limit\n",
    "ax.set_zlim(-3, 3)\n",
    "\n",
    "plt.show()"
   ]
  },
  {
   "cell_type": "markdown",
   "metadata": {},
   "source": [
    "--------\n",
    "\n",
    "- **3D Surface Plot**"
   ]
  },
  {
   "cell_type": "code",
   "execution_count": null,
   "metadata": {},
   "outputs": [],
   "source": [
    "alpha = 0.7\n",
    "phi_ext = 2 * np.pi * 0.5\n",
    "\n",
    "def flux_qubit_potential(phi_m, phi_p):\n",
    "    return 2 + alpha - 2 * np.cos(phi_p)*np.cos(phi_m) - alpha * np.cos(phi_ext - 2*phi_p)\n",
    "\n",
    "phi_m = np.linspace(0, 2*np.pi, 100)\n",
    "phi_p = np.linspace(0, 2*np.pi, 100)\n",
    "X,Y = np.meshgrid(phi_p, phi_m)\n",
    "Z = flux_qubit_potential(X, Y).T"
   ]
  },
  {
   "cell_type": "code",
   "execution_count": null,
   "metadata": {},
   "outputs": [],
   "source": [
    "fig = plt.figure(figsize=(25, 10))\n",
    "\n",
    "# `ax` is a 3D-aware axis instance, because of the projection='3d' keyword argument to add_subplot\n",
    "ax = fig.add_subplot(1, 2, 1, projection='3d')\n",
    "\n",
    "p = ax.plot_surface(X, Y, Z, rstride=4, cstride=4, linewidth=0)\n",
    "\n",
    "# surface_plot with color grading and color bar\n",
    "ax = fig.add_subplot(1, 2, 2, projection='3d')\n",
    "p = ax.plot_surface(X, Y, Z, rstride=1, cstride=1, cmap=plt.cm.coolwarm, linewidth=0, antialiased=False)\n",
    "cb = fig.colorbar(p, shrink=0.5)\n",
    "\n",
    "plt.show()"
   ]
  },
  {
   "cell_type": "markdown",
   "metadata": {},
   "source": [
    "--------\n",
    "\n",
    "- **3D Wireframe Plot**"
   ]
  },
  {
   "cell_type": "code",
   "execution_count": null,
   "metadata": {},
   "outputs": [],
   "source": [
    "fig = plt.figure(figsize=(25, 10))\n",
    "\n",
    "# `ax` is a 3D-aware axis instance, because of the projection='3d' keyword argument to add_subplot\n",
    "ax = fig.add_subplot(1, 1, 1, projection='3d')\n",
    "\n",
    "# create and plot a wireframe\n",
    "p = ax.plot_wireframe(X, Y, Z, rstride=4, cstride=4)\n",
    "\n",
    "plt.show()"
   ]
  },
  {
   "cell_type": "markdown",
   "metadata": {},
   "source": [
    "--------\n",
    "\n",
    "- **Coutour plots with axis level projections**"
   ]
  },
  {
   "cell_type": "code",
   "execution_count": null,
   "metadata": {},
   "outputs": [],
   "source": [
    "fig = plt.figure(figsize=(18, 8))\n",
    "\n",
    "# `ax` is a 3D-aware axis instance, because of the projection='3d' keyword argument to add_subplot\n",
    "ax = fig.add_subplot(1, 1, 1, projection='3d')\n",
    "\n",
    "ax.plot_surface(X, Y, Z, rstride=4, cstride=4, alpha=0.25)\n",
    "cset = ax.contour(X, Y, Z, zdir='z', offset=-np.pi, cmap=plt.cm.coolwarm)\n",
    "cset = ax.contour(X, Y, Z, zdir='x', offset=-np.pi, cmap=plt.cm.coolwarm)\n",
    "cset = ax.contour(X, Y, Z, zdir='y', offset=3*np.pi, cmap=plt.cm.coolwarm)\n",
    "\n",
    "ax.set_xlim3d(-np.pi, 2*np.pi);\n",
    "ax.set_ylim3d(0, 3*np.pi);\n",
    "ax.set_zlim3d(-np.pi, 2*np.pi);\n",
    "\n",
    "plt.show()"
   ]
  },
  {
   "cell_type": "markdown",
   "metadata": {},
   "source": [
    "**Changing viewing angle**\n",
    "- Nous pouvons changer la perspective d'un tracé 3D en utilisant la fonction `view_init`, qui prend deux arguments: les angles d'élévation et d'azimut (degrés unitaires)"
   ]
  },
  {
   "cell_type": "code",
   "execution_count": null,
   "metadata": {},
   "outputs": [],
   "source": [
    "fig = plt.figure(figsize=(8, 8))\n",
    "\n",
    "# `ax` is a 3D-aware axis instance, because of the projection='3d' keyword argument to add_subplot\n",
    "ax = fig.add_subplot(2, 1, 1, projection='3d')\n",
    "ax.plot_wireframe(X, Y, Z, rstride=4, cstride=4, alpha=0.25)\n",
    "ax.view_init(30, 45)\n",
    "\n",
    "# `ax` is a 3D-aware axis instance, because of the projection='3d' keyword argument to add_subplot\n",
    "ax = fig.add_subplot(2,1,2, projection='3d')\n",
    "ax.plot_wireframe(X, Y, Z, rstride=4, cstride=4, alpha=0.25)\n",
    "ax.view_init(70, 30)\n",
    "\n",
    "fig.tight_layout()"
   ]
  }
 ],
 "metadata": {
  "kernelspec": {
   "display_name": "Python 3",
   "language": "python",
   "name": "python3"
  },
  "language_info": {
   "codemirror_mode": {
    "name": "ipython",
    "version": 3
   },
   "file_extension": ".py",
   "mimetype": "text/x-python",
   "name": "python",
   "nbconvert_exporter": "python",
   "pygments_lexer": "ipython3",
   "version": "3.7.1"
  }
 },
 "nbformat": 4,
 "nbformat_minor": 2
}
