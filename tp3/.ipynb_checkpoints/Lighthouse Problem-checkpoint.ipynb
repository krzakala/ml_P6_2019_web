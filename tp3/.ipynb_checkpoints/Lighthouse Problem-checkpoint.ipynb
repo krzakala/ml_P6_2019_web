{
 "cells": [
  {
   "cell_type": "markdown",
   "metadata": {},
   "source": [
    "# Le probleme de phare  & le maximum de vraissemblance"
   ]
  },
  {
   "cell_type": "code",
   "execution_count": 1,
   "metadata": {},
   "outputs": [],
   "source": [
    "%matplotlib inline\n",
    "import numpy as np\n",
    "import matplotlib.pyplot as plt\n",
    "plt.rcParams[\"figure.figsize\"] = (8, 8)\n",
    "plt.rcParams[\"font.size\"] = 14"
   ]
  },
  {
   "cell_type": "markdown",
   "metadata": {},
   "source": [
    "![Scheme](lighthouse.png)"
   ]
  },
  {
   "cell_type": "markdown",
   "metadata": {},
   "source": [
    "Regardons le problème suivant (extrait du livre de D. Sivia, \"Data Analysis - A Bayessian Tutorial\"):\n",
    "\n",
    "> A lighthouse is somewhere off a piece of straight coastline at a position $\\alpha$ along the shore and a distance $\\beta$ out at sea. It emits a series of short highly collimated flashes at random intervals and hence at random azimuths. These pulses are intercepted on the coast by photo-detectors that record only the fact that a flash has occurred, but not the angle from which it came. $N$ flashes have been recorded so far at positions $\\{x_k\\}$. Where is the lighthouse?\n",
    "\n",
    "Par simplicité, nous supposerons que $ \\beta $ est connu, de sorte que le seul paramètre que nous devons estimer est $ \\alpha $. Commençons par écrire la probabilité de ce problème; comme les flashs sont projetés en azimuts aléatoires, nous savons que\n",
    "\n",
    "$$P(\\theta_k | \\alpha, \\beta) = \\frac{1}{\\pi}$$\n",
    "\n",
    "De plus\n",
    "\n",
    "$$\\beta \\tanh(\\theta_k) = x_k - \\alpha$$.\n",
    "\n",
    "**exercice** : Montrez qu'en changeant les variables, nous obtenons:\n",
    "$$P(x_k | \\alpha, \\beta) = \\frac{\\beta}{\\pi \\big[ \\beta^2 + (x_k - \\alpha)^2 \\big]}$$"
   ]
  },
  {
   "cell_type": "code",
   "execution_count": 2,
   "metadata": {},
   "outputs": [
    {
     "data": {
      "text/plain": [
       "[<matplotlib.lines.Line2D at 0x117f97ac8>]"
      ]
     },
     "execution_count": 2,
     "metadata": {},
     "output_type": "execute_result"
    },
    {
     "data": {
      "image/png": "[encoded data removed]",
      "text/plain": [
       "<Figure size 432x288 with 1 Axes>"
      ]
     },
     "metadata": {
      "needs_background": "light"
     },
     "output_type": "display_data"
    }
   ],
   "source": [
    "# Let us compute and plot the likelihood\n",
    "def likelihood(x, alpha, beta):\n",
    "    return beta / (np.pi * (beta ** 2 + (x - alpha) ** 2))\n",
    "\n",
    "# Parameters\n",
    "alpha = 5.0\n",
    "beta = 10.0\n",
    "\n",
    "x = np.linspace(-90, 90, 1001)\n",
    "plt.plot(x, likelihood(x, alpha, beta))"
   ]
  },
  {
   "cell_type": "markdown",
   "metadata": {},
   "source": [
    "Cette distribution de probabilité est connue sous le nom de distribution de Cauchy ou de Lorentz. Laissez-nous en échantillonner pour pouvoir disposer de données synthétiques."
   ]
  },
  {
   "cell_type": "code",
   "execution_count": 3,
   "metadata": {},
   "outputs": [],
   "source": [
    "# Now we generate some synthetic data\n",
    "alpha = 30.0\n",
    "beta = 10.0\n",
    "\n",
    "from scipy.stats import cauchy\n",
    "samples = cauchy.rvs(loc = alpha, scale = beta, size = 1000)"
   ]
  },
  {
   "cell_type": "markdown",
   "metadata": {},
   "source": [
    "Nous ecrivons la distribution du posterieur grace au theoreme de Bayes:\n",
    "\n",
    "$$P(\\alpha | \\{x_k\\}, \\beta) \\propto \\prod_{k = 1}^N P(\\{x_k\\} | \\alpha, \\beta)$$"
   ]
  },
  {
   "cell_type": "code",
   "execution_count": 4,
   "metadata": {},
   "outputs": [
    {
     "data": {
      "image/png": "[encoded data removed]",
      "text/plain": [
       "<Figure size 432x288 with 1 Axes>"
      ]
     },
     "metadata": {
      "needs_background": "light"
     },
     "output_type": "display_data"
    }
   ],
   "source": [
    "# Computes the (unnormalized) posterior for a given set of samples\n",
    "def posterior(x, alpha, beta):\n",
    "    post = np.ones(len(alpha))\n",
    "    for x_k in x:\n",
    "        post *= likelihood(x_k, alpha, beta)\n",
    "        post /= np.sum(post)\n",
    "    return post\n",
    "\n",
    "def plot_posterior(n_samples):\n",
    "    alphas = np.linspace(0, 60, 1001)\n",
    "    plt.plot(alphas, posterior(samples[:n_samples], alphas, beta))\n",
    "    plt.axvline(np.mean(samples[:n_samples]), c = \"r\", lw = 2)\n",
    "    \n",
    "plot_posterior(10)"
   ]
  },
  {
   "cell_type": "markdown",
   "metadata": {},
   "source": [
    "**Exercise**: Faire 4 subplots pour des valeur differentes de $N = 2, 5, 20, 100$."
   ]
  },
  {
   "cell_type": "markdown",
   "metadata": {},
   "source": [
    "Notez que la moyenne ne coïncide pas avec le mode (le maximum) du postérieur! Pourquoi donc? Coïncideront-ils dans la limite $ N \\to \\infty $?"
   ]
  },
  {
   "cell_type": "markdown",
   "metadata": {},
   "source": [
    "Enfin, calculons la valeur de $ \\alpha $ qui maximise l’a posteriori (et la probabilité, étant donné que notre précédent est uniforme). Le log-vraisemblance se lit\n",
    "\n",
    "$$\\mathcal{L} (\\alpha) = \\sum_k \\log P(x_k | \\alpha, \\beta) = -\\sum_k \\log[\\beta^2 + (x_k - \\alpha)^2)] + {\\rm cst.}$$\n",
    "\n",
    "de sorte que le maximum est obtenu à\n",
    "\n",
    "$$2 \\sum_k \\frac{x_k - \\alpha^\\ast}{\\beta^2 + (x_k - \\alpha^\\ast)^2} = 0$$\n",
    "\n",
    "Essayons de résoudre ce problème numériquement pour différentes valeurs de $ N $.\n",
    "\n",
    "**Exercise**: tracez l'estimation de $ \\ alpha $ pour $ N $ entre 10 et 1000."
   ]
  },
  {
   "cell_type": "code",
   "execution_count": null,
   "metadata": {},
   "outputs": [],
   "source": [
    "from scipy.optimize import brentq"
   ]
  }
 ],
 "metadata": {
  "kernelspec": {
   "display_name": "Python 3",
   "language": "python",
   "name": "python3"
  },
  "language_info": {
   "codemirror_mode": {
    "name": "ipython",
    "version": 3
   },
   "file_extension": ".py",
   "mimetype": "text/x-python",
   "name": "python",
   "nbconvert_exporter": "python",
   "pygments_lexer": "ipython3",
   "version": "3.7.1"
  }
 },
 "nbformat": 4,
 "nbformat_minor": 2
}
