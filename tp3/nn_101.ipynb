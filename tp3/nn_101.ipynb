{
 "cells": [
  {
   "cell_type": "markdown",
   "metadata": {},
   "source": [
    "# Classification sur MNIST avec un reseau de neuronnes"
   ]
  },
  {
   "cell_type": "code",
   "execution_count": 1,
   "metadata": {},
   "outputs": [
    {
     "name": "stderr",
     "output_type": "stream",
     "text": [
      "Using TensorFlow backend.\n"
     ]
    }
   ],
   "source": [
    "import numpy as np\n",
    "import matplotlib.pyplot as plt\n",
    "import keras\n",
    "from keras.datasets import mnist\n",
    "from keras.models import Sequential\n",
    "from keras.layers import Dense\n",
    "from keras.optimizers import RMSprop\n",
    "%matplotlib inline"
   ]
  },
  {
   "cell_type": "markdown",
   "metadata": {},
   "source": [
    "Nous commençons par charger les données MNIST. À la différence d’avant, nous n’utiliserons pas scikitlearn pour le faire, mais la bibliothèque Keras. C'est parce que nous allons passer des méthodes \"classiques\" à ce que l'on appelle \"l'apprentissage en profondeur\", c'est-à-dire l'apprentissage automatique à l'aide de réseaux de neurones profonds.\n",
    "\n",
    "Keras s’appuie sur Tensorflow, un framework d’apprentissage en profondeur développé par Google et probablement le plus utilisé par les praticiens (PyTorch, développé sur Facebook, est une alternative qui gagne du terrain.)"
   ]
  },
  {
   "cell_type": "code",
   "execution_count": 2,
   "metadata": {
    "scrolled": false
   },
   "outputs": [
    {
     "name": "stdout",
     "output_type": "stream",
     "text": [
      "no. of training/test samples: 60000, 10000\n",
      "no. of features: 784\n"
     ]
    },
    {
     "data": {
      "image/png": "[encoded data removed]",
      "text/plain": [
       "<Figure size 432x288 with 4 Axes>"
      ]
     },
     "metadata": {
      "needs_background": "light"
     },
     "output_type": "display_data"
    }
   ],
   "source": [
    "# Download the data, shuffled and split between train and test sets\n",
    "(X_train, y_train), (X_test, y_test) = mnist.load_data()\n",
    "print(\"no. of training/test samples: %d, %d\" % (X_train.shape[0], X_test.shape[0]))\n",
    "print(\"no. of features: %d\" % (np.product(X_train.shape[1:])))\n",
    "\n",
    "# Let us look at some of the digits\n",
    "fig, axs = plt.subplots(2, 2)\n",
    "for d in range(4):\n",
    "    axs[d % 2, d // 2].imshow(X_train[d], cmap=\"gray\")\n",
    "    axs[d % 2, d // 2].set_title(\"correct label: %d\" % (y_train[d]))\n",
    "fig.tight_layout()"
   ]
  },
  {
   "cell_type": "markdown",
   "metadata": {},
   "source": [
    "Notez que Keras charge MNIST de manière légèrement différente de scikitlearn: les données sont déjà mélangées et divisées dans des ensembles d’entraînement / test; de plus, chaque échantillon est un tableau 2D de dimension 28x28, au lieu d’un tableau 1D de dimension 784.\n",
    "\n",
    "Nous procédons par un prétraitement. Nous allons * rasteriser * ces vecteurs, c'est-à-dire les transformer de tableaux bidimensionnels en tableaux unidimensionnels; de plus, nous les normaliserons, de sorte que chaque composant du tableau ait une valeur comprise entre 0 et 1, au lieu de 0 et 255."
   ]
  },
  {
   "cell_type": "code",
   "execution_count": 3,
   "metadata": {},
   "outputs": [
    {
     "name": "stdout",
     "output_type": "stream",
     "text": [
      "The categories of the images above is now encoded as: \n",
      " [[0. 0. 0. 0. 0. 1. 0. 0. 0. 0.]\n",
      " [1. 0. 0. 0. 0. 0. 0. 0. 0. 0.]\n",
      " [0. 0. 0. 0. 1. 0. 0. 0. 0. 0.]\n",
      " [0. 1. 0. 0. 0. 0. 0. 0. 0. 0.]]\n"
     ]
    }
   ],
   "source": [
    "# Rasterize and normalize samples\n",
    "X_train = X_train.reshape(X_train.shape[0], -1)\n",
    "X_test = X_test.reshape(X_test.shape[0], -1)\n",
    "\n",
    "X_train = X_train / 255\n",
    "X_test = X_test / 255\n",
    "\n",
    "# Use 32-bit instead of 64-bit float\n",
    "X_train = X_train.astype(\"float32\")\n",
    "X_test = X_test.astype(\"float32\")\n",
    "\n",
    "# Work with one-hot encoding of labels\n",
    "n_classes = len(np.unique(y_train))\n",
    "y_train_b = keras.utils.to_categorical(y_train, n_classes)\n",
    "y_test_b = keras.utils.to_categorical(y_test, n_classes)\n",
    "\n",
    "print(\"The categories of the images above is now encoded as: \\n\", y_train_b[0:4])"
   ]
  },
  {
   "cell_type": "markdown",
   "metadata": {},
   "source": [
    "Il est maintenant temps de construire notre réseau de neurones multicouches. Nous allons d'abord le faire avec une seule couche cachée.\n",
    "\n",
    "Dans le code ci-dessous, nous pouvons voir à quel point il est facile de configurer des modèles dans Keras. En quelques lignes, nous avons construit un réseau de neurones à 2 couches, et généraliser à partir de celle-ci en plusieurs couches est assez simple."
   ]
  },
  {
   "cell_type": "code",
   "execution_count": 4,
   "metadata": {
    "scrolled": false
   },
   "outputs": [
    {
     "name": "stdout",
     "output_type": "stream",
     "text": [
      "WARNING:tensorflow:From /anaconda3/lib/python3.7/site-packages/tensorflow/python/framework/op_def_library.py:263: colocate_with (from tensorflow.python.framework.ops) is deprecated and will be removed in a future version.\n",
      "Instructions for updating:\n",
      "Colocations handled automatically by placer.\n",
      "_________________________________________________________________\n",
      "Layer (type)                 Output Shape              Param #   \n",
      "=================================================================\n",
      "dense_1 (Dense)              (None, 512)               401920    \n",
      "_________________________________________________________________\n",
      "dense_2 (Dense)              (None, 10)                5130      \n",
      "=================================================================\n",
      "Total params: 407,050\n",
      "Trainable params: 407,050\n",
      "Non-trainable params: 0\n",
      "_________________________________________________________________\n"
     ]
    }
   ],
   "source": [
    "# Specify model\n",
    "model = Sequential()\n",
    "model.add(Dense(512, activation=\"relu\", input_shape=(784,)))\n",
    "model.add(Dense(n_classes, activation=\"softmax\"))\n",
    "\n",
    "# Print model and compile it\n",
    "model.summary()\n",
    "model.compile(loss=\"categorical_crossentropy\",\n",
    "              optimizer=RMSprop(),\n",
    "              metrics=[\"accuracy\"])"
   ]
  },
  {
   "cell_type": "markdown",
   "metadata": {},
   "source": [
    "Notez que la première couche dense a $ 784 \\times 512 + 512 $ paramètres, la seconde en a $ 512 \\times 10 + 10 $. Ils correspondent aux poids, plus un biais appliqué à chaque sortie. Nous compilons le modèle en utilisant l'entropie croisée comme fonction de cout (l'equivalent de la regression logistique) et nous utiliserons l'algorithme d'optimisation RMSprop décrit [ici] (http://ruder.io/optimizing-gradient-descent/index.html#rmsprop) ainsi que d'autres variantes de descente de gradient. .\n",
    "\n",
    "Après avoir configuré le modèle, nous pouvons l'entrainer comme dans scikitlearn: en utilisant `model.fit (X_train, y_train)`."
   ]
  },
  {
   "cell_type": "code",
   "execution_count": 5,
   "metadata": {
    "scrolled": false
   },
   "outputs": [
    {
     "name": "stdout",
     "output_type": "stream",
     "text": [
      "WARNING:tensorflow:From /anaconda3/lib/python3.7/site-packages/tensorflow/python/ops/math_ops.py:3066: to_int32 (from tensorflow.python.ops.math_ops) is deprecated and will be removed in a future version.\n",
      "Instructions for updating:\n",
      "Use tf.cast instead.\n",
      "Train on 60000 samples, validate on 10000 samples\n",
      "Epoch 1/20\n",
      "60000/60000 [==============================] - 4s 65us/step - loss: 0.2568 - acc: 0.9255 - val_loss: 0.1665 - val_acc: 0.9458\n",
      "Epoch 2/20\n",
      "60000/60000 [==============================] - 5s 77us/step - loss: 0.1075 - acc: 0.9687 - val_loss: 0.1130 - val_acc: 0.9649\n",
      "Epoch 3/20\n",
      "60000/60000 [==============================] - 4s 72us/step - loss: 0.0705 - acc: 0.9795 - val_loss: 0.0927 - val_acc: 0.9714\n",
      "Epoch 4/20\n",
      "60000/60000 [==============================] - 4s 69us/step - loss: 0.0508 - acc: 0.9855 - val_loss: 0.0877 - val_acc: 0.9742\n",
      "Epoch 5/20\n",
      "60000/60000 [==============================] - 4s 67us/step - loss: 0.0377 - acc: 0.9896 - val_loss: 0.0874 - val_acc: 0.9753\n",
      "Epoch 6/20\n",
      "60000/60000 [==============================] - 4s 66us/step - loss: 0.0279 - acc: 0.9927 - val_loss: 0.0872 - val_acc: 0.9753\n",
      "Epoch 7/20\n",
      "60000/60000 [==============================] - 4s 69us/step - loss: 0.0207 - acc: 0.9949 - val_loss: 0.0864 - val_acc: 0.9768\n",
      "Epoch 8/20\n",
      "60000/60000 [==============================] - 4s 66us/step - loss: 0.0153 - acc: 0.9965 - val_loss: 0.0868 - val_acc: 0.9779\n",
      "Epoch 9/20\n",
      "60000/60000 [==============================] - 4s 67us/step - loss: 0.0116 - acc: 0.9974 - val_loss: 0.0924 - val_acc: 0.9777\n",
      "Epoch 10/20\n",
      "60000/60000 [==============================] - 4s 64us/step - loss: 0.0089 - acc: 0.9981 - val_loss: 0.0947 - val_acc: 0.9780\n",
      "Epoch 11/20\n",
      "60000/60000 [==============================] - 4s 66us/step - loss: 0.0068 - acc: 0.9985 - val_loss: 0.0964 - val_acc: 0.9785\n",
      "Epoch 12/20\n",
      "60000/60000 [==============================] - 4s 67us/step - loss: 0.0053 - acc: 0.9989 - val_loss: 0.0966 - val_acc: 0.9783\n",
      "Epoch 13/20\n",
      "60000/60000 [==============================] - 4s 66us/step - loss: 0.0040 - acc: 0.9992 - val_loss: 0.0992 - val_acc: 0.9792\n",
      "Epoch 14/20\n",
      "60000/60000 [==============================] - 4s 69us/step - loss: 0.0033 - acc: 0.9993 - val_loss: 0.1021 - val_acc: 0.9790\n",
      "Epoch 15/20\n",
      "60000/60000 [==============================] - 4s 62us/step - loss: 0.0030 - acc: 0.9993 - val_loss: 0.0984 - val_acc: 0.9811\n",
      "Epoch 16/20\n",
      "60000/60000 [==============================] - 4s 64us/step - loss: 0.0024 - acc: 0.9994 - val_loss: 0.1046 - val_acc: 0.9798\n",
      "Epoch 17/20\n",
      "60000/60000 [==============================] - 4s 63us/step - loss: 0.0019 - acc: 0.9996 - val_loss: 0.1050 - val_acc: 0.9802\n",
      "Epoch 18/20\n",
      "60000/60000 [==============================] - 4s 61us/step - loss: 0.0015 - acc: 0.9996 - val_loss: 0.1039 - val_acc: 0.9816\n",
      "Epoch 19/20\n",
      "60000/60000 [==============================] - 4s 60us/step - loss: 0.0011 - acc: 0.9998 - val_loss: 0.1163 - val_acc: 0.9795\n",
      "Epoch 20/20\n",
      "60000/60000 [==============================] - 4s 67us/step - loss: 0.0012 - acc: 0.9997 - val_loss: 0.1308 - val_acc: 0.9783\n",
      "Test loss/accuracy: 0.130811, 0.9783\n"
     ]
    }
   ],
   "source": [
    "# Parameters\n",
    "batch_size = 128\n",
    "epochs = 20\n",
    "\n",
    "# Perform fit\n",
    "history = model.fit(X_train, y_train_b,\n",
    "                    batch_size=batch_size,\n",
    "                    epochs=epochs,\n",
    "                    verbose=1,\n",
    "                    shuffle=False,\n",
    "                    validation_data=(X_test, y_test_b))\n",
    "\n",
    "\n",
    "# Print results\n",
    "score = model.evaluate(X_test, y_test_b, verbose=0)\n",
    "print('Test loss/accuracy: %g, %g' % (score[0], score[1]))"
   ]
  },
  {
   "cell_type": "code",
   "execution_count": 6,
   "metadata": {},
   "outputs": [
    {
     "data": {
      "image/png": "[encoded data removed]",
      "text/plain": [
       "<Figure size 1080x360 with 2 Axes>"
      ]
     },
     "metadata": {
      "needs_background": "light"
     },
     "output_type": "display_data"
    }
   ],
   "source": [
    "plt.figure(figsize=(15, 5)) \n",
    "# Plot history for accuracy\n",
    "plt.subplot(121)\n",
    "plt.plot(history.history['acc'])\n",
    "plt.plot(history.history['val_acc'])\n",
    "plt.title('model accuracy -- MLP')\n",
    "plt.ylabel('accuracy')\n",
    "plt.xlabel('epoch')\n",
    "plt.legend(['train', 'test'], loc='upper left')\n",
    "# summarize history for loss\n",
    "plt.subplot(122)\n",
    "plt.plot(history.history['loss'])\n",
    "plt.plot(history.history['val_loss'])\n",
    "plt.title('model loss -- MLP')\n",
    "plt.ylabel('loss')\n",
    "plt.xlabel('epoch')\n",
    "plt.legend(['train', 'test'], loc='upper left')\n",
    "plt.tight_layout()"
   ]
  },
  {
   "cell_type": "markdown",
   "metadata": {},
   "source": [
    "C’est en fait assez bon, une précision de 2% representait l’état de l'art pendant une longue periode (vérifiez-le [ici] (http://yann.lecun.com/exdb/mnist/)), meme si l'on peut faire bien mieux maintenant, comme nous le verrons plus tard. Juste par curiosité, vous trouverez [ici] (http://rodrigob.github.io/are_we_there_yet/build/classification_datasets_results.html) est une liste détaillée des meilleurs résultats que les utilisateurs ont pu obtenir sur MNIST. La plus petite erreur de test obtenue jusqu’à présent est de 0,21%, c’est-à-dire que seulement 21 des 10 000 échantillons de test ne sont pas classés correctement!"
   ]
  },
  {
   "cell_type": "markdown",
   "metadata": {
    "collapsed": true
   },
   "source": [
    "## Jouer avec notre reseau de neuronnes"
   ]
  },
  {
   "cell_type": "markdown",
   "metadata": {},
   "source": [
    "Il existe de nombreux degrés de liberté dans notre modèle et dans la procédure de formation, qui ont été choisis de manière plus ou moins arbitraire. Par exemple, pourquoi utilisons-nous ces valeurs pour 'batch_size' et 'epochs'? Pourquoi utilisons-nous une activation ReLU sur la 1ère couche et une activation softmax sur la seconde? Pourquoi utilisons-nous cette perte, cet optimiseur, etc.\n",
    "\n",
    "C’est l’un des principaux problèmes de l’apprentissage en profondeur: en principe, on ne sait pas quelle approche donnera les meilleurs résultats, et de nombreuses approches sont possibles. Il faut donc essayer beaucoup de choses et voir ce qui se passe.\n",
    "Nous pouvons procéder à une validation croisée, mais les possibilités sont tellement nombreuses que tout essayer n'est tout simplement pas réalisable.\n",
    "\n",
    "Nous avons donc besoin de développer un instinct sur ce qui convient le mieux à chaque situation - parfois, la théorie peut nous guider, parfois non.\n",
    "Nous allons maintenant voir comment les choses changent si nous ajoutons l'abandon et la normalisation des lots, prenons un réseau plus superficiel ou ajoutons une deuxième couche. Il semble toutefois difficile de trop améliorer la performance de 2% avec cette approche."
   ]
  },
  {
   "cell_type": "markdown",
   "metadata": {},
   "source": [
    "###  dropout & batch normalization"
   ]
  },
  {
   "cell_type": "markdown",
   "metadata": {},
   "source": [
    "En regardant les chiffres imprimés à l'écran pendant la formation, on s'aperçoit que notre modèle surajustait beaucoup: nous obtenons essentiellement une précision de 100% sur l'ensemble de formation!\n",
    "\n",
    "Certaines astuces ont été introduites pour gérer ce surajustement. Le premier d'entre eux s'appelle * dropout * (introduit [ici] (https://www.cs.toronto.edu/~hinton/absps/JMLRdropout.pdf)), et consiste, à chaque étape de la procédure de formation , en ignorant certaines des fonctionnalités. C’est plus ou moins ce que nous avons fait lorsque nous avons examiné des forêts aléatoires: chacun des arbres de la forêt utilisait un sous-ensemble de caractéristiques. On peut donc voir le décrochage comme une sorte de procédure d’ensachage qui rend le modèle plus robuste. La différence est que la suppression peut être appliquée à chaque couche, pas seulement à la première couche en entrée.\n",
    "\n",
    "L’autre astuce est la * normalisation par batch *, qui consiste à prélever chaque échantillon dans un mini-lot et à le standardiser à l’aide de la moyenne et de la variance * mini-batch *, voir [ici] (https://arxiv.org/pdf/1502.03167 .pdf) pour plus de détails.\n",
    "\n",
    "Ces astuces ont été introduites principalement de manière ad-hoc - les gens ont quelques explications sur les raisons pour lesquelles ils fonctionnent et ont essayé de faire de la théorie à ce sujet, mais au final, nous ne comprenons toujours pas vraiment pourquoi et quand ils fonctionnent ( voir [le discours provocateur d'Ali Rahimi] (https://www.youtube.com/watch?v=Qi1Yry33TQE))."
   ]
  },
  {
   "cell_type": "code",
   "execution_count": 7,
   "metadata": {
    "scrolled": true
   },
   "outputs": [
    {
     "name": "stdout",
     "output_type": "stream",
     "text": [
      "WARNING:tensorflow:From /anaconda3/lib/python3.7/site-packages/keras/backend/tensorflow_backend.py:3445: calling dropout (from tensorflow.python.ops.nn_ops) with keep_prob is deprecated and will be removed in a future version.\n",
      "Instructions for updating:\n",
      "Please use `rate` instead of `keep_prob`. Rate should be set to `rate = 1 - keep_prob`.\n"
     ]
    },
    {
     "name": "stderr",
     "output_type": "stream",
     "text": [
      "/anaconda3/lib/python3.7/site-packages/ipykernel_launcher.py:10: UserWarning: Update your `Dense` call to the Keras 2 API: `Dense(512, input_dim=784, kernel_initializer=\"uniform\")`\n",
      "  # Remove the CWD from sys.path while we load stuff.\n"
     ]
    },
    {
     "name": "stdout",
     "output_type": "stream",
     "text": [
      "_________________________________________________________________\n",
      "Layer (type)                 Output Shape              Param #   \n",
      "=================================================================\n",
      "dense_3 (Dense)              (None, 512)               401920    \n",
      "_________________________________________________________________\n",
      "batch_normalization_1 (Batch (None, 512)               2048      \n",
      "_________________________________________________________________\n",
      "activation_1 (Activation)    (None, 512)               0         \n",
      "_________________________________________________________________\n",
      "dropout_1 (Dropout)          (None, 512)               0         \n",
      "_________________________________________________________________\n",
      "dense_4 (Dense)              (None, 10)                5130      \n",
      "_________________________________________________________________\n",
      "batch_normalization_2 (Batch (None, 10)                40        \n",
      "_________________________________________________________________\n",
      "activation_2 (Activation)    (None, 10)                0         \n",
      "=================================================================\n",
      "Total params: 409,138\n",
      "Trainable params: 408,094\n",
      "Non-trainable params: 1,044\n",
      "_________________________________________________________________\n"
     ]
    },
    {
     "name": "stderr",
     "output_type": "stream",
     "text": [
      "/anaconda3/lib/python3.7/site-packages/ipykernel_launcher.py:15: UserWarning: Update your `Dense` call to the Keras 2 API: `Dense(10, kernel_initializer=\"uniform\")`\n",
      "  from ipykernel import kernelapp as app\n"
     ]
    },
    {
     "name": "stdout",
     "output_type": "stream",
     "text": [
      "Train on 60000 samples, validate on 10000 samples\n",
      "Epoch 1/20\n",
      "60000/60000 [==============================] - 6s 94us/step - loss: 0.4502 - acc: 0.9385 - val_loss: 0.2465 - val_acc: 0.9680\n",
      "Epoch 2/20\n",
      "60000/60000 [==============================] - 5s 75us/step - loss: 0.2207 - acc: 0.9679 - val_loss: 0.1416 - val_acc: 0.9751\n",
      "Epoch 3/20\n",
      "60000/60000 [==============================] - 5s 81us/step - loss: 0.1411 - acc: 0.9754 - val_loss: 0.1043 - val_acc: 0.9790\n",
      "Epoch 4/20\n",
      "60000/60000 [==============================] - 5s 82us/step - loss: 0.1002 - acc: 0.9805 - val_loss: 0.0854 - val_acc: 0.9801\n",
      "Epoch 5/20\n",
      "60000/60000 [==============================] - 5s 81us/step - loss: 0.0794 - acc: 0.9828 - val_loss: 0.0724 - val_acc: 0.9814\n",
      "Epoch 6/20\n",
      "60000/60000 [==============================] - 5s 78us/step - loss: 0.0652 - acc: 0.9863 - val_loss: 0.0673 - val_acc: 0.9798\n",
      "Epoch 7/20\n",
      "60000/60000 [==============================] - 6s 92us/step - loss: 0.0542 - acc: 0.9880 - val_loss: 0.0645 - val_acc: 0.9809\n",
      "Epoch 8/20\n",
      "60000/60000 [==============================] - 5s 79us/step - loss: 0.0461 - acc: 0.9895 - val_loss: 0.0598 - val_acc: 0.9823\n",
      "Epoch 9/20\n",
      "60000/60000 [==============================] - 5s 81us/step - loss: 0.0413 - acc: 0.9903 - val_loss: 0.0620 - val_acc: 0.9818\n",
      "Epoch 10/20\n",
      "60000/60000 [==============================] - 5s 76us/step - loss: 0.0360 - acc: 0.9915 - val_loss: 0.0560 - val_acc: 0.9835\n",
      "Epoch 11/20\n",
      "60000/60000 [==============================] - 5s 85us/step - loss: 0.0323 - acc: 0.9918 - val_loss: 0.0531 - val_acc: 0.9833\n",
      "Epoch 12/20\n",
      "60000/60000 [==============================] - 5s 83us/step - loss: 0.0286 - acc: 0.9935 - val_loss: 0.0533 - val_acc: 0.9826\n",
      "Epoch 13/20\n",
      "60000/60000 [==============================] - 5s 80us/step - loss: 0.0250 - acc: 0.9943 - val_loss: 0.0532 - val_acc: 0.9833\n",
      "Epoch 14/20\n",
      "60000/60000 [==============================] - 5s 83us/step - loss: 0.0225 - acc: 0.9950 - val_loss: 0.0513 - val_acc: 0.9839\n",
      "Epoch 15/20\n",
      "60000/60000 [==============================] - 5s 85us/step - loss: 0.0213 - acc: 0.9949 - val_loss: 0.0544 - val_acc: 0.9824\n",
      "Epoch 16/20\n",
      "60000/60000 [==============================] - 5s 91us/step - loss: 0.0200 - acc: 0.9953 - val_loss: 0.0497 - val_acc: 0.9847\n",
      "Epoch 17/20\n",
      "60000/60000 [==============================] - 5s 85us/step - loss: 0.0187 - acc: 0.9955 - val_loss: 0.0493 - val_acc: 0.9850\n",
      "Epoch 18/20\n",
      "60000/60000 [==============================] - 6s 98us/step - loss: 0.0170 - acc: 0.9958 - val_loss: 0.0554 - val_acc: 0.9837\n",
      "Epoch 19/20\n",
      "60000/60000 [==============================] - 5s 87us/step - loss: 0.0162 - acc: 0.9960 - val_loss: 0.0562 - val_acc: 0.9837\n",
      "Epoch 20/20\n",
      "60000/60000 [==============================] - 6s 94us/step - loss: 0.0153 - acc: 0.9961 - val_loss: 0.0526 - val_acc: 0.9846\n",
      "Test loss/accuracy: 0.0525702, 0.9846\n"
     ]
    }
   ],
   "source": [
    "from keras.layers import Dropout, BatchNormalization, Activation\n",
    "\n",
    "# Parameters\n",
    "batch_size = 128\n",
    "epochs = 20\n",
    "\n",
    "# Specify model\n",
    "model = Sequential()\n",
    "\n",
    "model.add(Dense(512, input_dim=784, init=\"uniform\"))\n",
    "model.add(BatchNormalization())\n",
    "model.add(Activation(\"relu\"))\n",
    "model.add(Dropout(0.2))\n",
    "\n",
    "model.add(Dense(n_classes, init=\"uniform\"))\n",
    "model.add(BatchNormalization())\n",
    "model.add(Activation(\"softmax\"))\n",
    "\n",
    "# Print model and compile it\n",
    "model.summary()\n",
    "model.compile(loss=\"categorical_crossentropy\",\n",
    "              optimizer=RMSprop(),\n",
    "              metrics=[\"accuracy\"])\n",
    "\n",
    "# Perform fit\n",
    "history_dropout = model.fit(X_train, y_train_b,\n",
    "                    batch_size=batch_size,\n",
    "                    epochs=epochs,\n",
    "                    verbose=1,\n",
    "                    validation_data=(X_test, y_test_b))\n",
    "\n",
    "\n",
    "# Print results\n",
    "score = model.evaluate(X_test, y_test_b, verbose=0)\n",
    "print('Test loss/accuracy: %g, %g' % (score[0], score[1]))"
   ]
  },
  {
   "cell_type": "code",
   "execution_count": 8,
   "metadata": {},
   "outputs": [
    {
     "data": {
      "image/png": "[encoded data removed]",
      "text/plain": [
       "<Figure size 1080x360 with 2 Axes>"
      ]
     },
     "metadata": {
      "needs_background": "light"
     },
     "output_type": "display_data"
    }
   ],
   "source": [
    "plt.figure(figsize=(15, 5)) \n",
    "# Plot history for accuracy\n",
    "plt.subplot(121)\n",
    "plt.plot(history_dropout.history['acc'])\n",
    "plt.plot(history_dropout.history['val_acc'])\n",
    "plt.title('model accuracy -- MLP with dropout and BN')\n",
    "plt.ylabel('accuracy')\n",
    "plt.xlabel('epoch')\n",
    "plt.legend(['train', 'test'], loc='upper left')\n",
    "# summarize history for loss\n",
    "plt.subplot(122)\n",
    "plt.plot(history_dropout.history['loss'])\n",
    "plt.plot(history_dropout.history['val_loss'])\n",
    "plt.title('model loss -- MLP with dropout and BN')\n",
    "plt.ylabel('loss')\n",
    "plt.xlabel('epoch')\n",
    "plt.legend(['train', 'test'], loc='upper left')\n",
    "plt.tight_layout()"
   ]
  },
  {
   "cell_type": "markdown",
   "metadata": {},
   "source": [
    "### D'autre algorithmes d'optimisation"
   ]
  },
  {
   "cell_type": "markdown",
   "metadata": {},
   "source": [
    "Nous utilisons un optimiseur appelé RMSprop, qui consiste en une descente de gradient avec quelques termes supplémentaires impliqués. Il y a cependant d'autres possibilités. Adam, un autre optimiseur basé sur la descente de gradient, a récemment été introduit et a montré de très bons résultats en pratique.\n",
    "\n",
    "De bonnes comparaisons de différents optimiseurs sont disponibles [ici] (http://ruder.io/optimizing-gradient-descent/) et [ici] (https://3dbabove.com/2017/11/14/optimizationalgorithms/)."
   ]
  },
  {
   "cell_type": "code",
   "execution_count": null,
   "metadata": {
    "scrolled": true
   },
   "outputs": [
    {
     "name": "stderr",
     "output_type": "stream",
     "text": [
      "/anaconda3/lib/python3.7/site-packages/ipykernel_launcher.py:10: UserWarning: Update your `Dense` call to the Keras 2 API: `Dense(512, input_dim=784, kernel_initializer=\"uniform\")`\n",
      "  # Remove the CWD from sys.path while we load stuff.\n",
      "/anaconda3/lib/python3.7/site-packages/ipykernel_launcher.py:15: UserWarning: Update your `Dense` call to the Keras 2 API: `Dense(10, kernel_initializer=\"uniform\")`\n",
      "  from ipykernel import kernelapp as app\n"
     ]
    },
    {
     "name": "stdout",
     "output_type": "stream",
     "text": [
      "_________________________________________________________________\n",
      "Layer (type)                 Output Shape              Param #   \n",
      "=================================================================\n",
      "dense_5 (Dense)              (None, 512)               401920    \n",
      "_________________________________________________________________\n",
      "batch_normalization_3 (Batch (None, 512)               2048      \n",
      "_________________________________________________________________\n",
      "activation_3 (Activation)    (None, 512)               0         \n",
      "_________________________________________________________________\n",
      "dropout_2 (Dropout)          (None, 512)               0         \n",
      "_________________________________________________________________\n",
      "dense_6 (Dense)              (None, 10)                5130      \n",
      "_________________________________________________________________\n",
      "batch_normalization_4 (Batch (None, 10)                40        \n",
      "_________________________________________________________________\n",
      "activation_4 (Activation)    (None, 10)                0         \n",
      "=================================================================\n",
      "Total params: 409,138\n",
      "Trainable params: 408,094\n",
      "Non-trainable params: 1,044\n",
      "_________________________________________________________________\n",
      "Train on 60000 samples, validate on 10000 samples\n",
      "Epoch 1/20\n",
      "60000/60000 [==============================] - 7s 123us/step - loss: 0.4797 - acc: 0.9309 - val_loss: 0.2591 - val_acc: 0.9664\n",
      "Epoch 2/20\n",
      "60000/60000 [==============================] - 5s 87us/step - loss: 0.2482 - acc: 0.9667 - val_loss: 0.1740 - val_acc: 0.9751\n",
      "Epoch 3/20\n",
      "60000/60000 [==============================] - 6s 102us/step - loss: 0.1699 - acc: 0.9755 - val_loss: 0.1265 - val_acc: 0.9781\n",
      "Epoch 4/20\n",
      "60000/60000 [==============================] - 6s 97us/step - loss: 0.1273 - acc: 0.9801 - val_loss: 0.0995 - val_acc: 0.9795\n",
      "Epoch 5/20\n",
      "60000/60000 [==============================] - 6s 99us/step - loss: 0.0979 - acc: 0.9845 - val_loss: 0.0831 - val_acc: 0.9818\n",
      "Epoch 6/20\n",
      "60000/60000 [==============================] - 6s 97us/step - loss: 0.0805 - acc: 0.9869 - val_loss: 0.0783 - val_acc: 0.9809\n",
      "Epoch 7/20\n",
      "60000/60000 [==============================] - 7s 108us/step - loss: 0.0662 - acc: 0.9887 - val_loss: 0.0707 - val_acc: 0.9825\n",
      "Epoch 8/20\n",
      "60000/60000 [==============================] - 6s 94us/step - loss: 0.0553 - acc: 0.9904 - val_loss: 0.0619 - val_acc: 0.9842\n",
      "Epoch 9/20\n",
      "60000/60000 [==============================] - 6s 97us/step - loss: 0.0469 - acc: 0.9921 - val_loss: 0.0630 - val_acc: 0.9821\n",
      "Epoch 10/20\n",
      "60000/60000 [==============================] - 5s 88us/step - loss: 0.0403 - acc: 0.9932 - val_loss: 0.0668 - val_acc: 0.9802\n",
      "Epoch 11/20\n",
      "60000/60000 [==============================] - 6s 93us/step - loss: 0.0354 - acc: 0.9933 - val_loss: 0.0599 - val_acc: 0.9831\n",
      "Epoch 12/20\n",
      "56064/60000 [===========================>..] - ETA: 0s - loss: 0.0305 - acc: 0.9944"
     ]
    }
   ],
   "source": [
    "from keras.optimizers import adam\n",
    "\n",
    "# Parameters\n",
    "batch_size = 128\n",
    "epochs = 20\n",
    "\n",
    "# Specify model\n",
    "model = Sequential()\n",
    "\n",
    "model.add(Dense(512, input_dim=784, init=\"uniform\"))\n",
    "model.add(BatchNormalization())\n",
    "model.add(Activation(\"relu\"))\n",
    "model.add(Dropout(0.2))\n",
    "\n",
    "model.add(Dense(n_classes, init=\"uniform\"))\n",
    "model.add(BatchNormalization())\n",
    "model.add(Activation(\"softmax\"))\n",
    "\n",
    "# Print model and compile it\n",
    "model.summary()\n",
    "model.compile(loss=\"categorical_crossentropy\",\n",
    "              optimizer=adam(),\n",
    "              metrics=[\"accuracy\"])\n",
    "\n",
    "# Perform fit\n",
    "history_adam = model.fit(X_train, y_train_b,\n",
    "                    batch_size=batch_size,\n",
    "                    epochs=epochs,\n",
    "                    verbose=1,\n",
    "                    validation_data=(X_test, y_test_b))\n",
    "\n",
    "\n",
    "# Print results\n",
    "score = model.evaluate(X_test, y_test_b, verbose=0)\n",
    "print('Test loss/accuracy: %g, %g' % (score[0], score[1]))"
   ]
  },
  {
   "cell_type": "code",
   "execution_count": null,
   "metadata": {},
   "outputs": [],
   "source": [
    "plt.figure(figsize=(15, 5)) \n",
    "# Plot history for accuracy\n",
    "plt.subplot(121)\n",
    "plt.plot(history_adam.history['acc'])\n",
    "plt.plot(history_adam.history['val_acc'])\n",
    "plt.title('model accuracy -- MLP using Adam')\n",
    "plt.ylabel('accuracy')\n",
    "plt.xlabel('epoch')\n",
    "plt.legend(['train', 'test'], loc='upper left')\n",
    "# summarize history for loss\n",
    "plt.subplot(122)\n",
    "plt.plot(history_adam.history['loss'])\n",
    "plt.plot(history_adam.history['val_loss'])\n",
    "plt.title('model loss -- MLP using Adam')\n",
    "plt.ylabel('loss')\n",
    "plt.xlabel('epoch')\n",
    "plt.legend(['train', 'test'], loc='upper left')\n",
    "plt.tight_layout()"
   ]
  },
  {
   "cell_type": "markdown",
   "metadata": {},
   "source": [
    "### Rajouter des couches..."
   ]
  },
  {
   "cell_type": "markdown",
   "metadata": {},
   "source": [
    "Et si nous ajoutions simplement une autre couche? Disons que c'est identique au premier (bien que cela puisse être autre  chose - les possibilités ici sont infinies!)"
   ]
  },
  {
   "cell_type": "code",
   "execution_count": null,
   "metadata": {
    "scrolled": true
   },
   "outputs": [],
   "source": [
    "# Parameters\n",
    "batch_size = 128\n",
    "epochs = 20\n",
    "\n",
    "# Specify model\n",
    "model = Sequential()\n",
    "\n",
    "model.add(Dense(512, input_dim=784, init=\"uniform\"))\n",
    "model.add(BatchNormalization())\n",
    "model.add(Activation(\"relu\"))\n",
    "model.add(Dropout(0.2))\n",
    "\n",
    "model.add(Dense(512, input_dim=784, init=\"uniform\"))\n",
    "model.add(BatchNormalization())\n",
    "model.add(Activation(\"relu\"))\n",
    "model.add(Dropout(0.2))\n",
    "\n",
    "model.add(Dense(n_classes, init=\"uniform\"))\n",
    "model.add(BatchNormalization())\n",
    "model.add(Activation(\"softmax\"))\n",
    "\n",
    "# Print model and compile it\n",
    "model.summary()\n",
    "model.compile(loss=\"categorical_crossentropy\",\n",
    "              optimizer=adam(),\n",
    "              metrics=[\"accuracy\"])\n",
    "\n",
    "# Perform fit\n",
    "history_onemorelayer = model.fit(X_train, y_train_b,\n",
    "                    batch_size=batch_size,\n",
    "                    epochs=epochs,\n",
    "                    verbose=1,\n",
    "                    shuffle=False,\n",
    "                    validation_data=(X_test, y_test_b))\n",
    "\n",
    "\n",
    "# Print results\n",
    "score = model.evaluate(X_test, y_test_b, verbose=0)\n",
    "print('Test loss/accuracy: %g, %g' % (score[0], score[1]))"
   ]
  },
  {
   "cell_type": "code",
   "execution_count": null,
   "metadata": {},
   "outputs": [],
   "source": [
    "plt.figure(figsize=(15, 5)) \n",
    "# Plot history for accuracy\n",
    "plt.subplot(121)\n",
    "plt.plot(history_onemorelayer.history['acc'])\n",
    "plt.plot(history_onemorelayer.history['val_acc'])\n",
    "plt.title('model accuracy -- MLP with three layers')\n",
    "plt.ylabel('accuracy')\n",
    "plt.xlabel('epoch')\n",
    "plt.legend(['train', 'test'], loc='upper left')\n",
    "# summarize history for loss\n",
    "plt.subplot(122)\n",
    "plt.plot(history_onemorelayer.history['loss'])\n",
    "plt.plot(history_onemorelayer.history['val_loss'])\n",
    "plt.title('model loss -- MLP with three layers')\n",
    "plt.ylabel('loss')\n",
    "plt.xlabel('epoch')\n",
    "plt.legend(['train', 'test'], loc='upper left')\n",
    "plt.tight_layout()"
   ]
  },
  {
   "cell_type": "markdown",
   "metadata": {},
   "source": [
    "Comme nous pouvons le constater, il est très difficile de dépasser la précision de test de 98%. Pour ce faire, nous devrons examiner des modèles encore plus compliqués - plus précisément, des couches autres que celle dense. Nous ferons cela lors du prochain cours!"
   ]
  },
  {
   "cell_type": "code",
   "execution_count": null,
   "metadata": {},
   "outputs": [],
   "source": []
  }
 ],
 "metadata": {
  "kernelspec": {
   "display_name": "Python 3",
   "language": "python",
   "name": "python3"
  },
  "language_info": {
   "codemirror_mode": {
    "name": "ipython",
    "version": 3
   },
   "file_extension": ".py",
   "mimetype": "text/x-python",
   "name": "python",
   "nbconvert_exporter": "python",
   "pygments_lexer": "ipython3",
   "version": "3.7.1"
  }
 },
 "nbformat": 4,
 "nbformat_minor": 1
}
